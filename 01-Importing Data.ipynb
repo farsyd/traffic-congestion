{
 "cells": [
  {
   "cell_type": "markdown",
   "metadata": {},
   "source": [
    "## Project 3 - Predicting Roadway Congestion"
   ]
  },
  {
   "cell_type": "markdown",
   "metadata": {},
   "source": [
    "## Setting Up"
   ]
  },
  {
   "cell_type": "code",
   "execution_count": 1,
   "metadata": {
    "ExecuteTime": {
     "end_time": "2019-08-02T22:33:52.790885Z",
     "start_time": "2019-08-02T22:33:51.935401Z"
    }
   },
   "outputs": [],
   "source": [
    "import pandas as pd\n",
    "import numpy as np\n",
    "\n",
    "from psycopg2 import connect\n",
    "from psycopg2.extensions import ISOLATION_LEVEL_AUTOCOMMIT\n",
    "\n",
    "import sqlalchemy\n",
    "\n",
    "import requests\n",
    "import sys\n",
    "import pickle"
   ]
  },
  {
   "cell_type": "code",
   "execution_count": 2,
   "metadata": {
    "ExecuteTime": {
     "end_time": "2019-08-02T22:33:52.801355Z",
     "start_time": "2019-08-02T22:33:52.792955Z"
    }
   },
   "outputs": [
    {
     "data": {
      "text/plain": [
       "'1.3.5'"
      ]
     },
     "execution_count": 2,
     "metadata": {},
     "output_type": "execute_result"
    }
   ],
   "source": [
    "sqlalchemy.__version__"
   ]
  },
  {
   "cell_type": "markdown",
   "metadata": {},
   "source": [
    "### Connecting to PostgreSQL in an AWS EC2 Instance"
   ]
  },
  {
   "cell_type": "code",
   "execution_count": 3,
   "metadata": {
    "ExecuteTime": {
     "end_time": "2019-08-02T22:33:52.805873Z",
     "start_time": "2019-08-02T22:33:52.803357Z"
    }
   },
   "outputs": [],
   "source": [
    "params = {\n",
    "    'host': 'ec2-18-188-138-161.us-east-2.compute.amazonaws.com',\n",
    "    'user': 'ubuntu',\n",
    "    'port': 5432\n",
    "}"
   ]
  },
  {
   "cell_type": "code",
   "execution_count": 9,
   "metadata": {
    "ExecuteTime": {
     "end_time": "2019-08-02T22:34:08.993726Z",
     "start_time": "2019-08-02T22:34:08.757256Z"
    }
   },
   "outputs": [],
   "source": [
    "connection = connect(**params, dbname='traffic_p3')\n",
    "cursor = connection.cursor()"
   ]
  },
  {
   "cell_type": "code",
   "execution_count": 5,
   "metadata": {
    "ExecuteTime": {
     "end_time": "2019-08-02T22:33:52.914433Z",
     "start_time": "2019-08-02T22:33:52.911751Z"
    }
   },
   "outputs": [],
   "source": [
    "# cursor.execute(\"\"\"SELECT * FROM data\n",
    "#                LIMIT 10;\"\"\")\n",
    "# cursor.fetchall()"
   ]
  },
  {
   "cell_type": "code",
   "execution_count": 6,
   "metadata": {
    "ExecuteTime": {
     "end_time": "2019-08-02T22:33:52.919621Z",
     "start_time": "2019-08-02T22:33:52.916819Z"
    }
   },
   "outputs": [],
   "source": [
    "# query = \"\"\"\n",
    "# SELECT data.report_id, timestamp, \n",
    "#         avgspeed, vehiclecount,\n",
    "#         avgmeasuredtime, medianmeasuredtime,ndt_in_kmh,\n",
    "#         avgspeed - ndt_in_kmh as \"congestion\"\n",
    "# FROM data\n",
    "# LEFT JOIN metadata on data.report_id = metadata.report_id\n",
    "# \"\"\"\n",
    "\n",
    "# cursor.execute(query)\n",
    "# cursor.fetchmany(10)"
   ]
  },
  {
   "cell_type": "code",
   "execution_count": 7,
   "metadata": {
    "ExecuteTime": {
     "end_time": "2019-08-02T22:33:52.922958Z",
     "start_time": "2019-08-02T22:33:52.920964Z"
    }
   },
   "outputs": [],
   "source": [
    "# connection.rollback()"
   ]
  },
  {
   "cell_type": "markdown",
   "metadata": {},
   "source": [
    "### Pulling data from a database into a Pandas Dataframe"
   ]
  },
  {
   "cell_type": "code",
   "execution_count": 10,
   "metadata": {
    "ExecuteTime": {
     "end_time": "2019-08-02T22:50:49.153955Z",
     "start_time": "2019-08-02T22:34:20.253328Z"
    }
   },
   "outputs": [],
   "source": [
    "traf_init = pd.read_sql(\"\"\"\n",
    "SELECT data.report_id, timestamp \n",
    "        , avgspeed AS \"Obs_Speed\" \n",
    "        , ndt_in_kmh AS \"Nom_Speed\"\n",
    "        , avgmeasuredtime AS \"Av_Obs_Time\"\n",
    "        , medianmeasuredtime AS \"Med_Obs_Time\"\n",
    "        , duration_in_sec AS \"Nom_Time\"\n",
    "        , vehiclecount AS \"Vehicles\"\n",
    "        , CAST(avgspeed AS FLOAT)/ndt_in_kmh AS \"Con_Speed\"\n",
    "        , CAST(avgmeasuredtime AS FLOAT)/duration_in_sec AS \"Con_AvTime\"\n",
    "        , CAST(medianmeasuredtime AS FLOAT)/duration_in_sec \"Con_MedTime\"\n",
    "        , road_type\n",
    "        , distance_in_meters AS \"Distance\"\n",
    "FROM data\n",
    "LEFT JOIN metadata on data.report_id = metadata.report_id\n",
    "/*WHERE avgspeed <> 0 */\n",
    "\"\"\", connection)"
   ]
  },
  {
   "cell_type": "code",
   "execution_count": 11,
   "metadata": {
    "ExecuteTime": {
     "end_time": "2019-08-02T22:50:49.226315Z",
     "start_time": "2019-08-02T22:50:49.165556Z"
    },
    "scrolled": false
   },
   "outputs": [
    {
     "data": {
      "text/html": [
       "<div>\n",
       "<style scoped>\n",
       "    .dataframe tbody tr th:only-of-type {\n",
       "        vertical-align: middle;\n",
       "    }\n",
       "\n",
       "    .dataframe tbody tr th {\n",
       "        vertical-align: top;\n",
       "    }\n",
       "\n",
       "    .dataframe thead th {\n",
       "        text-align: right;\n",
       "    }\n",
       "</style>\n",
       "<table border=\"1\" class=\"dataframe\">\n",
       "  <thead>\n",
       "    <tr style=\"text-align: right;\">\n",
       "      <th></th>\n",
       "      <th>report_id</th>\n",
       "      <th>timestamp</th>\n",
       "      <th>Obs_Speed</th>\n",
       "      <th>Nom_Speed</th>\n",
       "      <th>Av_Obs_Time</th>\n",
       "      <th>Med_Obs_Time</th>\n",
       "      <th>Nom_Time</th>\n",
       "      <th>Vehicles</th>\n",
       "      <th>Con_Speed</th>\n",
       "      <th>Con_AvTime</th>\n",
       "      <th>Con_MedTime</th>\n",
       "      <th>road_type</th>\n",
       "      <th>Distance</th>\n",
       "    </tr>\n",
       "  </thead>\n",
       "  <tbody>\n",
       "    <tr>\n",
       "      <th>0</th>\n",
       "      <td>158324</td>\n",
       "      <td>2014-03-07T03:45:00</td>\n",
       "      <td>60</td>\n",
       "      <td>71</td>\n",
       "      <td>61</td>\n",
       "      <td>61</td>\n",
       "      <td>52</td>\n",
       "      <td>0</td>\n",
       "      <td>0.845070</td>\n",
       "      <td>1.173077</td>\n",
       "      <td>1.173077</td>\n",
       "      <td>MAJOR_ROAD</td>\n",
       "      <td>1030</td>\n",
       "    </tr>\n",
       "    <tr>\n",
       "      <th>1</th>\n",
       "      <td>158324</td>\n",
       "      <td>2014-03-07T03:50:00</td>\n",
       "      <td>60</td>\n",
       "      <td>71</td>\n",
       "      <td>61</td>\n",
       "      <td>61</td>\n",
       "      <td>52</td>\n",
       "      <td>0</td>\n",
       "      <td>0.845070</td>\n",
       "      <td>1.173077</td>\n",
       "      <td>1.173077</td>\n",
       "      <td>MAJOR_ROAD</td>\n",
       "      <td>1030</td>\n",
       "    </tr>\n",
       "    <tr>\n",
       "      <th>2</th>\n",
       "      <td>158324</td>\n",
       "      <td>2014-03-07T03:55:00</td>\n",
       "      <td>74</td>\n",
       "      <td>71</td>\n",
       "      <td>50</td>\n",
       "      <td>50</td>\n",
       "      <td>52</td>\n",
       "      <td>1</td>\n",
       "      <td>1.042254</td>\n",
       "      <td>0.961538</td>\n",
       "      <td>0.961538</td>\n",
       "      <td>MAJOR_ROAD</td>\n",
       "      <td>1030</td>\n",
       "    </tr>\n",
       "    <tr>\n",
       "      <th>3</th>\n",
       "      <td>158324</td>\n",
       "      <td>2014-03-07T04:00:00</td>\n",
       "      <td>74</td>\n",
       "      <td>71</td>\n",
       "      <td>50</td>\n",
       "      <td>50</td>\n",
       "      <td>52</td>\n",
       "      <td>1</td>\n",
       "      <td>1.042254</td>\n",
       "      <td>0.961538</td>\n",
       "      <td>0.961538</td>\n",
       "      <td>MAJOR_ROAD</td>\n",
       "      <td>1030</td>\n",
       "    </tr>\n",
       "    <tr>\n",
       "      <th>4</th>\n",
       "      <td>158324</td>\n",
       "      <td>2014-03-07T04:05:00</td>\n",
       "      <td>66</td>\n",
       "      <td>71</td>\n",
       "      <td>56</td>\n",
       "      <td>56</td>\n",
       "      <td>52</td>\n",
       "      <td>2</td>\n",
       "      <td>0.929577</td>\n",
       "      <td>1.076923</td>\n",
       "      <td>1.076923</td>\n",
       "      <td>MAJOR_ROAD</td>\n",
       "      <td>1030</td>\n",
       "    </tr>\n",
       "  </tbody>\n",
       "</table>\n",
       "</div>"
      ],
      "text/plain": [
       "   report_id            timestamp  Obs_Speed  Nom_Speed  Av_Obs_Time  \\\n",
       "0     158324  2014-03-07T03:45:00         60         71           61   \n",
       "1     158324  2014-03-07T03:50:00         60         71           61   \n",
       "2     158324  2014-03-07T03:55:00         74         71           50   \n",
       "3     158324  2014-03-07T04:00:00         74         71           50   \n",
       "4     158324  2014-03-07T04:05:00         66         71           56   \n",
       "\n",
       "   Med_Obs_Time  Nom_Time  Vehicles  Con_Speed  Con_AvTime  Con_MedTime  \\\n",
       "0            61        52         0   0.845070    1.173077     1.173077   \n",
       "1            61        52         0   0.845070    1.173077     1.173077   \n",
       "2            50        52         1   1.042254    0.961538     0.961538   \n",
       "3            50        52         1   1.042254    0.961538     0.961538   \n",
       "4            56        52         2   0.929577    1.076923     1.076923   \n",
       "\n",
       "    road_type  Distance  \n",
       "0  MAJOR_ROAD      1030  \n",
       "1  MAJOR_ROAD      1030  \n",
       "2  MAJOR_ROAD      1030  \n",
       "3  MAJOR_ROAD      1030  \n",
       "4  MAJOR_ROAD      1030  "
      ]
     },
     "execution_count": 11,
     "metadata": {},
     "output_type": "execute_result"
    }
   ],
   "source": [
    "traf_init.head()"
   ]
  },
  {
   "cell_type": "code",
   "execution_count": 12,
   "metadata": {
    "ExecuteTime": {
     "end_time": "2019-08-02T22:51:13.781427Z",
     "start_time": "2019-08-02T22:50:49.228882Z"
    }
   },
   "outputs": [
    {
     "data": {
      "text/html": [
       "<div>\n",
       "<style scoped>\n",
       "    .dataframe tbody tr th:only-of-type {\n",
       "        vertical-align: middle;\n",
       "    }\n",
       "\n",
       "    .dataframe tbody tr th {\n",
       "        vertical-align: top;\n",
       "    }\n",
       "\n",
       "    .dataframe thead th {\n",
       "        text-align: right;\n",
       "    }\n",
       "</style>\n",
       "<table border=\"1\" class=\"dataframe\">\n",
       "  <thead>\n",
       "    <tr style=\"text-align: right;\">\n",
       "      <th></th>\n",
       "      <th>report_id</th>\n",
       "      <th>Obs_Speed</th>\n",
       "      <th>Nom_Speed</th>\n",
       "      <th>Av_Obs_Time</th>\n",
       "      <th>Med_Obs_Time</th>\n",
       "      <th>Nom_Time</th>\n",
       "      <th>Vehicles</th>\n",
       "      <th>Con_Speed</th>\n",
       "      <th>Con_AvTime</th>\n",
       "      <th>Con_MedTime</th>\n",
       "      <th>Distance</th>\n",
       "    </tr>\n",
       "  </thead>\n",
       "  <tbody>\n",
       "    <tr>\n",
       "      <th>count</th>\n",
       "      <td>2.509754e+07</td>\n",
       "      <td>2.509754e+07</td>\n",
       "      <td>2.509754e+07</td>\n",
       "      <td>2.509754e+07</td>\n",
       "      <td>2.509754e+07</td>\n",
       "      <td>2.509754e+07</td>\n",
       "      <td>2.509754e+07</td>\n",
       "      <td>2.509754e+07</td>\n",
       "      <td>2.509754e+07</td>\n",
       "      <td>2.509754e+07</td>\n",
       "      <td>2.509754e+07</td>\n",
       "    </tr>\n",
       "    <tr>\n",
       "      <th>mean</th>\n",
       "      <td>1.904559e+05</td>\n",
       "      <td>4.363956e+01</td>\n",
       "      <td>4.470692e+01</td>\n",
       "      <td>1.070772e+02</td>\n",
       "      <td>1.070772e+02</td>\n",
       "      <td>9.153759e+01</td>\n",
       "      <td>3.155117e+00</td>\n",
       "      <td>9.902374e-01</td>\n",
       "      <td>1.187958e+00</td>\n",
       "      <td>1.187958e+00</td>\n",
       "      <td>1.150786e+03</td>\n",
       "    </tr>\n",
       "    <tr>\n",
       "      <th>std</th>\n",
       "      <td>1.169769e+04</td>\n",
       "      <td>2.192994e+01</td>\n",
       "      <td>1.624141e+01</td>\n",
       "      <td>1.764342e+02</td>\n",
       "      <td>1.764342e+02</td>\n",
       "      <td>5.871725e+01</td>\n",
       "      <td>5.864022e+00</td>\n",
       "      <td>4.460763e-01</td>\n",
       "      <td>1.642894e+00</td>\n",
       "      <td>1.642894e+00</td>\n",
       "      <td>1.071866e+03</td>\n",
       "    </tr>\n",
       "    <tr>\n",
       "      <th>min</th>\n",
       "      <td>1.583240e+05</td>\n",
       "      <td>0.000000e+00</td>\n",
       "      <td>1.900000e+01</td>\n",
       "      <td>0.000000e+00</td>\n",
       "      <td>0.000000e+00</td>\n",
       "      <td>3.100000e+01</td>\n",
       "      <td>0.000000e+00</td>\n",
       "      <td>0.000000e+00</td>\n",
       "      <td>0.000000e+00</td>\n",
       "      <td>0.000000e+00</td>\n",
       "      <td>3.210000e+02</td>\n",
       "    </tr>\n",
       "    <tr>\n",
       "      <th>25%</th>\n",
       "      <td>1.846210e+05</td>\n",
       "      <td>2.900000e+01</td>\n",
       "      <td>3.500000e+01</td>\n",
       "      <td>5.300000e+01</td>\n",
       "      <td>5.300000e+01</td>\n",
       "      <td>5.900000e+01</td>\n",
       "      <td>0.000000e+00</td>\n",
       "      <td>7.551020e-01</td>\n",
       "      <td>7.741935e-01</td>\n",
       "      <td>7.741935e-01</td>\n",
       "      <td>6.370000e+02</td>\n",
       "    </tr>\n",
       "    <tr>\n",
       "      <th>50%</th>\n",
       "      <td>1.907700e+05</td>\n",
       "      <td>4.200000e+01</td>\n",
       "      <td>4.100000e+01</td>\n",
       "      <td>8.000000e+01</td>\n",
       "      <td>8.000000e+01</td>\n",
       "      <td>8.000000e+01</td>\n",
       "      <td>1.000000e+00</td>\n",
       "      <td>1.000000e+00</td>\n",
       "      <td>9.619048e-01</td>\n",
       "      <td>9.619048e-01</td>\n",
       "      <td>8.900000e+02</td>\n",
       "    </tr>\n",
       "    <tr>\n",
       "      <th>75%</th>\n",
       "      <td>1.979770e+05</td>\n",
       "      <td>5.700000e+01</td>\n",
       "      <td>4.900000e+01</td>\n",
       "      <td>1.160000e+02</td>\n",
       "      <td>1.160000e+02</td>\n",
       "      <td>1.060000e+02</td>\n",
       "      <td>4.000000e+00</td>\n",
       "      <td>1.230769e+00</td>\n",
       "      <td>1.238636e+00</td>\n",
       "      <td>1.238636e+00</td>\n",
       "      <td>1.258000e+03</td>\n",
       "    </tr>\n",
       "    <tr>\n",
       "      <th>max</th>\n",
       "      <td>2.101990e+05</td>\n",
       "      <td>1.500000e+02</td>\n",
       "      <td>1.170000e+02</td>\n",
       "      <td>3.656000e+03</td>\n",
       "      <td>3.656000e+03</td>\n",
       "      <td>7.160000e+02</td>\n",
       "      <td>1.210000e+02</td>\n",
       "      <td>7.842105e+00</td>\n",
       "      <td>4.970690e+01</td>\n",
       "      <td>4.970690e+01</td>\n",
       "      <td>1.306800e+04</td>\n",
       "    </tr>\n",
       "  </tbody>\n",
       "</table>\n",
       "</div>"
      ],
      "text/plain": [
       "          report_id     Obs_Speed     Nom_Speed   Av_Obs_Time  Med_Obs_Time  \\\n",
       "count  2.509754e+07  2.509754e+07  2.509754e+07  2.509754e+07  2.509754e+07   \n",
       "mean   1.904559e+05  4.363956e+01  4.470692e+01  1.070772e+02  1.070772e+02   \n",
       "std    1.169769e+04  2.192994e+01  1.624141e+01  1.764342e+02  1.764342e+02   \n",
       "min    1.583240e+05  0.000000e+00  1.900000e+01  0.000000e+00  0.000000e+00   \n",
       "25%    1.846210e+05  2.900000e+01  3.500000e+01  5.300000e+01  5.300000e+01   \n",
       "50%    1.907700e+05  4.200000e+01  4.100000e+01  8.000000e+01  8.000000e+01   \n",
       "75%    1.979770e+05  5.700000e+01  4.900000e+01  1.160000e+02  1.160000e+02   \n",
       "max    2.101990e+05  1.500000e+02  1.170000e+02  3.656000e+03  3.656000e+03   \n",
       "\n",
       "           Nom_Time      Vehicles     Con_Speed    Con_AvTime   Con_MedTime  \\\n",
       "count  2.509754e+07  2.509754e+07  2.509754e+07  2.509754e+07  2.509754e+07   \n",
       "mean   9.153759e+01  3.155117e+00  9.902374e-01  1.187958e+00  1.187958e+00   \n",
       "std    5.871725e+01  5.864022e+00  4.460763e-01  1.642894e+00  1.642894e+00   \n",
       "min    3.100000e+01  0.000000e+00  0.000000e+00  0.000000e+00  0.000000e+00   \n",
       "25%    5.900000e+01  0.000000e+00  7.551020e-01  7.741935e-01  7.741935e-01   \n",
       "50%    8.000000e+01  1.000000e+00  1.000000e+00  9.619048e-01  9.619048e-01   \n",
       "75%    1.060000e+02  4.000000e+00  1.230769e+00  1.238636e+00  1.238636e+00   \n",
       "max    7.160000e+02  1.210000e+02  7.842105e+00  4.970690e+01  4.970690e+01   \n",
       "\n",
       "           Distance  \n",
       "count  2.509754e+07  \n",
       "mean   1.150786e+03  \n",
       "std    1.071866e+03  \n",
       "min    3.210000e+02  \n",
       "25%    6.370000e+02  \n",
       "50%    8.900000e+02  \n",
       "75%    1.258000e+03  \n",
       "max    1.306800e+04  "
      ]
     },
     "execution_count": 12,
     "metadata": {},
     "output_type": "execute_result"
    }
   ],
   "source": [
    "traf_init.describe()"
   ]
  },
  {
   "cell_type": "code",
   "execution_count": 13,
   "metadata": {
    "ExecuteTime": {
     "end_time": "2019-08-02T22:51:13.797232Z",
     "start_time": "2019-08-02T22:51:13.786499Z"
    },
    "scrolled": true
   },
   "outputs": [
    {
     "name": "stdout",
     "output_type": "stream",
     "text": [
      "<class 'pandas.core.frame.DataFrame'>\n",
      "RangeIndex: 25097541 entries, 0 to 25097540\n",
      "Data columns (total 13 columns):\n",
      "report_id       int64\n",
      "timestamp       object\n",
      "Obs_Speed       int64\n",
      "Nom_Speed       int64\n",
      "Av_Obs_Time     int64\n",
      "Med_Obs_Time    int64\n",
      "Nom_Time        int64\n",
      "Vehicles        int64\n",
      "Con_Speed       float64\n",
      "Con_AvTime      float64\n",
      "Con_MedTime     float64\n",
      "road_type       object\n",
      "Distance        int64\n",
      "dtypes: float64(3), int64(8), object(2)\n",
      "memory usage: 2.4+ GB\n"
     ]
    }
   ],
   "source": [
    "traf_init.info()"
   ]
  },
  {
   "cell_type": "markdown",
   "metadata": {},
   "source": [
    "## Pickling the data for next steps"
   ]
  },
  {
   "cell_type": "code",
   "execution_count": 14,
   "metadata": {
    "ExecuteTime": {
     "end_time": "2019-08-02T22:51:55.576568Z",
     "start_time": "2019-08-02T22:51:13.799465Z"
    }
   },
   "outputs": [],
   "source": [
    "with open('traf_init.pickle', 'wb') as to_write:\n",
    "    pickle.dump(traf_init, to_write)"
   ]
  },
  {
   "cell_type": "markdown",
   "metadata": {},
   "source": [
    "## Misc (Used Elsewhere, Commented Out)"
   ]
  },
  {
   "cell_type": "code",
   "execution_count": 15,
   "metadata": {
    "ExecuteTime": {
     "end_time": "2019-08-02T22:51:55.590477Z",
     "start_time": "2019-08-02T22:51:55.583532Z"
    }
   },
   "outputs": [],
   "source": [
    "# traf_sample = traf_full.sample(n = 7000, random_state = 13 )"
   ]
  },
  {
   "cell_type": "code",
   "execution_count": 16,
   "metadata": {
    "ExecuteTime": {
     "end_time": "2019-08-02T22:51:55.596699Z",
     "start_time": "2019-08-02T22:51:55.594635Z"
    }
   },
   "outputs": [],
   "source": [
    "# traf_sample"
   ]
  },
  {
   "cell_type": "code",
   "execution_count": 17,
   "metadata": {
    "ExecuteTime": {
     "end_time": "2019-08-02T22:51:55.606142Z",
     "start_time": "2019-08-02T22:51:55.603114Z"
    }
   },
   "outputs": [],
   "source": [
    "# traf_sample.describe()"
   ]
  },
  {
   "cell_type": "code",
   "execution_count": 18,
   "metadata": {
    "ExecuteTime": {
     "end_time": "2019-08-02T22:51:55.611190Z",
     "start_time": "2019-08-02T22:51:55.609106Z"
    }
   },
   "outputs": [],
   "source": [
    "# traf_sample.info()"
   ]
  },
  {
   "cell_type": "code",
   "execution_count": 19,
   "metadata": {
    "ExecuteTime": {
     "end_time": "2019-08-02T22:51:55.616639Z",
     "start_time": "2019-08-02T22:51:55.614349Z"
    }
   },
   "outputs": [],
   "source": [
    "# with open('traf_sample.pickle', 'wb') as to_write:\n",
    "#     pickle.dump(traf_sample, to_write)"
   ]
  }
 ],
 "metadata": {
  "kernelspec": {
   "display_name": "Python [conda env:metis] *",
   "language": "python",
   "name": "conda-env-metis-py"
  },
  "language_info": {
   "codemirror_mode": {
    "name": "ipython",
    "version": 3
   },
   "file_extension": ".py",
   "mimetype": "text/x-python",
   "name": "python",
   "nbconvert_exporter": "python",
   "pygments_lexer": "ipython3",
   "version": "3.6.8"
  },
  "toc": {
   "base_numbering": 1,
   "nav_menu": {},
   "number_sections": true,
   "sideBar": true,
   "skip_h1_title": false,
   "title_cell": "Table of Contents",
   "title_sidebar": "Contents",
   "toc_cell": false,
   "toc_position": {},
   "toc_section_display": true,
   "toc_window_display": false
  },
  "varInspector": {
   "cols": {
    "lenName": 16,
    "lenType": 16,
    "lenVar": 40
   },
   "kernels_config": {
    "python": {
     "delete_cmd_postfix": "",
     "delete_cmd_prefix": "del ",
     "library": "var_list.py",
     "varRefreshCmd": "print(var_dic_list())"
    },
    "r": {
     "delete_cmd_postfix": ") ",
     "delete_cmd_prefix": "rm(",
     "library": "var_list.r",
     "varRefreshCmd": "cat(var_dic_list()) "
    }
   },
   "types_to_exclude": [
    "module",
    "function",
    "builtin_function_or_method",
    "instance",
    "_Feature"
   ],
   "window_display": false
  }
 },
 "nbformat": 4,
 "nbformat_minor": 2
}
