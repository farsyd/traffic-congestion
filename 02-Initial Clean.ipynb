{
 "cells": [
  {
   "cell_type": "markdown",
   "metadata": {},
   "source": [
    "## Imports"
   ]
  },
  {
   "cell_type": "code",
   "execution_count": 1,
   "metadata": {
    "ExecuteTime": {
     "end_time": "2019-08-05T20:30:32.259017Z",
     "start_time": "2019-08-05T20:30:30.530935Z"
    }
   },
   "outputs": [
    {
     "name": "stdout",
     "output_type": "stream",
     "text": [
      "Populating the interactive namespace from numpy and matplotlib\n"
     ]
    }
   ],
   "source": [
    "import pandas as pd\n",
    "import numpy as np\n",
    "\n",
    "import pickle\n",
    "\n",
    "%pylab inline\n",
    "%config InlineBackend.figure_formats = ['retina']\n",
    "\n",
    "import seaborn as sns\n",
    "sns.set()\n",
    "\n",
    "from sklearn.linear_model import LogisticRegression\n",
    "from sklearn.model_selection import train_test_split\n",
    "from sklearn.metrics import f1_score\n",
    "\n",
    "import featuretools as ft\n",
    "#import utils"
   ]
  },
  {
   "cell_type": "code",
   "execution_count": 2,
   "metadata": {
    "ExecuteTime": {
     "end_time": "2019-08-05T20:30:48.014394Z",
     "start_time": "2019-08-05T20:30:32.261211Z"
    }
   },
   "outputs": [],
   "source": [
    "with open('traf_init.pickle','rb') as read_file:\n",
    "    traf_init = pickle.load(read_file)"
   ]
  },
  {
   "cell_type": "code",
   "execution_count": 3,
   "metadata": {
    "ExecuteTime": {
     "end_time": "2019-08-05T20:30:48.396609Z",
     "start_time": "2019-08-05T20:30:48.016550Z"
    }
   },
   "outputs": [
    {
     "data": {
      "text/html": [
       "<div>\n",
       "<style scoped>\n",
       "    .dataframe tbody tr th:only-of-type {\n",
       "        vertical-align: middle;\n",
       "    }\n",
       "\n",
       "    .dataframe tbody tr th {\n",
       "        vertical-align: top;\n",
       "    }\n",
       "\n",
       "    .dataframe thead th {\n",
       "        text-align: right;\n",
       "    }\n",
       "</style>\n",
       "<table border=\"1\" class=\"dataframe\">\n",
       "  <thead>\n",
       "    <tr style=\"text-align: right;\">\n",
       "      <th></th>\n",
       "      <th>report_id</th>\n",
       "      <th>timestamp</th>\n",
       "      <th>Obs_Speed</th>\n",
       "      <th>Nom_Speed</th>\n",
       "      <th>Av_Obs_Time</th>\n",
       "      <th>Med_Obs_Time</th>\n",
       "      <th>Nom_Time</th>\n",
       "      <th>Vehicles</th>\n",
       "      <th>Con_Speed</th>\n",
       "      <th>Con_AvTime</th>\n",
       "      <th>Con_MedTime</th>\n",
       "      <th>road_type</th>\n",
       "      <th>Distance</th>\n",
       "    </tr>\n",
       "  </thead>\n",
       "  <tbody>\n",
       "    <tr>\n",
       "      <th>0</th>\n",
       "      <td>158324</td>\n",
       "      <td>2014-03-07T03:45:00</td>\n",
       "      <td>60</td>\n",
       "      <td>71</td>\n",
       "      <td>61</td>\n",
       "      <td>61</td>\n",
       "      <td>52</td>\n",
       "      <td>0</td>\n",
       "      <td>0.845070</td>\n",
       "      <td>1.173077</td>\n",
       "      <td>1.173077</td>\n",
       "      <td>MAJOR_ROAD</td>\n",
       "      <td>1030</td>\n",
       "    </tr>\n",
       "    <tr>\n",
       "      <th>1</th>\n",
       "      <td>158324</td>\n",
       "      <td>2014-03-07T03:50:00</td>\n",
       "      <td>60</td>\n",
       "      <td>71</td>\n",
       "      <td>61</td>\n",
       "      <td>61</td>\n",
       "      <td>52</td>\n",
       "      <td>0</td>\n",
       "      <td>0.845070</td>\n",
       "      <td>1.173077</td>\n",
       "      <td>1.173077</td>\n",
       "      <td>MAJOR_ROAD</td>\n",
       "      <td>1030</td>\n",
       "    </tr>\n",
       "    <tr>\n",
       "      <th>2</th>\n",
       "      <td>158324</td>\n",
       "      <td>2014-03-07T03:55:00</td>\n",
       "      <td>74</td>\n",
       "      <td>71</td>\n",
       "      <td>50</td>\n",
       "      <td>50</td>\n",
       "      <td>52</td>\n",
       "      <td>1</td>\n",
       "      <td>1.042254</td>\n",
       "      <td>0.961538</td>\n",
       "      <td>0.961538</td>\n",
       "      <td>MAJOR_ROAD</td>\n",
       "      <td>1030</td>\n",
       "    </tr>\n",
       "    <tr>\n",
       "      <th>3</th>\n",
       "      <td>158324</td>\n",
       "      <td>2014-03-07T04:00:00</td>\n",
       "      <td>74</td>\n",
       "      <td>71</td>\n",
       "      <td>50</td>\n",
       "      <td>50</td>\n",
       "      <td>52</td>\n",
       "      <td>1</td>\n",
       "      <td>1.042254</td>\n",
       "      <td>0.961538</td>\n",
       "      <td>0.961538</td>\n",
       "      <td>MAJOR_ROAD</td>\n",
       "      <td>1030</td>\n",
       "    </tr>\n",
       "    <tr>\n",
       "      <th>4</th>\n",
       "      <td>158324</td>\n",
       "      <td>2014-03-07T04:05:00</td>\n",
       "      <td>66</td>\n",
       "      <td>71</td>\n",
       "      <td>56</td>\n",
       "      <td>56</td>\n",
       "      <td>52</td>\n",
       "      <td>2</td>\n",
       "      <td>0.929577</td>\n",
       "      <td>1.076923</td>\n",
       "      <td>1.076923</td>\n",
       "      <td>MAJOR_ROAD</td>\n",
       "      <td>1030</td>\n",
       "    </tr>\n",
       "  </tbody>\n",
       "</table>\n",
       "</div>"
      ],
      "text/plain": [
       "   report_id            timestamp  Obs_Speed  Nom_Speed  Av_Obs_Time  \\\n",
       "0     158324  2014-03-07T03:45:00         60         71           61   \n",
       "1     158324  2014-03-07T03:50:00         60         71           61   \n",
       "2     158324  2014-03-07T03:55:00         74         71           50   \n",
       "3     158324  2014-03-07T04:00:00         74         71           50   \n",
       "4     158324  2014-03-07T04:05:00         66         71           56   \n",
       "\n",
       "   Med_Obs_Time  Nom_Time  Vehicles  Con_Speed  Con_AvTime  Con_MedTime  \\\n",
       "0            61        52         0   0.845070    1.173077     1.173077   \n",
       "1            61        52         0   0.845070    1.173077     1.173077   \n",
       "2            50        52         1   1.042254    0.961538     0.961538   \n",
       "3            50        52         1   1.042254    0.961538     0.961538   \n",
       "4            56        52         2   0.929577    1.076923     1.076923   \n",
       "\n",
       "    road_type  Distance  \n",
       "0  MAJOR_ROAD      1030  \n",
       "1  MAJOR_ROAD      1030  \n",
       "2  MAJOR_ROAD      1030  \n",
       "3  MAJOR_ROAD      1030  \n",
       "4  MAJOR_ROAD      1030  "
      ]
     },
     "execution_count": 3,
     "metadata": {},
     "output_type": "execute_result"
    }
   ],
   "source": [
    "traf_init.head()"
   ]
  },
  {
   "cell_type": "markdown",
   "metadata": {},
   "source": [
    "## Creating the Target Variable"
   ]
  },
  {
   "cell_type": "code",
   "execution_count": 4,
   "metadata": {
    "ExecuteTime": {
     "end_time": "2019-08-05T20:30:49.532340Z",
     "start_time": "2019-08-05T20:30:48.400158Z"
    }
   },
   "outputs": [],
   "source": [
    "traf_init['Is_Congested'] = ((np.where(traf_init['Con_Speed'] < 0.85, 1, 0)) \n",
    "                                & (np.where(traf_init['Con_AvTime'] > 1.15, 1, 0)) \n",
    "                                & (np.where(traf_init['Con_MedTime'] > 1.15, 1, 0)))"
   ]
  },
  {
   "cell_type": "code",
   "execution_count": 5,
   "metadata": {
    "ExecuteTime": {
     "end_time": "2019-08-05T20:30:49.554058Z",
     "start_time": "2019-08-05T20:30:49.534342Z"
    }
   },
   "outputs": [
    {
     "data": {
      "text/html": [
       "<div>\n",
       "<style scoped>\n",
       "    .dataframe tbody tr th:only-of-type {\n",
       "        vertical-align: middle;\n",
       "    }\n",
       "\n",
       "    .dataframe tbody tr th {\n",
       "        vertical-align: top;\n",
       "    }\n",
       "\n",
       "    .dataframe thead th {\n",
       "        text-align: right;\n",
       "    }\n",
       "</style>\n",
       "<table border=\"1\" class=\"dataframe\">\n",
       "  <thead>\n",
       "    <tr style=\"text-align: right;\">\n",
       "      <th></th>\n",
       "      <th>report_id</th>\n",
       "      <th>timestamp</th>\n",
       "      <th>Obs_Speed</th>\n",
       "      <th>Nom_Speed</th>\n",
       "      <th>Av_Obs_Time</th>\n",
       "      <th>Med_Obs_Time</th>\n",
       "      <th>Nom_Time</th>\n",
       "      <th>Vehicles</th>\n",
       "      <th>Con_Speed</th>\n",
       "      <th>Con_AvTime</th>\n",
       "      <th>Con_MedTime</th>\n",
       "      <th>road_type</th>\n",
       "      <th>Distance</th>\n",
       "      <th>Is_Congested</th>\n",
       "    </tr>\n",
       "  </thead>\n",
       "  <tbody>\n",
       "    <tr>\n",
       "      <th>0</th>\n",
       "      <td>158324</td>\n",
       "      <td>2014-03-07T03:45:00</td>\n",
       "      <td>60</td>\n",
       "      <td>71</td>\n",
       "      <td>61</td>\n",
       "      <td>61</td>\n",
       "      <td>52</td>\n",
       "      <td>0</td>\n",
       "      <td>0.845070</td>\n",
       "      <td>1.173077</td>\n",
       "      <td>1.173077</td>\n",
       "      <td>MAJOR_ROAD</td>\n",
       "      <td>1030</td>\n",
       "      <td>1</td>\n",
       "    </tr>\n",
       "    <tr>\n",
       "      <th>1</th>\n",
       "      <td>158324</td>\n",
       "      <td>2014-03-07T03:50:00</td>\n",
       "      <td>60</td>\n",
       "      <td>71</td>\n",
       "      <td>61</td>\n",
       "      <td>61</td>\n",
       "      <td>52</td>\n",
       "      <td>0</td>\n",
       "      <td>0.845070</td>\n",
       "      <td>1.173077</td>\n",
       "      <td>1.173077</td>\n",
       "      <td>MAJOR_ROAD</td>\n",
       "      <td>1030</td>\n",
       "      <td>1</td>\n",
       "    </tr>\n",
       "    <tr>\n",
       "      <th>2</th>\n",
       "      <td>158324</td>\n",
       "      <td>2014-03-07T03:55:00</td>\n",
       "      <td>74</td>\n",
       "      <td>71</td>\n",
       "      <td>50</td>\n",
       "      <td>50</td>\n",
       "      <td>52</td>\n",
       "      <td>1</td>\n",
       "      <td>1.042254</td>\n",
       "      <td>0.961538</td>\n",
       "      <td>0.961538</td>\n",
       "      <td>MAJOR_ROAD</td>\n",
       "      <td>1030</td>\n",
       "      <td>0</td>\n",
       "    </tr>\n",
       "    <tr>\n",
       "      <th>3</th>\n",
       "      <td>158324</td>\n",
       "      <td>2014-03-07T04:00:00</td>\n",
       "      <td>74</td>\n",
       "      <td>71</td>\n",
       "      <td>50</td>\n",
       "      <td>50</td>\n",
       "      <td>52</td>\n",
       "      <td>1</td>\n",
       "      <td>1.042254</td>\n",
       "      <td>0.961538</td>\n",
       "      <td>0.961538</td>\n",
       "      <td>MAJOR_ROAD</td>\n",
       "      <td>1030</td>\n",
       "      <td>0</td>\n",
       "    </tr>\n",
       "    <tr>\n",
       "      <th>4</th>\n",
       "      <td>158324</td>\n",
       "      <td>2014-03-07T04:05:00</td>\n",
       "      <td>66</td>\n",
       "      <td>71</td>\n",
       "      <td>56</td>\n",
       "      <td>56</td>\n",
       "      <td>52</td>\n",
       "      <td>2</td>\n",
       "      <td>0.929577</td>\n",
       "      <td>1.076923</td>\n",
       "      <td>1.076923</td>\n",
       "      <td>MAJOR_ROAD</td>\n",
       "      <td>1030</td>\n",
       "      <td>0</td>\n",
       "    </tr>\n",
       "  </tbody>\n",
       "</table>\n",
       "</div>"
      ],
      "text/plain": [
       "   report_id            timestamp  Obs_Speed  Nom_Speed  Av_Obs_Time  \\\n",
       "0     158324  2014-03-07T03:45:00         60         71           61   \n",
       "1     158324  2014-03-07T03:50:00         60         71           61   \n",
       "2     158324  2014-03-07T03:55:00         74         71           50   \n",
       "3     158324  2014-03-07T04:00:00         74         71           50   \n",
       "4     158324  2014-03-07T04:05:00         66         71           56   \n",
       "\n",
       "   Med_Obs_Time  Nom_Time  Vehicles  Con_Speed  Con_AvTime  Con_MedTime  \\\n",
       "0            61        52         0   0.845070    1.173077     1.173077   \n",
       "1            61        52         0   0.845070    1.173077     1.173077   \n",
       "2            50        52         1   1.042254    0.961538     0.961538   \n",
       "3            50        52         1   1.042254    0.961538     0.961538   \n",
       "4            56        52         2   0.929577    1.076923     1.076923   \n",
       "\n",
       "    road_type  Distance  Is_Congested  \n",
       "0  MAJOR_ROAD      1030             1  \n",
       "1  MAJOR_ROAD      1030             1  \n",
       "2  MAJOR_ROAD      1030             0  \n",
       "3  MAJOR_ROAD      1030             0  \n",
       "4  MAJOR_ROAD      1030             0  "
      ]
     },
     "execution_count": 5,
     "metadata": {},
     "output_type": "execute_result"
    }
   ],
   "source": [
    "traf_init.head()"
   ]
  },
  {
   "cell_type": "markdown",
   "metadata": {},
   "source": [
    "## Cleaning up Features"
   ]
  },
  {
   "cell_type": "code",
   "execution_count": 6,
   "metadata": {
    "ExecuteTime": {
     "end_time": "2019-08-05T20:30:54.401363Z",
     "start_time": "2019-08-05T20:30:49.556213Z"
    }
   },
   "outputs": [
    {
     "name": "stdout",
     "output_type": "stream",
     "text": [
      "<class 'pandas.core.frame.DataFrame'>\n",
      "RangeIndex: 25097541 entries, 0 to 25097540\n",
      "Data columns (total 14 columns):\n",
      "report_id       int64\n",
      "timestamp       object\n",
      "Obs_Speed       int64\n",
      "Nom_Speed       int64\n",
      "Av_Obs_Time     int64\n",
      "Med_Obs_Time    int64\n",
      "Nom_Time        int64\n",
      "Vehicles        int64\n",
      "Con_Speed       float64\n",
      "Con_AvTime      float64\n",
      "Con_MedTime     float64\n",
      "road_type       object\n",
      "Distance        int64\n",
      "Is_Congested    int64\n",
      "dtypes: float64(3), int64(9), object(2)\n",
      "memory usage: 2.6+ GB\n"
     ]
    }
   ],
   "source": [
    "traf_init.info()"
   ]
  },
  {
   "cell_type": "markdown",
   "metadata": {},
   "source": [
    "### Convert timestamp to datetime object"
   ]
  },
  {
   "cell_type": "code",
   "execution_count": 7,
   "metadata": {
    "ExecuteTime": {
     "end_time": "2019-08-05T20:31:00.832704Z",
     "start_time": "2019-08-05T20:30:54.406919Z"
    }
   },
   "outputs": [],
   "source": [
    "traf_init['timestamp'] = pd.to_datetime(traf_init['timestamp'])"
   ]
  },
  {
   "cell_type": "code",
   "execution_count": 8,
   "metadata": {
    "ExecuteTime": {
     "end_time": "2019-08-05T20:31:00.843906Z",
     "start_time": "2019-08-05T20:31:00.835772Z"
    }
   },
   "outputs": [
    {
     "name": "stdout",
     "output_type": "stream",
     "text": [
      "<class 'pandas.core.frame.DataFrame'>\n",
      "RangeIndex: 25097541 entries, 0 to 25097540\n",
      "Data columns (total 14 columns):\n",
      "report_id       int64\n",
      "timestamp       datetime64[ns]\n",
      "Obs_Speed       int64\n",
      "Nom_Speed       int64\n",
      "Av_Obs_Time     int64\n",
      "Med_Obs_Time    int64\n",
      "Nom_Time        int64\n",
      "Vehicles        int64\n",
      "Con_Speed       float64\n",
      "Con_AvTime      float64\n",
      "Con_MedTime     float64\n",
      "road_type       object\n",
      "Distance        int64\n",
      "Is_Congested    int64\n",
      "dtypes: datetime64[ns](1), float64(3), int64(9), object(1)\n",
      "memory usage: 2.6+ GB\n"
     ]
    }
   ],
   "source": [
    "traf_init.info()"
   ]
  },
  {
   "cell_type": "code",
   "execution_count": 9,
   "metadata": {
    "ExecuteTime": {
     "end_time": "2019-08-05T20:31:00.868180Z",
     "start_time": "2019-08-05T20:31:00.846899Z"
    }
   },
   "outputs": [
    {
     "data": {
      "text/html": [
       "<div>\n",
       "<style scoped>\n",
       "    .dataframe tbody tr th:only-of-type {\n",
       "        vertical-align: middle;\n",
       "    }\n",
       "\n",
       "    .dataframe tbody tr th {\n",
       "        vertical-align: top;\n",
       "    }\n",
       "\n",
       "    .dataframe thead th {\n",
       "        text-align: right;\n",
       "    }\n",
       "</style>\n",
       "<table border=\"1\" class=\"dataframe\">\n",
       "  <thead>\n",
       "    <tr style=\"text-align: right;\">\n",
       "      <th></th>\n",
       "      <th>report_id</th>\n",
       "      <th>timestamp</th>\n",
       "      <th>Obs_Speed</th>\n",
       "      <th>Nom_Speed</th>\n",
       "      <th>Av_Obs_Time</th>\n",
       "      <th>Med_Obs_Time</th>\n",
       "      <th>Nom_Time</th>\n",
       "      <th>Vehicles</th>\n",
       "      <th>Con_Speed</th>\n",
       "      <th>Con_AvTime</th>\n",
       "      <th>Con_MedTime</th>\n",
       "      <th>road_type</th>\n",
       "      <th>Distance</th>\n",
       "      <th>Is_Congested</th>\n",
       "    </tr>\n",
       "  </thead>\n",
       "  <tbody>\n",
       "    <tr>\n",
       "      <th>0</th>\n",
       "      <td>158324</td>\n",
       "      <td>2014-03-07 03:45:00</td>\n",
       "      <td>60</td>\n",
       "      <td>71</td>\n",
       "      <td>61</td>\n",
       "      <td>61</td>\n",
       "      <td>52</td>\n",
       "      <td>0</td>\n",
       "      <td>0.845070</td>\n",
       "      <td>1.173077</td>\n",
       "      <td>1.173077</td>\n",
       "      <td>MAJOR_ROAD</td>\n",
       "      <td>1030</td>\n",
       "      <td>1</td>\n",
       "    </tr>\n",
       "    <tr>\n",
       "      <th>1</th>\n",
       "      <td>158324</td>\n",
       "      <td>2014-03-07 03:50:00</td>\n",
       "      <td>60</td>\n",
       "      <td>71</td>\n",
       "      <td>61</td>\n",
       "      <td>61</td>\n",
       "      <td>52</td>\n",
       "      <td>0</td>\n",
       "      <td>0.845070</td>\n",
       "      <td>1.173077</td>\n",
       "      <td>1.173077</td>\n",
       "      <td>MAJOR_ROAD</td>\n",
       "      <td>1030</td>\n",
       "      <td>1</td>\n",
       "    </tr>\n",
       "    <tr>\n",
       "      <th>2</th>\n",
       "      <td>158324</td>\n",
       "      <td>2014-03-07 03:55:00</td>\n",
       "      <td>74</td>\n",
       "      <td>71</td>\n",
       "      <td>50</td>\n",
       "      <td>50</td>\n",
       "      <td>52</td>\n",
       "      <td>1</td>\n",
       "      <td>1.042254</td>\n",
       "      <td>0.961538</td>\n",
       "      <td>0.961538</td>\n",
       "      <td>MAJOR_ROAD</td>\n",
       "      <td>1030</td>\n",
       "      <td>0</td>\n",
       "    </tr>\n",
       "    <tr>\n",
       "      <th>3</th>\n",
       "      <td>158324</td>\n",
       "      <td>2014-03-07 04:00:00</td>\n",
       "      <td>74</td>\n",
       "      <td>71</td>\n",
       "      <td>50</td>\n",
       "      <td>50</td>\n",
       "      <td>52</td>\n",
       "      <td>1</td>\n",
       "      <td>1.042254</td>\n",
       "      <td>0.961538</td>\n",
       "      <td>0.961538</td>\n",
       "      <td>MAJOR_ROAD</td>\n",
       "      <td>1030</td>\n",
       "      <td>0</td>\n",
       "    </tr>\n",
       "    <tr>\n",
       "      <th>4</th>\n",
       "      <td>158324</td>\n",
       "      <td>2014-03-07 04:05:00</td>\n",
       "      <td>66</td>\n",
       "      <td>71</td>\n",
       "      <td>56</td>\n",
       "      <td>56</td>\n",
       "      <td>52</td>\n",
       "      <td>2</td>\n",
       "      <td>0.929577</td>\n",
       "      <td>1.076923</td>\n",
       "      <td>1.076923</td>\n",
       "      <td>MAJOR_ROAD</td>\n",
       "      <td>1030</td>\n",
       "      <td>0</td>\n",
       "    </tr>\n",
       "  </tbody>\n",
       "</table>\n",
       "</div>"
      ],
      "text/plain": [
       "   report_id           timestamp  Obs_Speed  Nom_Speed  Av_Obs_Time  \\\n",
       "0     158324 2014-03-07 03:45:00         60         71           61   \n",
       "1     158324 2014-03-07 03:50:00         60         71           61   \n",
       "2     158324 2014-03-07 03:55:00         74         71           50   \n",
       "3     158324 2014-03-07 04:00:00         74         71           50   \n",
       "4     158324 2014-03-07 04:05:00         66         71           56   \n",
       "\n",
       "   Med_Obs_Time  Nom_Time  Vehicles  Con_Speed  Con_AvTime  Con_MedTime  \\\n",
       "0            61        52         0   0.845070    1.173077     1.173077   \n",
       "1            61        52         0   0.845070    1.173077     1.173077   \n",
       "2            50        52         1   1.042254    0.961538     0.961538   \n",
       "3            50        52         1   1.042254    0.961538     0.961538   \n",
       "4            56        52         2   0.929577    1.076923     1.076923   \n",
       "\n",
       "    road_type  Distance  Is_Congested  \n",
       "0  MAJOR_ROAD      1030             1  \n",
       "1  MAJOR_ROAD      1030             1  \n",
       "2  MAJOR_ROAD      1030             0  \n",
       "3  MAJOR_ROAD      1030             0  \n",
       "4  MAJOR_ROAD      1030             0  "
      ]
     },
     "execution_count": 9,
     "metadata": {},
     "output_type": "execute_result"
    }
   ],
   "source": [
    "traf_init.head()"
   ]
  },
  {
   "cell_type": "markdown",
   "metadata": {},
   "source": [
    "### Get Dummies for Road Type"
   ]
  },
  {
   "cell_type": "code",
   "execution_count": 10,
   "metadata": {
    "ExecuteTime": {
     "end_time": "2019-08-05T20:31:02.705299Z",
     "start_time": "2019-08-05T20:31:00.870090Z"
    }
   },
   "outputs": [],
   "source": [
    "road_dummy = pd.get_dummies(traf_init['road_type'])"
   ]
  },
  {
   "cell_type": "code",
   "execution_count": 11,
   "metadata": {
    "ExecuteTime": {
     "end_time": "2019-08-05T20:31:10.692687Z",
     "start_time": "2019-08-05T20:31:02.707071Z"
    }
   },
   "outputs": [],
   "source": [
    "traf_init = traf_init.merge(road_dummy, left_index=True, right_index=True)"
   ]
  },
  {
   "cell_type": "code",
   "execution_count": 12,
   "metadata": {
    "ExecuteTime": {
     "end_time": "2019-08-05T20:31:11.269814Z",
     "start_time": "2019-08-05T20:31:10.695176Z"
    },
    "scrolled": true
   },
   "outputs": [
    {
     "data": {
      "text/html": [
       "<div>\n",
       "<style scoped>\n",
       "    .dataframe tbody tr th:only-of-type {\n",
       "        vertical-align: middle;\n",
       "    }\n",
       "\n",
       "    .dataframe tbody tr th {\n",
       "        vertical-align: top;\n",
       "    }\n",
       "\n",
       "    .dataframe thead th {\n",
       "        text-align: right;\n",
       "    }\n",
       "</style>\n",
       "<table border=\"1\" class=\"dataframe\">\n",
       "  <thead>\n",
       "    <tr style=\"text-align: right;\">\n",
       "      <th></th>\n",
       "      <th>report_id</th>\n",
       "      <th>timestamp</th>\n",
       "      <th>Obs_Speed</th>\n",
       "      <th>Nom_Speed</th>\n",
       "      <th>Av_Obs_Time</th>\n",
       "      <th>Med_Obs_Time</th>\n",
       "      <th>Nom_Time</th>\n",
       "      <th>Vehicles</th>\n",
       "      <th>Con_Speed</th>\n",
       "      <th>Con_AvTime</th>\n",
       "      <th>Con_MedTime</th>\n",
       "      <th>road_type</th>\n",
       "      <th>Distance</th>\n",
       "      <th>Is_Congested</th>\n",
       "      <th>MAJOR_ROAD</th>\n",
       "      <th>ROAD</th>\n",
       "      <th>STREET</th>\n",
       "    </tr>\n",
       "  </thead>\n",
       "  <tbody>\n",
       "    <tr>\n",
       "      <th>0</th>\n",
       "      <td>158324</td>\n",
       "      <td>2014-03-07 03:45:00</td>\n",
       "      <td>60</td>\n",
       "      <td>71</td>\n",
       "      <td>61</td>\n",
       "      <td>61</td>\n",
       "      <td>52</td>\n",
       "      <td>0</td>\n",
       "      <td>0.845070</td>\n",
       "      <td>1.173077</td>\n",
       "      <td>1.173077</td>\n",
       "      <td>MAJOR_ROAD</td>\n",
       "      <td>1030</td>\n",
       "      <td>1</td>\n",
       "      <td>1</td>\n",
       "      <td>0</td>\n",
       "      <td>0</td>\n",
       "    </tr>\n",
       "    <tr>\n",
       "      <th>1</th>\n",
       "      <td>158324</td>\n",
       "      <td>2014-03-07 03:50:00</td>\n",
       "      <td>60</td>\n",
       "      <td>71</td>\n",
       "      <td>61</td>\n",
       "      <td>61</td>\n",
       "      <td>52</td>\n",
       "      <td>0</td>\n",
       "      <td>0.845070</td>\n",
       "      <td>1.173077</td>\n",
       "      <td>1.173077</td>\n",
       "      <td>MAJOR_ROAD</td>\n",
       "      <td>1030</td>\n",
       "      <td>1</td>\n",
       "      <td>1</td>\n",
       "      <td>0</td>\n",
       "      <td>0</td>\n",
       "    </tr>\n",
       "    <tr>\n",
       "      <th>2</th>\n",
       "      <td>158324</td>\n",
       "      <td>2014-03-07 03:55:00</td>\n",
       "      <td>74</td>\n",
       "      <td>71</td>\n",
       "      <td>50</td>\n",
       "      <td>50</td>\n",
       "      <td>52</td>\n",
       "      <td>1</td>\n",
       "      <td>1.042254</td>\n",
       "      <td>0.961538</td>\n",
       "      <td>0.961538</td>\n",
       "      <td>MAJOR_ROAD</td>\n",
       "      <td>1030</td>\n",
       "      <td>0</td>\n",
       "      <td>1</td>\n",
       "      <td>0</td>\n",
       "      <td>0</td>\n",
       "    </tr>\n",
       "    <tr>\n",
       "      <th>3</th>\n",
       "      <td>158324</td>\n",
       "      <td>2014-03-07 04:00:00</td>\n",
       "      <td>74</td>\n",
       "      <td>71</td>\n",
       "      <td>50</td>\n",
       "      <td>50</td>\n",
       "      <td>52</td>\n",
       "      <td>1</td>\n",
       "      <td>1.042254</td>\n",
       "      <td>0.961538</td>\n",
       "      <td>0.961538</td>\n",
       "      <td>MAJOR_ROAD</td>\n",
       "      <td>1030</td>\n",
       "      <td>0</td>\n",
       "      <td>1</td>\n",
       "      <td>0</td>\n",
       "      <td>0</td>\n",
       "    </tr>\n",
       "    <tr>\n",
       "      <th>4</th>\n",
       "      <td>158324</td>\n",
       "      <td>2014-03-07 04:05:00</td>\n",
       "      <td>66</td>\n",
       "      <td>71</td>\n",
       "      <td>56</td>\n",
       "      <td>56</td>\n",
       "      <td>52</td>\n",
       "      <td>2</td>\n",
       "      <td>0.929577</td>\n",
       "      <td>1.076923</td>\n",
       "      <td>1.076923</td>\n",
       "      <td>MAJOR_ROAD</td>\n",
       "      <td>1030</td>\n",
       "      <td>0</td>\n",
       "      <td>1</td>\n",
       "      <td>0</td>\n",
       "      <td>0</td>\n",
       "    </tr>\n",
       "    <tr>\n",
       "      <th>5</th>\n",
       "      <td>158324</td>\n",
       "      <td>2014-03-07 04:10:00</td>\n",
       "      <td>68</td>\n",
       "      <td>71</td>\n",
       "      <td>54</td>\n",
       "      <td>54</td>\n",
       "      <td>52</td>\n",
       "      <td>3</td>\n",
       "      <td>0.957746</td>\n",
       "      <td>1.038462</td>\n",
       "      <td>1.038462</td>\n",
       "      <td>MAJOR_ROAD</td>\n",
       "      <td>1030</td>\n",
       "      <td>0</td>\n",
       "      <td>1</td>\n",
       "      <td>0</td>\n",
       "      <td>0</td>\n",
       "    </tr>\n",
       "    <tr>\n",
       "      <th>6</th>\n",
       "      <td>158324</td>\n",
       "      <td>2014-03-07 04:15:00</td>\n",
       "      <td>62</td>\n",
       "      <td>71</td>\n",
       "      <td>59</td>\n",
       "      <td>59</td>\n",
       "      <td>52</td>\n",
       "      <td>1</td>\n",
       "      <td>0.873239</td>\n",
       "      <td>1.134615</td>\n",
       "      <td>1.134615</td>\n",
       "      <td>MAJOR_ROAD</td>\n",
       "      <td>1030</td>\n",
       "      <td>0</td>\n",
       "      <td>1</td>\n",
       "      <td>0</td>\n",
       "      <td>0</td>\n",
       "    </tr>\n",
       "    <tr>\n",
       "      <th>7</th>\n",
       "      <td>158324</td>\n",
       "      <td>2014-03-07 04:20:00</td>\n",
       "      <td>62</td>\n",
       "      <td>71</td>\n",
       "      <td>59</td>\n",
       "      <td>59</td>\n",
       "      <td>52</td>\n",
       "      <td>1</td>\n",
       "      <td>0.873239</td>\n",
       "      <td>1.134615</td>\n",
       "      <td>1.134615</td>\n",
       "      <td>MAJOR_ROAD</td>\n",
       "      <td>1030</td>\n",
       "      <td>0</td>\n",
       "      <td>1</td>\n",
       "      <td>0</td>\n",
       "      <td>0</td>\n",
       "    </tr>\n",
       "    <tr>\n",
       "      <th>8</th>\n",
       "      <td>158324</td>\n",
       "      <td>2014-03-07 04:25:00</td>\n",
       "      <td>62</td>\n",
       "      <td>71</td>\n",
       "      <td>59</td>\n",
       "      <td>59</td>\n",
       "      <td>52</td>\n",
       "      <td>0</td>\n",
       "      <td>0.873239</td>\n",
       "      <td>1.134615</td>\n",
       "      <td>1.134615</td>\n",
       "      <td>MAJOR_ROAD</td>\n",
       "      <td>1030</td>\n",
       "      <td>0</td>\n",
       "      <td>1</td>\n",
       "      <td>0</td>\n",
       "      <td>0</td>\n",
       "    </tr>\n",
       "    <tr>\n",
       "      <th>9</th>\n",
       "      <td>158324</td>\n",
       "      <td>2014-03-07 04:30:00</td>\n",
       "      <td>48</td>\n",
       "      <td>71</td>\n",
       "      <td>77</td>\n",
       "      <td>77</td>\n",
       "      <td>52</td>\n",
       "      <td>2</td>\n",
       "      <td>0.676056</td>\n",
       "      <td>1.480769</td>\n",
       "      <td>1.480769</td>\n",
       "      <td>MAJOR_ROAD</td>\n",
       "      <td>1030</td>\n",
       "      <td>1</td>\n",
       "      <td>1</td>\n",
       "      <td>0</td>\n",
       "      <td>0</td>\n",
       "    </tr>\n",
       "    <tr>\n",
       "      <th>10</th>\n",
       "      <td>158324</td>\n",
       "      <td>2014-03-07 04:35:00</td>\n",
       "      <td>47</td>\n",
       "      <td>71</td>\n",
       "      <td>78</td>\n",
       "      <td>78</td>\n",
       "      <td>52</td>\n",
       "      <td>3</td>\n",
       "      <td>0.661972</td>\n",
       "      <td>1.500000</td>\n",
       "      <td>1.500000</td>\n",
       "      <td>MAJOR_ROAD</td>\n",
       "      <td>1030</td>\n",
       "      <td>1</td>\n",
       "      <td>1</td>\n",
       "      <td>0</td>\n",
       "      <td>0</td>\n",
       "    </tr>\n",
       "    <tr>\n",
       "      <th>11</th>\n",
       "      <td>158324</td>\n",
       "      <td>2014-03-07 04:40:00</td>\n",
       "      <td>66</td>\n",
       "      <td>71</td>\n",
       "      <td>56</td>\n",
       "      <td>56</td>\n",
       "      <td>52</td>\n",
       "      <td>4</td>\n",
       "      <td>0.929577</td>\n",
       "      <td>1.076923</td>\n",
       "      <td>1.076923</td>\n",
       "      <td>MAJOR_ROAD</td>\n",
       "      <td>1030</td>\n",
       "      <td>0</td>\n",
       "      <td>1</td>\n",
       "      <td>0</td>\n",
       "      <td>0</td>\n",
       "    </tr>\n",
       "    <tr>\n",
       "      <th>12</th>\n",
       "      <td>158324</td>\n",
       "      <td>2014-03-07 04:45:00</td>\n",
       "      <td>62</td>\n",
       "      <td>71</td>\n",
       "      <td>59</td>\n",
       "      <td>59</td>\n",
       "      <td>52</td>\n",
       "      <td>3</td>\n",
       "      <td>0.873239</td>\n",
       "      <td>1.134615</td>\n",
       "      <td>1.134615</td>\n",
       "      <td>MAJOR_ROAD</td>\n",
       "      <td>1030</td>\n",
       "      <td>0</td>\n",
       "      <td>1</td>\n",
       "      <td>0</td>\n",
       "      <td>0</td>\n",
       "    </tr>\n",
       "    <tr>\n",
       "      <th>13</th>\n",
       "      <td>158324</td>\n",
       "      <td>2014-03-07 04:50:00</td>\n",
       "      <td>61</td>\n",
       "      <td>71</td>\n",
       "      <td>60</td>\n",
       "      <td>60</td>\n",
       "      <td>52</td>\n",
       "      <td>7</td>\n",
       "      <td>0.859155</td>\n",
       "      <td>1.153846</td>\n",
       "      <td>1.153846</td>\n",
       "      <td>MAJOR_ROAD</td>\n",
       "      <td>1030</td>\n",
       "      <td>0</td>\n",
       "      <td>1</td>\n",
       "      <td>0</td>\n",
       "      <td>0</td>\n",
       "    </tr>\n",
       "    <tr>\n",
       "      <th>14</th>\n",
       "      <td>158324</td>\n",
       "      <td>2014-03-07 04:55:00</td>\n",
       "      <td>65</td>\n",
       "      <td>71</td>\n",
       "      <td>57</td>\n",
       "      <td>57</td>\n",
       "      <td>52</td>\n",
       "      <td>4</td>\n",
       "      <td>0.915493</td>\n",
       "      <td>1.096154</td>\n",
       "      <td>1.096154</td>\n",
       "      <td>MAJOR_ROAD</td>\n",
       "      <td>1030</td>\n",
       "      <td>0</td>\n",
       "      <td>1</td>\n",
       "      <td>0</td>\n",
       "      <td>0</td>\n",
       "    </tr>\n",
       "  </tbody>\n",
       "</table>\n",
       "</div>"
      ],
      "text/plain": [
       "    report_id           timestamp  Obs_Speed  Nom_Speed  Av_Obs_Time  \\\n",
       "0      158324 2014-03-07 03:45:00         60         71           61   \n",
       "1      158324 2014-03-07 03:50:00         60         71           61   \n",
       "2      158324 2014-03-07 03:55:00         74         71           50   \n",
       "3      158324 2014-03-07 04:00:00         74         71           50   \n",
       "4      158324 2014-03-07 04:05:00         66         71           56   \n",
       "5      158324 2014-03-07 04:10:00         68         71           54   \n",
       "6      158324 2014-03-07 04:15:00         62         71           59   \n",
       "7      158324 2014-03-07 04:20:00         62         71           59   \n",
       "8      158324 2014-03-07 04:25:00         62         71           59   \n",
       "9      158324 2014-03-07 04:30:00         48         71           77   \n",
       "10     158324 2014-03-07 04:35:00         47         71           78   \n",
       "11     158324 2014-03-07 04:40:00         66         71           56   \n",
       "12     158324 2014-03-07 04:45:00         62         71           59   \n",
       "13     158324 2014-03-07 04:50:00         61         71           60   \n",
       "14     158324 2014-03-07 04:55:00         65         71           57   \n",
       "\n",
       "    Med_Obs_Time  Nom_Time  Vehicles  Con_Speed  Con_AvTime  Con_MedTime  \\\n",
       "0             61        52         0   0.845070    1.173077     1.173077   \n",
       "1             61        52         0   0.845070    1.173077     1.173077   \n",
       "2             50        52         1   1.042254    0.961538     0.961538   \n",
       "3             50        52         1   1.042254    0.961538     0.961538   \n",
       "4             56        52         2   0.929577    1.076923     1.076923   \n",
       "5             54        52         3   0.957746    1.038462     1.038462   \n",
       "6             59        52         1   0.873239    1.134615     1.134615   \n",
       "7             59        52         1   0.873239    1.134615     1.134615   \n",
       "8             59        52         0   0.873239    1.134615     1.134615   \n",
       "9             77        52         2   0.676056    1.480769     1.480769   \n",
       "10            78        52         3   0.661972    1.500000     1.500000   \n",
       "11            56        52         4   0.929577    1.076923     1.076923   \n",
       "12            59        52         3   0.873239    1.134615     1.134615   \n",
       "13            60        52         7   0.859155    1.153846     1.153846   \n",
       "14            57        52         4   0.915493    1.096154     1.096154   \n",
       "\n",
       "     road_type  Distance  Is_Congested  MAJOR_ROAD  ROAD  STREET  \n",
       "0   MAJOR_ROAD      1030             1           1     0       0  \n",
       "1   MAJOR_ROAD      1030             1           1     0       0  \n",
       "2   MAJOR_ROAD      1030             0           1     0       0  \n",
       "3   MAJOR_ROAD      1030             0           1     0       0  \n",
       "4   MAJOR_ROAD      1030             0           1     0       0  \n",
       "5   MAJOR_ROAD      1030             0           1     0       0  \n",
       "6   MAJOR_ROAD      1030             0           1     0       0  \n",
       "7   MAJOR_ROAD      1030             0           1     0       0  \n",
       "8   MAJOR_ROAD      1030             0           1     0       0  \n",
       "9   MAJOR_ROAD      1030             1           1     0       0  \n",
       "10  MAJOR_ROAD      1030             1           1     0       0  \n",
       "11  MAJOR_ROAD      1030             0           1     0       0  \n",
       "12  MAJOR_ROAD      1030             0           1     0       0  \n",
       "13  MAJOR_ROAD      1030             0           1     0       0  \n",
       "14  MAJOR_ROAD      1030             0           1     0       0  "
      ]
     },
     "execution_count": 12,
     "metadata": {},
     "output_type": "execute_result"
    }
   ],
   "source": [
    "traf_init.head(15)"
   ]
  },
  {
   "cell_type": "markdown",
   "metadata": {},
   "source": [
    "### Rename ReportID to Location, since that's what it is"
   ]
  },
  {
   "cell_type": "code",
   "execution_count": 13,
   "metadata": {
    "ExecuteTime": {
     "end_time": "2019-08-05T20:31:23.628681Z",
     "start_time": "2019-08-05T20:31:11.272440Z"
    }
   },
   "outputs": [],
   "source": [
    "traf_init = traf_init.rename(columns = {\"report_id\" : \"Location\"})"
   ]
  },
  {
   "cell_type": "code",
   "execution_count": 14,
   "metadata": {
    "ExecuteTime": {
     "end_time": "2019-08-05T20:31:23.671072Z",
     "start_time": "2019-08-05T20:31:23.633793Z"
    }
   },
   "outputs": [
    {
     "data": {
      "text/html": [
       "<div>\n",
       "<style scoped>\n",
       "    .dataframe tbody tr th:only-of-type {\n",
       "        vertical-align: middle;\n",
       "    }\n",
       "\n",
       "    .dataframe tbody tr th {\n",
       "        vertical-align: top;\n",
       "    }\n",
       "\n",
       "    .dataframe thead th {\n",
       "        text-align: right;\n",
       "    }\n",
       "</style>\n",
       "<table border=\"1\" class=\"dataframe\">\n",
       "  <thead>\n",
       "    <tr style=\"text-align: right;\">\n",
       "      <th></th>\n",
       "      <th>Location</th>\n",
       "      <th>timestamp</th>\n",
       "      <th>Obs_Speed</th>\n",
       "      <th>Nom_Speed</th>\n",
       "      <th>Av_Obs_Time</th>\n",
       "      <th>Med_Obs_Time</th>\n",
       "      <th>Nom_Time</th>\n",
       "      <th>Vehicles</th>\n",
       "      <th>Con_Speed</th>\n",
       "      <th>Con_AvTime</th>\n",
       "      <th>Con_MedTime</th>\n",
       "      <th>road_type</th>\n",
       "      <th>Distance</th>\n",
       "      <th>Is_Congested</th>\n",
       "      <th>MAJOR_ROAD</th>\n",
       "      <th>ROAD</th>\n",
       "      <th>STREET</th>\n",
       "    </tr>\n",
       "  </thead>\n",
       "  <tbody>\n",
       "    <tr>\n",
       "      <th>0</th>\n",
       "      <td>158324</td>\n",
       "      <td>2014-03-07 03:45:00</td>\n",
       "      <td>60</td>\n",
       "      <td>71</td>\n",
       "      <td>61</td>\n",
       "      <td>61</td>\n",
       "      <td>52</td>\n",
       "      <td>0</td>\n",
       "      <td>0.845070</td>\n",
       "      <td>1.173077</td>\n",
       "      <td>1.173077</td>\n",
       "      <td>MAJOR_ROAD</td>\n",
       "      <td>1030</td>\n",
       "      <td>1</td>\n",
       "      <td>1</td>\n",
       "      <td>0</td>\n",
       "      <td>0</td>\n",
       "    </tr>\n",
       "    <tr>\n",
       "      <th>1</th>\n",
       "      <td>158324</td>\n",
       "      <td>2014-03-07 03:50:00</td>\n",
       "      <td>60</td>\n",
       "      <td>71</td>\n",
       "      <td>61</td>\n",
       "      <td>61</td>\n",
       "      <td>52</td>\n",
       "      <td>0</td>\n",
       "      <td>0.845070</td>\n",
       "      <td>1.173077</td>\n",
       "      <td>1.173077</td>\n",
       "      <td>MAJOR_ROAD</td>\n",
       "      <td>1030</td>\n",
       "      <td>1</td>\n",
       "      <td>1</td>\n",
       "      <td>0</td>\n",
       "      <td>0</td>\n",
       "    </tr>\n",
       "    <tr>\n",
       "      <th>2</th>\n",
       "      <td>158324</td>\n",
       "      <td>2014-03-07 03:55:00</td>\n",
       "      <td>74</td>\n",
       "      <td>71</td>\n",
       "      <td>50</td>\n",
       "      <td>50</td>\n",
       "      <td>52</td>\n",
       "      <td>1</td>\n",
       "      <td>1.042254</td>\n",
       "      <td>0.961538</td>\n",
       "      <td>0.961538</td>\n",
       "      <td>MAJOR_ROAD</td>\n",
       "      <td>1030</td>\n",
       "      <td>0</td>\n",
       "      <td>1</td>\n",
       "      <td>0</td>\n",
       "      <td>0</td>\n",
       "    </tr>\n",
       "    <tr>\n",
       "      <th>3</th>\n",
       "      <td>158324</td>\n",
       "      <td>2014-03-07 04:00:00</td>\n",
       "      <td>74</td>\n",
       "      <td>71</td>\n",
       "      <td>50</td>\n",
       "      <td>50</td>\n",
       "      <td>52</td>\n",
       "      <td>1</td>\n",
       "      <td>1.042254</td>\n",
       "      <td>0.961538</td>\n",
       "      <td>0.961538</td>\n",
       "      <td>MAJOR_ROAD</td>\n",
       "      <td>1030</td>\n",
       "      <td>0</td>\n",
       "      <td>1</td>\n",
       "      <td>0</td>\n",
       "      <td>0</td>\n",
       "    </tr>\n",
       "    <tr>\n",
       "      <th>4</th>\n",
       "      <td>158324</td>\n",
       "      <td>2014-03-07 04:05:00</td>\n",
       "      <td>66</td>\n",
       "      <td>71</td>\n",
       "      <td>56</td>\n",
       "      <td>56</td>\n",
       "      <td>52</td>\n",
       "      <td>2</td>\n",
       "      <td>0.929577</td>\n",
       "      <td>1.076923</td>\n",
       "      <td>1.076923</td>\n",
       "      <td>MAJOR_ROAD</td>\n",
       "      <td>1030</td>\n",
       "      <td>0</td>\n",
       "      <td>1</td>\n",
       "      <td>0</td>\n",
       "      <td>0</td>\n",
       "    </tr>\n",
       "  </tbody>\n",
       "</table>\n",
       "</div>"
      ],
      "text/plain": [
       "   Location           timestamp  Obs_Speed  Nom_Speed  Av_Obs_Time  \\\n",
       "0    158324 2014-03-07 03:45:00         60         71           61   \n",
       "1    158324 2014-03-07 03:50:00         60         71           61   \n",
       "2    158324 2014-03-07 03:55:00         74         71           50   \n",
       "3    158324 2014-03-07 04:00:00         74         71           50   \n",
       "4    158324 2014-03-07 04:05:00         66         71           56   \n",
       "\n",
       "   Med_Obs_Time  Nom_Time  Vehicles  Con_Speed  Con_AvTime  Con_MedTime  \\\n",
       "0            61        52         0   0.845070    1.173077     1.173077   \n",
       "1            61        52         0   0.845070    1.173077     1.173077   \n",
       "2            50        52         1   1.042254    0.961538     0.961538   \n",
       "3            50        52         1   1.042254    0.961538     0.961538   \n",
       "4            56        52         2   0.929577    1.076923     1.076923   \n",
       "\n",
       "    road_type  Distance  Is_Congested  MAJOR_ROAD  ROAD  STREET  \n",
       "0  MAJOR_ROAD      1030             1           1     0       0  \n",
       "1  MAJOR_ROAD      1030             1           1     0       0  \n",
       "2  MAJOR_ROAD      1030             0           1     0       0  \n",
       "3  MAJOR_ROAD      1030             0           1     0       0  \n",
       "4  MAJOR_ROAD      1030             0           1     0       0  "
      ]
     },
     "execution_count": 14,
     "metadata": {},
     "output_type": "execute_result"
    }
   ],
   "source": [
    "traf_init.head()"
   ]
  },
  {
   "cell_type": "markdown",
   "metadata": {},
   "source": [
    "## Get a Sample to Speed up Initial Processing"
   ]
  },
  {
   "cell_type": "code",
   "execution_count": 15,
   "metadata": {
    "ExecuteTime": {
     "end_time": "2019-08-05T20:31:25.127100Z",
     "start_time": "2019-08-05T20:31:23.674367Z"
    }
   },
   "outputs": [],
   "source": [
    "traf_sample = traf_init.sample(n = 7000, random_state = 13 )"
   ]
  },
  {
   "cell_type": "markdown",
   "metadata": {},
   "source": [
    "### Check if class distribution between sample and data is similar"
   ]
  },
  {
   "cell_type": "code",
   "execution_count": 16,
   "metadata": {
    "ExecuteTime": {
     "end_time": "2019-08-05T20:31:25.442586Z",
     "start_time": "2019-08-05T20:31:25.130370Z"
    }
   },
   "outputs": [
    {
     "name": "stdout",
     "output_type": "stream",
     "text": [
      "0    0.69752\n",
      "1    0.30248\n",
      "Name: Is_Congested, dtype: float64\n"
     ]
    }
   ],
   "source": [
    "target_pcts_init = traf_init['Is_Congested'].value_counts(normalize = True)\n",
    "print(target_pcts_init)"
   ]
  },
  {
   "cell_type": "code",
   "execution_count": 17,
   "metadata": {
    "ExecuteTime": {
     "end_time": "2019-08-05T20:31:25.762694Z",
     "start_time": "2019-08-05T20:31:25.445109Z"
    }
   },
   "outputs": [
    {
     "data": {
      "text/plain": [
       "<matplotlib.axes._subplots.AxesSubplot at 0x1a29445630>"
      ]
     },
     "execution_count": 17,
     "metadata": {},
     "output_type": "execute_result"
    },
    {
     "data": {
      "image/png": "[encoded data removed]",
      "text/plain": [
       "<Figure size 432x288 with 1 Axes>"
      ]
     },
     "metadata": {
      "image/png": {
       "height": 247,
       "width": 374
      },
      "needs_background": "light"
     },
     "output_type": "display_data"
    }
   ],
   "source": [
    "target_pcts_init.plot(kind='bar')"
   ]
  },
  {
   "cell_type": "code",
   "execution_count": 18,
   "metadata": {
    "ExecuteTime": {
     "end_time": "2019-08-05T20:31:25.770046Z",
     "start_time": "2019-08-05T20:31:25.764527Z"
    }
   },
   "outputs": [
    {
     "name": "stdout",
     "output_type": "stream",
     "text": [
      "0    0.694571\n",
      "1    0.305429\n",
      "Name: Is_Congested, dtype: float64\n"
     ]
    }
   ],
   "source": [
    "target_pcts_samp = traf_sample['Is_Congested'].value_counts(normalize = True)\n",
    "print(target_pcts_samp)"
   ]
  },
  {
   "cell_type": "code",
   "execution_count": 19,
   "metadata": {
    "ExecuteTime": {
     "end_time": "2019-08-05T20:31:25.972323Z",
     "start_time": "2019-08-05T20:31:25.771769Z"
    }
   },
   "outputs": [
    {
     "data": {
      "text/plain": [
       "<matplotlib.axes._subplots.AxesSubplot at 0x1a1ccf8a90>"
      ]
     },
     "execution_count": 19,
     "metadata": {},
     "output_type": "execute_result"
    },
    {
     "data": {
      "image/png": "[encoded data removed]",
      "text/plain": [
       "<Figure size 432x288 with 1 Axes>"
      ]
     },
     "metadata": {
      "image/png": {
       "height": 247,
       "width": 374
      },
      "needs_background": "light"
     },
     "output_type": "display_data"
    }
   ],
   "source": [
    "target_pcts_samp.plot(kind='bar')"
   ]
  },
  {
   "cell_type": "markdown",
   "metadata": {},
   "source": [
    "## Pickle the Data for the Next Step"
   ]
  },
  {
   "cell_type": "code",
   "execution_count": 20,
   "metadata": {
    "ExecuteTime": {
     "end_time": "2019-08-05T20:31:25.979792Z",
     "start_time": "2019-08-05T20:31:25.974419Z"
    }
   },
   "outputs": [
    {
     "data": {
      "text/plain": [
       "Index(['Location', 'timestamp', 'Obs_Speed', 'Nom_Speed', 'Av_Obs_Time',\n",
       "       'Med_Obs_Time', 'Nom_Time', 'Vehicles', 'Con_Speed', 'Con_AvTime',\n",
       "       'Con_MedTime', 'road_type', 'Distance', 'Is_Congested', 'MAJOR_ROAD',\n",
       "       'ROAD', 'STREET'],\n",
       "      dtype='object')"
      ]
     },
     "execution_count": 20,
     "metadata": {},
     "output_type": "execute_result"
    }
   ],
   "source": [
    "# Create new df with rearranged columns\n",
    "traf_sample.columns"
   ]
  },
  {
   "cell_type": "code",
   "execution_count": 21,
   "metadata": {
    "ExecuteTime": {
     "end_time": "2019-08-05T20:31:25.986813Z",
     "start_time": "2019-08-05T20:31:25.981605Z"
    }
   },
   "outputs": [],
   "source": [
    "traf_sample_red = traf_sample[['Location', 'timestamp', 'Obs_Speed', \n",
    "                               'Nom_Speed', 'Av_Obs_Time','Med_Obs_Time', \n",
    "                               'Nom_Time', 'Vehicles', 'Distance', \n",
    "                               'MAJOR_ROAD','ROAD', 'STREET', \n",
    "                               'Is_Congested']]"
   ]
  },
  {
   "cell_type": "code",
   "execution_count": 22,
   "metadata": {
    "ExecuteTime": {
     "end_time": "2019-08-05T20:31:25.998710Z",
     "start_time": "2019-08-05T20:31:25.988479Z"
    }
   },
   "outputs": [
    {
     "name": "stdout",
     "output_type": "stream",
     "text": [
      "<class 'pandas.core.frame.DataFrame'>\n",
      "Int64Index: 7000 entries, 19903370 to 13915009\n",
      "Data columns (total 13 columns):\n",
      "Location        7000 non-null int64\n",
      "timestamp       7000 non-null datetime64[ns]\n",
      "Obs_Speed       7000 non-null int64\n",
      "Nom_Speed       7000 non-null int64\n",
      "Av_Obs_Time     7000 non-null int64\n",
      "Med_Obs_Time    7000 non-null int64\n",
      "Nom_Time        7000 non-null int64\n",
      "Vehicles        7000 non-null int64\n",
      "Distance        7000 non-null int64\n",
      "MAJOR_ROAD      7000 non-null uint8\n",
      "ROAD            7000 non-null uint8\n",
      "STREET          7000 non-null uint8\n",
      "Is_Congested    7000 non-null int64\n",
      "dtypes: datetime64[ns](1), int64(9), uint8(3)\n",
      "memory usage: 622.1 KB\n"
     ]
    }
   ],
   "source": [
    "traf_sample_red.info()"
   ]
  },
  {
   "cell_type": "code",
   "execution_count": 23,
   "metadata": {
    "ExecuteTime": {
     "end_time": "2019-08-05T20:31:26.019805Z",
     "start_time": "2019-08-05T20:31:26.004268Z"
    }
   },
   "outputs": [
    {
     "data": {
      "text/html": [
       "<div>\n",
       "<style scoped>\n",
       "    .dataframe tbody tr th:only-of-type {\n",
       "        vertical-align: middle;\n",
       "    }\n",
       "\n",
       "    .dataframe tbody tr th {\n",
       "        vertical-align: top;\n",
       "    }\n",
       "\n",
       "    .dataframe thead th {\n",
       "        text-align: right;\n",
       "    }\n",
       "</style>\n",
       "<table border=\"1\" class=\"dataframe\">\n",
       "  <thead>\n",
       "    <tr style=\"text-align: right;\">\n",
       "      <th></th>\n",
       "      <th>Location</th>\n",
       "      <th>timestamp</th>\n",
       "      <th>Obs_Speed</th>\n",
       "      <th>Nom_Speed</th>\n",
       "      <th>Av_Obs_Time</th>\n",
       "      <th>Med_Obs_Time</th>\n",
       "      <th>Nom_Time</th>\n",
       "      <th>Vehicles</th>\n",
       "      <th>Distance</th>\n",
       "      <th>MAJOR_ROAD</th>\n",
       "      <th>ROAD</th>\n",
       "      <th>STREET</th>\n",
       "      <th>Is_Congested</th>\n",
       "    </tr>\n",
       "  </thead>\n",
       "  <tbody>\n",
       "    <tr>\n",
       "      <th>19903370</th>\n",
       "      <td>204007</td>\n",
       "      <td>2014-09-07 04:25:00</td>\n",
       "      <td>43</td>\n",
       "      <td>33</td>\n",
       "      <td>66</td>\n",
       "      <td>66</td>\n",
       "      <td>86</td>\n",
       "      <td>0</td>\n",
       "      <td>798</td>\n",
       "      <td>1</td>\n",
       "      <td>0</td>\n",
       "      <td>0</td>\n",
       "      <td>0</td>\n",
       "    </tr>\n",
       "    <tr>\n",
       "      <th>13837934</th>\n",
       "      <td>158805</td>\n",
       "      <td>2014-09-13 02:55:00</td>\n",
       "      <td>77</td>\n",
       "      <td>61</td>\n",
       "      <td>43</td>\n",
       "      <td>43</td>\n",
       "      <td>54</td>\n",
       "      <td>0</td>\n",
       "      <td>920</td>\n",
       "      <td>1</td>\n",
       "      <td>0</td>\n",
       "      <td>0</td>\n",
       "      <td>0</td>\n",
       "    </tr>\n",
       "    <tr>\n",
       "      <th>13691008</th>\n",
       "      <td>158536</td>\n",
       "      <td>2014-08-24 16:15:00</td>\n",
       "      <td>94</td>\n",
       "      <td>109</td>\n",
       "      <td>124</td>\n",
       "      <td>124</td>\n",
       "      <td>108</td>\n",
       "      <td>6</td>\n",
       "      <td>3255</td>\n",
       "      <td>1</td>\n",
       "      <td>0</td>\n",
       "      <td>0</td>\n",
       "      <td>0</td>\n",
       "    </tr>\n",
       "    <tr>\n",
       "      <th>24037406</th>\n",
       "      <td>198113</td>\n",
       "      <td>2014-10-08 22:55:00</td>\n",
       "      <td>53</td>\n",
       "      <td>36</td>\n",
       "      <td>100</td>\n",
       "      <td>100</td>\n",
       "      <td>148</td>\n",
       "      <td>0</td>\n",
       "      <td>1489</td>\n",
       "      <td>1</td>\n",
       "      <td>0</td>\n",
       "      <td>0</td>\n",
       "      <td>0</td>\n",
       "    </tr>\n",
       "    <tr>\n",
       "      <th>23553783</th>\n",
       "      <td>195446</td>\n",
       "      <td>2014-10-29 13:30:00</td>\n",
       "      <td>18</td>\n",
       "      <td>35</td>\n",
       "      <td>188</td>\n",
       "      <td>188</td>\n",
       "      <td>101</td>\n",
       "      <td>2</td>\n",
       "      <td>978</td>\n",
       "      <td>1</td>\n",
       "      <td>0</td>\n",
       "      <td>0</td>\n",
       "      <td>1</td>\n",
       "    </tr>\n",
       "    <tr>\n",
       "      <th>19725073</th>\n",
       "      <td>203716</td>\n",
       "      <td>2014-08-23 00:35:00</td>\n",
       "      <td>0</td>\n",
       "      <td>29</td>\n",
       "      <td>0</td>\n",
       "      <td>0</td>\n",
       "      <td>165</td>\n",
       "      <td>0</td>\n",
       "      <td>1326</td>\n",
       "      <td>1</td>\n",
       "      <td>0</td>\n",
       "      <td>0</td>\n",
       "      <td>0</td>\n",
       "    </tr>\n",
       "    <tr>\n",
       "      <th>23005882</th>\n",
       "      <td>192520</td>\n",
       "      <td>2014-10-23 02:35:00</td>\n",
       "      <td>60</td>\n",
       "      <td>42</td>\n",
       "      <td>134</td>\n",
       "      <td>134</td>\n",
       "      <td>193</td>\n",
       "      <td>0</td>\n",
       "      <td>2248</td>\n",
       "      <td>1</td>\n",
       "      <td>0</td>\n",
       "      <td>0</td>\n",
       "      <td>0</td>\n",
       "    </tr>\n",
       "    <tr>\n",
       "      <th>1904665</th>\n",
       "      <td>180547</td>\n",
       "      <td>2014-05-04 05:20:00</td>\n",
       "      <td>39</td>\n",
       "      <td>49</td>\n",
       "      <td>94</td>\n",
       "      <td>94</td>\n",
       "      <td>75</td>\n",
       "      <td>0</td>\n",
       "      <td>1020</td>\n",
       "      <td>1</td>\n",
       "      <td>0</td>\n",
       "      <td>0</td>\n",
       "      <td>1</td>\n",
       "    </tr>\n",
       "    <tr>\n",
       "      <th>18331675</th>\n",
       "      <td>195658</td>\n",
       "      <td>2014-09-18 10:50:00</td>\n",
       "      <td>29</td>\n",
       "      <td>20</td>\n",
       "      <td>78</td>\n",
       "      <td>78</td>\n",
       "      <td>117</td>\n",
       "      <td>8</td>\n",
       "      <td>646</td>\n",
       "      <td>1</td>\n",
       "      <td>0</td>\n",
       "      <td>0</td>\n",
       "      <td>0</td>\n",
       "    </tr>\n",
       "    <tr>\n",
       "      <th>11122683</th>\n",
       "      <td>201669</td>\n",
       "      <td>2014-02-23 09:25:00</td>\n",
       "      <td>61</td>\n",
       "      <td>64</td>\n",
       "      <td>173</td>\n",
       "      <td>173</td>\n",
       "      <td>167</td>\n",
       "      <td>0</td>\n",
       "      <td>2953</td>\n",
       "      <td>1</td>\n",
       "      <td>0</td>\n",
       "      <td>0</td>\n",
       "      <td>0</td>\n",
       "    </tr>\n",
       "    <tr>\n",
       "      <th>4882718</th>\n",
       "      <td>187430</td>\n",
       "      <td>2014-05-28 16:55:00</td>\n",
       "      <td>31</td>\n",
       "      <td>36</td>\n",
       "      <td>102</td>\n",
       "      <td>102</td>\n",
       "      <td>90</td>\n",
       "      <td>2</td>\n",
       "      <td>902</td>\n",
       "      <td>1</td>\n",
       "      <td>0</td>\n",
       "      <td>0</td>\n",
       "      <td>0</td>\n",
       "    </tr>\n",
       "    <tr>\n",
       "      <th>10537934</th>\n",
       "      <td>198301</td>\n",
       "      <td>2014-05-19 19:40:00</td>\n",
       "      <td>34</td>\n",
       "      <td>42</td>\n",
       "      <td>58</td>\n",
       "      <td>58</td>\n",
       "      <td>48</td>\n",
       "      <td>0</td>\n",
       "      <td>554</td>\n",
       "      <td>1</td>\n",
       "      <td>0</td>\n",
       "      <td>0</td>\n",
       "      <td>1</td>\n",
       "    </tr>\n",
       "    <tr>\n",
       "      <th>18164681</th>\n",
       "      <td>195392</td>\n",
       "      <td>2014-08-12 19:45:00</td>\n",
       "      <td>45</td>\n",
       "      <td>33</td>\n",
       "      <td>69</td>\n",
       "      <td>69</td>\n",
       "      <td>95</td>\n",
       "      <td>0</td>\n",
       "      <td>870</td>\n",
       "      <td>1</td>\n",
       "      <td>0</td>\n",
       "      <td>0</td>\n",
       "      <td>0</td>\n",
       "    </tr>\n",
       "    <tr>\n",
       "      <th>23725947</th>\n",
       "      <td>195923</td>\n",
       "      <td>2014-10-12 02:55:00</td>\n",
       "      <td>55</td>\n",
       "      <td>49</td>\n",
       "      <td>98</td>\n",
       "      <td>98</td>\n",
       "      <td>111</td>\n",
       "      <td>0</td>\n",
       "      <td>1511</td>\n",
       "      <td>1</td>\n",
       "      <td>0</td>\n",
       "      <td>0</td>\n",
       "      <td>0</td>\n",
       "    </tr>\n",
       "    <tr>\n",
       "      <th>3013376</th>\n",
       "      <td>182846</td>\n",
       "      <td>2014-03-08 18:05:00</td>\n",
       "      <td>33</td>\n",
       "      <td>35</td>\n",
       "      <td>72</td>\n",
       "      <td>72</td>\n",
       "      <td>70</td>\n",
       "      <td>3</td>\n",
       "      <td>672</td>\n",
       "      <td>1</td>\n",
       "      <td>0</td>\n",
       "      <td>0</td>\n",
       "      <td>0</td>\n",
       "    </tr>\n",
       "  </tbody>\n",
       "</table>\n",
       "</div>"
      ],
      "text/plain": [
       "          Location           timestamp  Obs_Speed  Nom_Speed  Av_Obs_Time  \\\n",
       "19903370    204007 2014-09-07 04:25:00         43         33           66   \n",
       "13837934    158805 2014-09-13 02:55:00         77         61           43   \n",
       "13691008    158536 2014-08-24 16:15:00         94        109          124   \n",
       "24037406    198113 2014-10-08 22:55:00         53         36          100   \n",
       "23553783    195446 2014-10-29 13:30:00         18         35          188   \n",
       "19725073    203716 2014-08-23 00:35:00          0         29            0   \n",
       "23005882    192520 2014-10-23 02:35:00         60         42          134   \n",
       "1904665     180547 2014-05-04 05:20:00         39         49           94   \n",
       "18331675    195658 2014-09-18 10:50:00         29         20           78   \n",
       "11122683    201669 2014-02-23 09:25:00         61         64          173   \n",
       "4882718     187430 2014-05-28 16:55:00         31         36          102   \n",
       "10537934    198301 2014-05-19 19:40:00         34         42           58   \n",
       "18164681    195392 2014-08-12 19:45:00         45         33           69   \n",
       "23725947    195923 2014-10-12 02:55:00         55         49           98   \n",
       "3013376     182846 2014-03-08 18:05:00         33         35           72   \n",
       "\n",
       "          Med_Obs_Time  Nom_Time  Vehicles  Distance  MAJOR_ROAD  ROAD  \\\n",
       "19903370            66        86         0       798           1     0   \n",
       "13837934            43        54         0       920           1     0   \n",
       "13691008           124       108         6      3255           1     0   \n",
       "24037406           100       148         0      1489           1     0   \n",
       "23553783           188       101         2       978           1     0   \n",
       "19725073             0       165         0      1326           1     0   \n",
       "23005882           134       193         0      2248           1     0   \n",
       "1904665             94        75         0      1020           1     0   \n",
       "18331675            78       117         8       646           1     0   \n",
       "11122683           173       167         0      2953           1     0   \n",
       "4882718            102        90         2       902           1     0   \n",
       "10537934            58        48         0       554           1     0   \n",
       "18164681            69        95         0       870           1     0   \n",
       "23725947            98       111         0      1511           1     0   \n",
       "3013376             72        70         3       672           1     0   \n",
       "\n",
       "          STREET  Is_Congested  \n",
       "19903370       0             0  \n",
       "13837934       0             0  \n",
       "13691008       0             0  \n",
       "24037406       0             0  \n",
       "23553783       0             1  \n",
       "19725073       0             0  \n",
       "23005882       0             0  \n",
       "1904665        0             1  \n",
       "18331675       0             0  \n",
       "11122683       0             0  \n",
       "4882718        0             0  \n",
       "10537934       0             1  \n",
       "18164681       0             0  \n",
       "23725947       0             0  \n",
       "3013376        0             0  "
      ]
     },
     "execution_count": 23,
     "metadata": {},
     "output_type": "execute_result"
    }
   ],
   "source": [
    "traf_sample_red.head(15)"
   ]
  },
  {
   "cell_type": "code",
   "execution_count": 24,
   "metadata": {
    "ExecuteTime": {
     "end_time": "2019-08-05T20:31:48.640882Z",
     "start_time": "2019-08-05T20:31:26.022209Z"
    }
   },
   "outputs": [],
   "source": [
    "with open('traf_2.pickle', 'wb') as to_write:\n",
    "    pickle.dump(traf_init, to_write)"
   ]
  },
  {
   "cell_type": "code",
   "execution_count": 25,
   "metadata": {
    "ExecuteTime": {
     "end_time": "2019-08-05T20:31:48.660954Z",
     "start_time": "2019-08-05T20:31:48.647456Z"
    }
   },
   "outputs": [],
   "source": [
    "with open('traf_sample.pickle', 'wb') as to_write:\n",
    "    pickle.dump(traf_sample, to_write)"
   ]
  },
  {
   "cell_type": "code",
   "execution_count": 26,
   "metadata": {
    "ExecuteTime": {
     "end_time": "2019-08-05T20:31:48.667854Z",
     "start_time": "2019-08-05T20:31:48.663518Z"
    }
   },
   "outputs": [],
   "source": [
    "with open('traf_sample_red.pickle', 'wb') as to_write:\n",
    "    pickle.dump(traf_sample_red, to_write)"
   ]
  },
  {
   "cell_type": "markdown",
   "metadata": {},
   "source": [
    "## EDA and Baselining"
   ]
  },
  {
   "cell_type": "code",
   "execution_count": null,
   "metadata": {
    "ExecuteTime": {
     "end_time": "2019-08-02T23:01:04.303589Z",
     "start_time": "2019-08-02T23:01:04.065431Z"
    }
   },
   "outputs": [],
   "source": [
    "target_pcts = traf_init['Is_Congested'].value_counts(normalize = True)\n",
    "print(target_pcts)"
   ]
  },
  {
   "cell_type": "code",
   "execution_count": null,
   "metadata": {
    "ExecuteTime": {
     "end_time": "2019-08-02T23:01:07.362041Z",
     "start_time": "2019-08-02T23:01:07.105915Z"
    }
   },
   "outputs": [],
   "source": [
    "target_pcts.plot(kind='bar')"
   ]
  },
  {
   "cell_type": "code",
   "execution_count": null,
   "metadata": {
    "ExecuteTime": {
     "end_time": "2019-08-02T23:02:43.838964Z",
     "start_time": "2019-08-02T23:02:33.112217Z"
    }
   },
   "outputs": [],
   "source": [
    "traf_init.groupby('Is_Congested').mean()"
   ]
  },
  {
   "cell_type": "code",
   "execution_count": null,
   "metadata": {
    "ExecuteTime": {
     "end_time": "2019-08-02T23:11:29.647005Z",
     "start_time": "2019-08-02T23:11:29.643321Z"
    }
   },
   "outputs": [],
   "source": [
    "def plot_features(df, sample_size=500):\n",
    "    sample = (df[['Is_Congested', 'Obs_Speed']]\n",
    "                .sample(1000, random_state=13)) \n",
    "    sns.pairplot(sample,hue='Is_Congested', plot_kws=dict(alpha=.3, edgecolor='none'))\n"
   ]
  },
  {
   "cell_type": "code",
   "execution_count": null,
   "metadata": {
    "ExecuteTime": {
     "end_time": "2019-08-02T23:11:37.701941Z",
     "start_time": "2019-08-02T23:11:33.715882Z"
    }
   },
   "outputs": [],
   "source": [
    "plot_features(traf_init)"
   ]
  },
  {
   "cell_type": "code",
   "execution_count": null,
   "metadata": {
    "ExecuteTime": {
     "end_time": "2019-08-02T23:16:58.306251Z",
     "start_time": "2019-08-02T23:16:57.553227Z"
    }
   },
   "outputs": [],
   "source": [
    "# histogram of Observed Speed\n",
    "traf_init['Obs_Speed'].hist()\n",
    "plt.title('Histogram of Observed Speed')\n",
    "plt.xlabel('Observed Speed')\n",
    "plt.ylabel('Frequency')"
   ]
  },
  {
   "cell_type": "code",
   "execution_count": null,
   "metadata": {
    "ExecuteTime": {
     "end_time": "2019-08-02T23:26:13.217561Z",
     "start_time": "2019-08-02T23:26:08.205428Z"
    }
   },
   "outputs": [],
   "source": [
    "# histogram of Vehicles\n",
    "sns.distplot(traf_init['Vehicles'])\n",
    "# traf_init['Vehicles'].hist()\n",
    "plt.title('Histogram of # of Vehicles')\n",
    "plt.xlabel('# of Vehicles')\n",
    "plt.ylabel('Frequency')"
   ]
  },
  {
   "cell_type": "code",
   "execution_count": null,
   "metadata": {
    "ExecuteTime": {
     "end_time": "2019-08-02T23:27:13.227281Z",
     "start_time": "2019-08-02T23:27:12.482447Z"
    },
    "scrolled": true
   },
   "outputs": [],
   "source": [
    "# histogram of Vehicles\n",
    "# sns.distplot(traf_init['Vehicles'])\n",
    "traf_init['Vehicles'].hist()\n",
    "plt.title('Histogram of # of Vehicles')\n",
    "plt.xlabel('# of Vehicles')\n",
    "plt.ylabel('Frequency')"
   ]
  },
  {
   "cell_type": "markdown",
   "metadata": {
    "heading_collapsed": true
   },
   "source": [
    "## Splitting into Training and Testing Sets"
   ]
  },
  {
   "cell_type": "code",
   "execution_count": null,
   "metadata": {
    "ExecuteTime": {
     "end_time": "2019-08-02T23:34:37.406063Z",
     "start_time": "2019-08-02T23:34:37.403520Z"
    },
    "hidden": true
   },
   "outputs": [],
   "source": [
    "y = traf_full['Is_Congested']"
   ]
  },
  {
   "cell_type": "code",
   "execution_count": null,
   "metadata": {
    "ExecuteTime": {
     "end_time": "2019-08-02T23:35:15.053915Z",
     "start_time": "2019-08-02T23:35:15.049344Z"
    },
    "hidden": true
   },
   "outputs": [],
   "source": [
    "y.head(15)"
   ]
  },
  {
   "cell_type": "code",
   "execution_count": null,
   "metadata": {
    "ExecuteTime": {
     "end_time": "2019-08-02T23:44:37.287998Z",
     "start_time": "2019-08-02T23:44:22.959180Z"
    },
    "hidden": true
   },
   "outputs": [],
   "source": [
    "X = traf_full[['report_id', 'timestamp', 'Obs_Speed', 'Nom_Speed', 'Av_Obs_Time',\n",
    "       'Med_Obs_Time', 'Nom_Time', 'Vehicles',\n",
    "       'road_type', 'Distance']]"
   ]
  },
  {
   "cell_type": "code",
   "execution_count": null,
   "metadata": {
    "ExecuteTime": {
     "end_time": "2019-08-02T23:44:37.487380Z",
     "start_time": "2019-08-02T23:44:37.473472Z"
    },
    "hidden": true
   },
   "outputs": [],
   "source": [
    "X.head(15)"
   ]
  },
  {
   "cell_type": "code",
   "execution_count": null,
   "metadata": {
    "ExecuteTime": {
     "end_time": "2019-08-02T23:59:12.607049Z",
     "start_time": "2019-08-02T23:58:44.594166Z"
    },
    "hidden": true
   },
   "outputs": [],
   "source": [
    "# Get the train and test data split\n",
    "X_train, X_test, y_train, y_test = train_test_split(X, y, test_size=0.2, random_state=13)"
   ]
  },
  {
   "cell_type": "markdown",
   "metadata": {
    "heading_collapsed": true
   },
   "source": [
    "## Running Basic Logistic Regression"
   ]
  },
  {
   "cell_type": "code",
   "execution_count": null,
   "metadata": {
    "ExecuteTime": {
     "end_time": "2019-08-03T00:01:24.603562Z",
     "start_time": "2019-08-03T00:00:31.304142Z"
    },
    "hidden": true
   },
   "outputs": [],
   "source": [
    "lr = LogisticRegression(solver='lbfgs')\n",
    "lr.fit(X_train, y_train)\n",
    "f1_score(lr.predict(X_test), y_test)"
   ]
  },
  {
   "cell_type": "code",
   "execution_count": null,
   "metadata": {
    "hidden": true
   },
   "outputs": [],
   "source": []
  },
  {
   "cell_type": "code",
   "execution_count": null,
   "metadata": {
    "hidden": true
   },
   "outputs": [],
   "source": []
  },
  {
   "cell_type": "code",
   "execution_count": null,
   "metadata": {
    "hidden": true
   },
   "outputs": [],
   "source": []
  },
  {
   "cell_type": "code",
   "execution_count": null,
   "metadata": {
    "hidden": true
   },
   "outputs": [],
   "source": []
  },
  {
   "cell_type": "code",
   "execution_count": null,
   "metadata": {
    "hidden": true
   },
   "outputs": [],
   "source": []
  },
  {
   "cell_type": "code",
   "execution_count": null,
   "metadata": {
    "ExecuteTime": {
     "end_time": "2019-08-02T21:27:34.678000Z",
     "start_time": "2019-08-02T21:27:34.675149Z"
    },
    "hidden": true
   },
   "outputs": [],
   "source": [
    "import pandas as pd\n",
    "import numpy as np\n",
    "\n",
    "import pickle"
   ]
  },
  {
   "cell_type": "code",
   "execution_count": null,
   "metadata": {
    "ExecuteTime": {
     "end_time": "2019-08-02T21:27:37.537959Z",
     "start_time": "2019-08-02T21:27:37.531879Z"
    },
    "hidden": true
   },
   "outputs": [],
   "source": [
    "with open('traf_sample.pickle','rb') as read_file:\n",
    "    traf_sample = pickle.load(read_file)"
   ]
  },
  {
   "cell_type": "code",
   "execution_count": null,
   "metadata": {
    "ExecuteTime": {
     "end_time": "2019-08-02T21:27:39.752157Z",
     "start_time": "2019-08-02T21:27:39.739913Z"
    },
    "hidden": true
   },
   "outputs": [],
   "source": [
    "traf_sample.head()"
   ]
  },
  {
   "cell_type": "raw",
   "metadata": {
    "hidden": true
   },
   "source": []
  },
  {
   "cell_type": "code",
   "execution_count": null,
   "metadata": {
    "ExecuteTime": {
     "end_time": "2019-08-02T21:27:51.844187Z",
     "start_time": "2019-08-02T21:27:51.835696Z"
    },
    "hidden": true
   },
   "outputs": [],
   "source": [
    "traf_sample['Is_Congested'] = ((np.where(traf_sample['Con_Speed'] < 0.75, 1, 0)) \n",
    "                                & (np.where(traf_sample['Con_AvTime'] > 1.25, 1, 0)) \n",
    "                                & (np.where(traf_sample['Con_MedTime'] > 1.25, 1, 0)))"
   ]
  },
  {
   "cell_type": "code",
   "execution_count": null,
   "metadata": {
    "ExecuteTime": {
     "end_time": "2019-08-02T21:00:24.243637Z",
     "start_time": "2019-08-02T21:00:24.238564Z"
    },
    "hidden": true
   },
   "outputs": [],
   "source": [
    "# traf_sample['Is_Congested'] = ((traf_sample['Con_Speed'] < 0.75) \n",
    "#                                 & (traf_sample['Con_AvTime'] > 1.25) \n",
    "#                                 & (traf_sample['Con_MedTime'] > 1.25))"
   ]
  },
  {
   "cell_type": "code",
   "execution_count": null,
   "metadata": {
    "ExecuteTime": {
     "end_time": "2019-08-02T21:27:54.892106Z",
     "start_time": "2019-08-02T21:27:54.875312Z"
    },
    "hidden": true
   },
   "outputs": [],
   "source": [
    "traf_sample.head(15)"
   ]
  },
  {
   "cell_type": "code",
   "execution_count": null,
   "metadata": {
    "ExecuteTime": {
     "end_time": "2019-08-02T21:28:01.807236Z",
     "start_time": "2019-08-02T21:28:01.801185Z"
    },
    "hidden": true
   },
   "outputs": [],
   "source": [
    "traf_sample['Is_Congested'].value_counts()"
   ]
  },
  {
   "cell_type": "code",
   "execution_count": null,
   "metadata": {
    "ExecuteTime": {
     "end_time": "2019-08-02T23:41:46.687740Z",
     "start_time": "2019-08-02T23:41:46.683710Z"
    },
    "hidden": true
   },
   "outputs": [],
   "source": []
  },
  {
   "cell_type": "code",
   "execution_count": null,
   "metadata": {
    "hidden": true
   },
   "outputs": [],
   "source": []
  }
 ],
 "metadata": {
  "kernelspec": {
   "display_name": "Python [conda env:metis] *",
   "language": "python",
   "name": "conda-env-metis-py"
  },
  "language_info": {
   "codemirror_mode": {
    "name": "ipython",
    "version": 3
   },
   "file_extension": ".py",
   "mimetype": "text/x-python",
   "name": "python",
   "nbconvert_exporter": "python",
   "pygments_lexer": "ipython3",
   "version": "3.6.8"
  },
  "toc": {
   "base_numbering": 1,
   "nav_menu": {},
   "number_sections": true,
   "sideBar": true,
   "skip_h1_title": false,
   "title_cell": "Table of Contents",
   "title_sidebar": "Contents",
   "toc_cell": false,
   "toc_position": {
    "height": "calc(100% - 180px)",
    "left": "10px",
    "top": "150px",
    "width": "254.391px"
   },
   "toc_section_display": true,
   "toc_window_display": true
  },
  "varInspector": {
   "cols": {
    "lenName": 16,
    "lenType": 16,
    "lenVar": 40
   },
   "kernels_config": {
    "python": {
     "delete_cmd_postfix": "",
     "delete_cmd_prefix": "del ",
     "library": "var_list.py",
     "varRefreshCmd": "print(var_dic_list())"
    },
    "r": {
     "delete_cmd_postfix": ") ",
     "delete_cmd_prefix": "rm(",
     "library": "var_list.r",
     "varRefreshCmd": "cat(var_dic_list()) "
    }
   },
   "types_to_exclude": [
    "module",
    "function",
    "builtin_function_or_method",
    "instance",
    "_Feature"
   ],
   "window_display": false
  }
 },
 "nbformat": 4,
 "nbformat_minor": 2
}
