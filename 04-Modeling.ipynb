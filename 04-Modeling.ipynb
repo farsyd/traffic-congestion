{
 "cells": [
  {
   "cell_type": "markdown",
   "metadata": {},
   "source": [
    "## Imports"
   ]
  },
  {
   "cell_type": "code",
   "execution_count": 48,
   "metadata": {
    "ExecuteTime": {
     "end_time": "2019-08-06T13:20:38.184791Z",
     "start_time": "2019-08-06T13:20:38.162465Z"
    }
   },
   "outputs": [
    {
     "name": "stdout",
     "output_type": "stream",
     "text": [
      "Populating the interactive namespace from numpy and matplotlib\n"
     ]
    },
    {
     "name": "stderr",
     "output_type": "stream",
     "text": [
      "/Users/farsyd/anaconda3/envs/metis/lib/python3.6/site-packages/IPython/core/magics/pylab.py:160: UserWarning: pylab import has clobbered these variables: ['grid', 'figure', 'show']\n",
      "`%matplotlib` prevents importing * from pylab and numpy\n",
      "  \"\\n`%matplotlib` prevents importing * from pylab and numpy\"\n"
     ]
    }
   ],
   "source": [
    "import pandas as pd\n",
    "import numpy as np\n",
    "\n",
    "import pickle\n",
    "\n",
    "%pylab inline\n",
    "%config InlineBackend.figure_formats = ['retina']\n",
    "\n",
    "import seaborn as sns\n",
    "sns.set()\n",
    "\n",
    "from sklearn.neighbors import KNeighborsClassifier\n",
    "from sklearn.linear_model import LogisticRegression\n",
    "\n",
    "from sklearn.model_selection import TimeSeriesSplit, train_test_split\n",
    "from sklearn.model_selection import cross_val_score, cross_validate\n",
    "from sklearn.model_selection import GridSearchCV, RandomizedSearchCV\n",
    "\n",
    "from sklearn.ensemble import RandomForestClassifier\n",
    "\n",
    "from sklearn.metrics import accuracy_score, roc_auc_score, roc_curve \n",
    "from sklearn.metrics import precision_score, recall_score, f1_score\n",
    "\n",
    "from sklearn.feature_selection import RFE\n",
    "\n",
    "\n",
    "import featuretools as ft\n",
    "import featuretools.variable_types as vtypes\n",
    "\n",
    "import datetime\n",
    "\n",
    "from bokeh.models import HoverTool\n",
    "from bokeh.models.sources import ColumnDataSource\n",
    "from bokeh.plotting import figure\n",
    "from bokeh.io import show, output_notebook\n",
    "from bokeh.layouts import gridplot\n"
   ]
  },
  {
   "cell_type": "markdown",
   "metadata": {},
   "source": [
    "## Loading X and y from Pickle Files"
   ]
  },
  {
   "cell_type": "code",
   "execution_count": 2,
   "metadata": {
    "ExecuteTime": {
     "end_time": "2019-08-06T00:22:52.424667Z",
     "start_time": "2019-08-06T00:22:52.411208Z"
    }
   },
   "outputs": [],
   "source": [
    "with open('X.pickle','rb') as read_file:\n",
    "    X = pickle.load(read_file)"
   ]
  },
  {
   "cell_type": "code",
   "execution_count": 3,
   "metadata": {
    "ExecuteTime": {
     "end_time": "2019-08-06T00:22:54.575160Z",
     "start_time": "2019-08-06T00:22:54.570728Z"
    }
   },
   "outputs": [],
   "source": [
    "with open('y.pickle','rb') as read_file:\n",
    "    y = pickle.load(read_file)"
   ]
  },
  {
   "cell_type": "code",
   "execution_count": 4,
   "metadata": {
    "ExecuteTime": {
     "end_time": "2019-08-06T00:22:58.396633Z",
     "start_time": "2019-08-06T00:22:58.370619Z"
    }
   },
   "outputs": [
    {
     "data": {
      "text/html": [
       "<div>\n",
       "<style scoped>\n",
       "    .dataframe tbody tr th:only-of-type {\n",
       "        vertical-align: middle;\n",
       "    }\n",
       "\n",
       "    .dataframe tbody tr th {\n",
       "        vertical-align: top;\n",
       "    }\n",
       "\n",
       "    .dataframe thead th {\n",
       "        text-align: right;\n",
       "    }\n",
       "</style>\n",
       "<table border=\"1\" class=\"dataframe\">\n",
       "  <thead>\n",
       "    <tr style=\"text-align: right;\">\n",
       "      <th></th>\n",
       "      <th>Location</th>\n",
       "      <th>IS_WEEKEND(timestamp)</th>\n",
       "      <th>IS_WEEKEND(Last_Known)</th>\n",
       "      <th>WEEKDAY(timestamp)</th>\n",
       "      <th>WEEKDAY(Last_Known)</th>\n",
       "      <th>DAY(timestamp)</th>\n",
       "      <th>DAY(Last_Known)</th>\n",
       "      <th>MONTH(timestamp)</th>\n",
       "      <th>MONTH(Last_Known)</th>\n",
       "      <th>YEAR(timestamp)</th>\n",
       "      <th>...</th>\n",
       "      <th>locations.CUM_SUM(MAX(traffic.Vehicles))</th>\n",
       "      <th>locations.CUM_SUM(MEAN(traffic.Obs_Speed))</th>\n",
       "      <th>locations.CUM_SUM(MEAN(traffic.Av_Obs_Time))</th>\n",
       "      <th>locations.CUM_SUM(MEAN(traffic.Med_Obs_Time))</th>\n",
       "      <th>locations.CUM_SUM(MEAN(traffic.Vehicles))</th>\n",
       "      <th>locations.CUM_SUM(SUM(traffic.Obs_Speed))</th>\n",
       "      <th>locations.CUM_SUM(SUM(traffic.Av_Obs_Time))</th>\n",
       "      <th>locations.CUM_SUM(SUM(traffic.Med_Obs_Time))</th>\n",
       "      <th>locations.CUM_SUM(SUM(traffic.Vehicles))</th>\n",
       "      <th>locations.CUM_SUM(MINUTE(first_traffic_time))</th>\n",
       "    </tr>\n",
       "    <tr>\n",
       "      <th>Index</th>\n",
       "      <th></th>\n",
       "      <th></th>\n",
       "      <th></th>\n",
       "      <th></th>\n",
       "      <th></th>\n",
       "      <th></th>\n",
       "      <th></th>\n",
       "      <th></th>\n",
       "      <th></th>\n",
       "      <th></th>\n",
       "      <th></th>\n",
       "      <th></th>\n",
       "      <th></th>\n",
       "      <th></th>\n",
       "      <th></th>\n",
       "      <th></th>\n",
       "      <th></th>\n",
       "      <th></th>\n",
       "      <th></th>\n",
       "      <th></th>\n",
       "      <th></th>\n",
       "    </tr>\n",
       "  </thead>\n",
       "  <tbody>\n",
       "    <tr>\n",
       "      <th>3796</th>\n",
       "      <td>158655</td>\n",
       "      <td>False</td>\n",
       "      <td>False</td>\n",
       "      <td>3</td>\n",
       "      <td>3</td>\n",
       "      <td>13</td>\n",
       "      <td>13</td>\n",
       "      <td>2</td>\n",
       "      <td>2</td>\n",
       "      <td>2014</td>\n",
       "      <td>...</td>\n",
       "      <td>0.0</td>\n",
       "      <td>0.0</td>\n",
       "      <td>0.0</td>\n",
       "      <td>0.0</td>\n",
       "      <td>0.0</td>\n",
       "      <td>0.0</td>\n",
       "      <td>0.0</td>\n",
       "      <td>0.0</td>\n",
       "      <td>0.0</td>\n",
       "      <td>35</td>\n",
       "    </tr>\n",
       "    <tr>\n",
       "      <th>2720</th>\n",
       "      <td>201291</td>\n",
       "      <td>False</td>\n",
       "      <td>False</td>\n",
       "      <td>3</td>\n",
       "      <td>3</td>\n",
       "      <td>13</td>\n",
       "      <td>13</td>\n",
       "      <td>2</td>\n",
       "      <td>2</td>\n",
       "      <td>2014</td>\n",
       "      <td>...</td>\n",
       "      <td>0.0</td>\n",
       "      <td>0.0</td>\n",
       "      <td>0.0</td>\n",
       "      <td>0.0</td>\n",
       "      <td>0.0</td>\n",
       "      <td>0.0</td>\n",
       "      <td>0.0</td>\n",
       "      <td>0.0</td>\n",
       "      <td>0.0</td>\n",
       "      <td>60</td>\n",
       "    </tr>\n",
       "    <tr>\n",
       "      <th>3894</th>\n",
       "      <td>192734</td>\n",
       "      <td>False</td>\n",
       "      <td>False</td>\n",
       "      <td>3</td>\n",
       "      <td>3</td>\n",
       "      <td>13</td>\n",
       "      <td>13</td>\n",
       "      <td>2</td>\n",
       "      <td>2</td>\n",
       "      <td>2014</td>\n",
       "      <td>...</td>\n",
       "      <td>0.0</td>\n",
       "      <td>0.0</td>\n",
       "      <td>0.0</td>\n",
       "      <td>0.0</td>\n",
       "      <td>0.0</td>\n",
       "      <td>0.0</td>\n",
       "      <td>0.0</td>\n",
       "      <td>0.0</td>\n",
       "      <td>0.0</td>\n",
       "      <td>90</td>\n",
       "    </tr>\n",
       "    <tr>\n",
       "      <th>904</th>\n",
       "      <td>187589</td>\n",
       "      <td>False</td>\n",
       "      <td>False</td>\n",
       "      <td>3</td>\n",
       "      <td>3</td>\n",
       "      <td>13</td>\n",
       "      <td>13</td>\n",
       "      <td>2</td>\n",
       "      <td>2</td>\n",
       "      <td>2014</td>\n",
       "      <td>...</td>\n",
       "      <td>0.0</td>\n",
       "      <td>0.0</td>\n",
       "      <td>0.0</td>\n",
       "      <td>0.0</td>\n",
       "      <td>0.0</td>\n",
       "      <td>0.0</td>\n",
       "      <td>0.0</td>\n",
       "      <td>0.0</td>\n",
       "      <td>0.0</td>\n",
       "      <td>130</td>\n",
       "    </tr>\n",
       "    <tr>\n",
       "      <th>3609</th>\n",
       "      <td>158684</td>\n",
       "      <td>False</td>\n",
       "      <td>False</td>\n",
       "      <td>3</td>\n",
       "      <td>3</td>\n",
       "      <td>13</td>\n",
       "      <td>13</td>\n",
       "      <td>2</td>\n",
       "      <td>2</td>\n",
       "      <td>2014</td>\n",
       "      <td>...</td>\n",
       "      <td>0.0</td>\n",
       "      <td>0.0</td>\n",
       "      <td>0.0</td>\n",
       "      <td>0.0</td>\n",
       "      <td>0.0</td>\n",
       "      <td>0.0</td>\n",
       "      <td>0.0</td>\n",
       "      <td>0.0</td>\n",
       "      <td>0.0</td>\n",
       "      <td>155</td>\n",
       "    </tr>\n",
       "  </tbody>\n",
       "</table>\n",
       "<p>5 rows × 93 columns</p>\n",
       "</div>"
      ],
      "text/plain": [
       "       Location  IS_WEEKEND(timestamp)  IS_WEEKEND(Last_Known)  \\\n",
       "Index                                                            \n",
       "3796     158655                  False                   False   \n",
       "2720     201291                  False                   False   \n",
       "3894     192734                  False                   False   \n",
       "904      187589                  False                   False   \n",
       "3609     158684                  False                   False   \n",
       "\n",
       "       WEEKDAY(timestamp)  WEEKDAY(Last_Known)  DAY(timestamp)  \\\n",
       "Index                                                            \n",
       "3796                    3                    3              13   \n",
       "2720                    3                    3              13   \n",
       "3894                    3                    3              13   \n",
       "904                     3                    3              13   \n",
       "3609                    3                    3              13   \n",
       "\n",
       "       DAY(Last_Known)  MONTH(timestamp)  MONTH(Last_Known)  YEAR(timestamp)  \\\n",
       "Index                                                                          \n",
       "3796                13                 2                  2             2014   \n",
       "2720                13                 2                  2             2014   \n",
       "3894                13                 2                  2             2014   \n",
       "904                 13                 2                  2             2014   \n",
       "3609                13                 2                  2             2014   \n",
       "\n",
       "       ...  locations.CUM_SUM(MAX(traffic.Vehicles))  \\\n",
       "Index  ...                                             \n",
       "3796   ...                                       0.0   \n",
       "2720   ...                                       0.0   \n",
       "3894   ...                                       0.0   \n",
       "904    ...                                       0.0   \n",
       "3609   ...                                       0.0   \n",
       "\n",
       "       locations.CUM_SUM(MEAN(traffic.Obs_Speed))  \\\n",
       "Index                                               \n",
       "3796                                          0.0   \n",
       "2720                                          0.0   \n",
       "3894                                          0.0   \n",
       "904                                           0.0   \n",
       "3609                                          0.0   \n",
       "\n",
       "       locations.CUM_SUM(MEAN(traffic.Av_Obs_Time))  \\\n",
       "Index                                                 \n",
       "3796                                            0.0   \n",
       "2720                                            0.0   \n",
       "3894                                            0.0   \n",
       "904                                             0.0   \n",
       "3609                                            0.0   \n",
       "\n",
       "       locations.CUM_SUM(MEAN(traffic.Med_Obs_Time))  \\\n",
       "Index                                                  \n",
       "3796                                             0.0   \n",
       "2720                                             0.0   \n",
       "3894                                             0.0   \n",
       "904                                              0.0   \n",
       "3609                                             0.0   \n",
       "\n",
       "       locations.CUM_SUM(MEAN(traffic.Vehicles))  \\\n",
       "Index                                              \n",
       "3796                                         0.0   \n",
       "2720                                         0.0   \n",
       "3894                                         0.0   \n",
       "904                                          0.0   \n",
       "3609                                         0.0   \n",
       "\n",
       "       locations.CUM_SUM(SUM(traffic.Obs_Speed))  \\\n",
       "Index                                              \n",
       "3796                                         0.0   \n",
       "2720                                         0.0   \n",
       "3894                                         0.0   \n",
       "904                                          0.0   \n",
       "3609                                         0.0   \n",
       "\n",
       "       locations.CUM_SUM(SUM(traffic.Av_Obs_Time))  \\\n",
       "Index                                                \n",
       "3796                                           0.0   \n",
       "2720                                           0.0   \n",
       "3894                                           0.0   \n",
       "904                                            0.0   \n",
       "3609                                           0.0   \n",
       "\n",
       "       locations.CUM_SUM(SUM(traffic.Med_Obs_Time))  \\\n",
       "Index                                                 \n",
       "3796                                            0.0   \n",
       "2720                                            0.0   \n",
       "3894                                            0.0   \n",
       "904                                             0.0   \n",
       "3609                                            0.0   \n",
       "\n",
       "       locations.CUM_SUM(SUM(traffic.Vehicles))  \\\n",
       "Index                                             \n",
       "3796                                        0.0   \n",
       "2720                                        0.0   \n",
       "3894                                        0.0   \n",
       "904                                         0.0   \n",
       "3609                                        0.0   \n",
       "\n",
       "       locations.CUM_SUM(MINUTE(first_traffic_time))  \n",
       "Index                                                 \n",
       "3796                                              35  \n",
       "2720                                              60  \n",
       "3894                                              90  \n",
       "904                                              130  \n",
       "3609                                             155  \n",
       "\n",
       "[5 rows x 93 columns]"
      ]
     },
     "execution_count": 4,
     "metadata": {},
     "output_type": "execute_result"
    }
   ],
   "source": [
    "X.head()"
   ]
  },
  {
   "cell_type": "code",
   "execution_count": 5,
   "metadata": {
    "ExecuteTime": {
     "end_time": "2019-08-06T00:23:03.934631Z",
     "start_time": "2019-08-06T00:23:03.930147Z"
    }
   },
   "outputs": [
    {
     "data": {
      "text/plain": [
       "Index\n",
       "3796    0\n",
       "2720    0\n",
       "3894    1\n",
       "904     1\n",
       "3609    0\n",
       "Name: Is_Congested_x, dtype: int64"
      ]
     },
     "execution_count": 5,
     "metadata": {},
     "output_type": "execute_result"
    }
   ],
   "source": [
    "y.head()"
   ]
  },
  {
   "cell_type": "markdown",
   "metadata": {},
   "source": [
    "## Create a Holdout Test Set"
   ]
  },
  {
   "cell_type": "code",
   "execution_count": 6,
   "metadata": {
    "ExecuteTime": {
     "end_time": "2019-08-06T00:30:11.110552Z",
     "start_time": "2019-08-06T00:30:11.100314Z"
    }
   },
   "outputs": [],
   "source": [
    "X_train, X_hold, y_train, y_hold = train_test_split(X, y, test_size=0.2, random_state=13)"
   ]
  },
  {
   "cell_type": "markdown",
   "metadata": {},
   "source": [
    "## K-Nearest Neighbors"
   ]
  },
  {
   "cell_type": "markdown",
   "metadata": {},
   "source": [
    "### First attempt 10-fold, K=5"
   ]
  },
  {
   "cell_type": "code",
   "execution_count": 10,
   "metadata": {
    "ExecuteTime": {
     "end_time": "2019-08-06T00:34:18.406155Z",
     "start_time": "2019-08-06T00:34:17.644090Z"
    }
   },
   "outputs": [
    {
     "name": "stdout",
     "output_type": "stream",
     "text": [
      "[0.63814617 0.6399287  0.63636364 0.60784314 0.62745098 0.64221825\n",
      " 0.64937388 0.62969589 0.64042934 0.6118068 ]\n"
     ]
    }
   ],
   "source": [
    "# 10-fold cross-validation with K=5 for KNN (the n_neighbors parameter)\n",
    "knn = KNeighborsClassifier(n_neighbors=5)\n",
    "scores = cross_val_score(knn, X_train, y_train, cv=10, scoring='accuracy')\n",
    "print(scores)"
   ]
  },
  {
   "cell_type": "code",
   "execution_count": 11,
   "metadata": {
    "ExecuteTime": {
     "end_time": "2019-08-06T00:34:22.730034Z",
     "start_time": "2019-08-06T00:34:22.724864Z"
    }
   },
   "outputs": [
    {
     "name": "stdout",
     "output_type": "stream",
     "text": [
      "0.6323256770589192\n"
     ]
    }
   ],
   "source": [
    "# use average accuracy as an estimate of out-of-sample accuracy\n",
    "print(scores.mean())"
   ]
  },
  {
   "cell_type": "code",
   "execution_count": 14,
   "metadata": {
    "ExecuteTime": {
     "end_time": "2019-08-06T00:36:33.965522Z",
     "start_time": "2019-08-06T00:35:37.121612Z"
    }
   },
   "outputs": [
    {
     "name": "stdout",
     "output_type": "stream",
     "text": [
      "[0.5805225781969969, 0.6548180957209685, 0.6053552466685161, 0.661429405068256, 0.6323256770589192, 0.6630349586573937, 0.6453458078629077, 0.6664275077407773, 0.6476720270153922, 0.6725021444583688, 0.6605298486283437, 0.6796443866211308, 0.6712492705652761, 0.6837550502393184, 0.6746424574057953, 0.6833934419433735, 0.6787512077525758, 0.6867834399982142, 0.6805356522182787, 0.6878561475004703, 0.683392166429102, 0.6875015545330184, 0.6851766108948052, 0.6887506018832967, 0.6846393005079736, 0.6892834479701784, 0.6866051868787848, 0.6908902770735876, 0.6857126457673652, 0.6899970982050325, 0.6871405839942092, 0.6910704434644244, 0.6898175695713316, 0.6914263119461478, 0.6900009247478467, 0.6917847314564141, 0.6903548799581631, 0.6923182153004315, 0.6924951929055896, 0.6933909228026875, 0.6930337788066927, 0.6942847394283782, 0.6939269576752477, 0.6935704514363885, 0.6933909228026874, 0.6937493423129537, 0.6932139451975293, 0.6933921983169589, 0.6926791858392407, 0.6930369675923711, 0.6921437887238161, 0.6932152207118009, 0.6933941115883661, 0.6935723647077956, 0.6935730024649314, 0.6933934738312303, 0.6937512555843609, 0.6935717269506598, 0.6937506178272252, 0.6933928360740945, 0.6933928360740945, 0.6935717269506598, 0.6933928360740945, 0.6935717269506598, 0.6935717269506598, 0.6937506178272251, 0.6937506178272251, 0.6937506178272251, 0.6937506178272251]\n"
     ]
    }
   ],
   "source": [
    "# search for an optimal value of K for KNN\n",
    "k_range = list(range(1, 70))\n",
    "k_scores = []\n",
    "for k in k_range:\n",
    "    knn = KNeighborsClassifier(n_neighbors=k)\n",
    "    scores = cross_val_score(knn, X_train, y_train, cv=10, scoring='accuracy')\n",
    "    k_scores.append(scores.mean())\n",
    "print(k_scores)"
   ]
  },
  {
   "cell_type": "code",
   "execution_count": 15,
   "metadata": {
    "ExecuteTime": {
     "end_time": "2019-08-06T00:36:34.398720Z",
     "start_time": "2019-08-06T00:36:34.064288Z"
    }
   },
   "outputs": [
    {
     "data": {
      "text/plain": [
       "Text(0, 0.5, 'Cross-Validated Accuracy')"
      ]
     },
     "execution_count": 15,
     "metadata": {},
     "output_type": "execute_result"
    },
    {
     "data": {
      "image/png": "[encoded data removed]",
      "text/plain": [
       "<Figure size 432x288 with 1 Axes>"
      ]
     },
     "metadata": {
      "image/png": {
       "height": 266,
       "width": 395
      },
      "needs_background": "light"
     },
     "output_type": "display_data"
    }
   ],
   "source": [
    "import matplotlib.pyplot as plt\n",
    "%matplotlib inline\n",
    "\n",
    "# plot the value of K for KNN (x-axis) versus the cross-validated accuracy (y-axis)\n",
    "plt.plot(k_range, k_scores)\n",
    "plt.xlabel('Value of K for KNN')\n",
    "plt.ylabel('Cross-Validated Accuracy')"
   ]
  },
  {
   "cell_type": "code",
   "execution_count": 17,
   "metadata": {
    "ExecuteTime": {
     "end_time": "2019-08-06T00:39:15.903927Z",
     "start_time": "2019-08-06T00:38:07.420873Z"
    }
   },
   "outputs": [
    {
     "data": {
      "text/plain": [
       "Text(0, 0.5, 'Cross-Validated Accuracy')"
      ]
     },
     "execution_count": 17,
     "metadata": {},
     "output_type": "execute_result"
    },
    {
     "data": {
      "image/png": "[encoded data removed]",
      "text/plain": [
       "<Figure size 432x288 with 1 Axes>"
      ]
     },
     "metadata": {
      "image/png": {
       "height": 270,
       "width": 395
      },
      "needs_background": "light"
     },
     "output_type": "display_data"
    }
   ],
   "source": [
    "# Another cool viz \n",
    "k_range = list(range(1, 100))\n",
    "k_scores = []\n",
    "for k in k_range:\n",
    "    knn = KNeighborsClassifier(n_neighbors=k)\n",
    "    scores = cross_val_score(knn, X_train, y_train, scoring='accuracy', cv = 5)\n",
    "    k_scores.append(scores.mean())\n",
    "#print(k_scores)\n",
    "\n",
    "plt.plot(k_range, k_scores)\n",
    "plt.xlabel('Value of K for KNN')\n",
    "plt.ylabel('Cross-Validated Accuracy')\n",
    "\n",
    "# Any guesses on why accuracy drops drastically at these 'neighbor intervals'?"
   ]
  },
  {
   "cell_type": "markdown",
   "metadata": {},
   "source": [
    "### KNN Cross Validation with best K from previous step"
   ]
  },
  {
   "cell_type": "code",
   "execution_count": 18,
   "metadata": {
    "ExecuteTime": {
     "end_time": "2019-08-06T00:39:44.542609Z",
     "start_time": "2019-08-06T00:39:43.694683Z"
    }
   },
   "outputs": [
    {
     "name": "stdout",
     "output_type": "stream",
     "text": [
      "0.6933909228026875\n"
     ]
    }
   ],
   "source": [
    "# 10-fold cross-validation with the best KNN model\n",
    "knn = KNeighborsClassifier(n_neighbors=40)\n",
    "print(cross_val_score(knn, X_train, y_train, cv=10, scoring='accuracy').mean())"
   ]
  },
  {
   "cell_type": "markdown",
   "metadata": {},
   "source": [
    "### Using the cross_validate method to get training scores"
   ]
  },
  {
   "cell_type": "code",
   "execution_count": 28,
   "metadata": {
    "ExecuteTime": {
     "end_time": "2019-08-06T12:49:52.043736Z",
     "start_time": "2019-08-06T12:49:52.040921Z"
    }
   },
   "outputs": [],
   "source": [
    "knn = KNeighborsClassifier(n_neighbors=40)"
   ]
  },
  {
   "cell_type": "code",
   "execution_count": 29,
   "metadata": {
    "ExecuteTime": {
     "end_time": "2019-08-06T12:49:57.896796Z",
     "start_time": "2019-08-06T12:49:53.008839Z"
    }
   },
   "outputs": [],
   "source": [
    "cv_results = cross_validate(knn, X_train, y_train, cv = 10, return_train_score=True)"
   ]
  },
  {
   "cell_type": "code",
   "execution_count": 33,
   "metadata": {
    "ExecuteTime": {
     "end_time": "2019-08-06T12:53:31.766085Z",
     "start_time": "2019-08-06T12:53:31.761913Z"
    }
   },
   "outputs": [
    {
     "name": "stdout",
     "output_type": "stream",
     "text": [
      "[0.69438381 0.69339155 0.69418535 0.69418535 0.6939869  0.69390994\n",
      " 0.69430669 0.69410831 0.69470343 0.69371157]\n",
      "[0.6969697  0.6969697  0.6916221  0.69340463 0.69340463 0.69230769\n",
      " 0.69588551 0.69051878 0.69051878 0.69230769]\n"
     ]
    }
   ],
   "source": [
    "print(cv_results['train_score'])\n",
    "print(cv_results['test_score'])"
   ]
  },
  {
   "cell_type": "markdown",
   "metadata": {},
   "source": [
    "### GridSearch"
   ]
  },
  {
   "cell_type": "code",
   "execution_count": 37,
   "metadata": {
    "ExecuteTime": {
     "end_time": "2019-08-06T12:56:48.390396Z",
     "start_time": "2019-08-06T12:56:48.387320Z"
    }
   },
   "outputs": [],
   "source": [
    "k_range = list(range(1, 100))\n",
    "param_grid = dict(n_neighbors=k_range)"
   ]
  },
  {
   "cell_type": "code",
   "execution_count": 38,
   "metadata": {
    "ExecuteTime": {
     "end_time": "2019-08-06T12:56:49.014344Z",
     "start_time": "2019-08-06T12:56:49.011536Z"
    }
   },
   "outputs": [],
   "source": [
    "# instantiate the grid\n",
    "grid = GridSearchCV(knn, param_grid, cv=10, scoring='accuracy')"
   ]
  },
  {
   "cell_type": "code",
   "execution_count": 39,
   "metadata": {
    "ExecuteTime": {
     "end_time": "2019-08-06T12:58:16.671223Z",
     "start_time": "2019-08-06T12:56:49.837891Z"
    }
   },
   "outputs": [],
   "source": [
    "# fit the grid with data\n",
    "grid.fit(X_train, y_train);"
   ]
  },
  {
   "cell_type": "code",
   "execution_count": 40,
   "metadata": {
    "ExecuteTime": {
     "end_time": "2019-08-06T12:58:16.813381Z",
     "start_time": "2019-08-06T12:58:16.786564Z"
    }
   },
   "outputs": [
    {
     "data": {
      "text/plain": [
       "{'mean_fit_time': array([0.03666651, 0.03504279, 0.03507268, 0.0367862 , 0.03556459,\n",
       "        0.03584402, 0.03489857, 0.03535657, 0.03432922, 0.03484943,\n",
       "        0.03472557, 0.03495619, 0.034337  , 0.03568306, 0.03499978,\n",
       "        0.03650515, 0.035972  , 0.03668437, 0.03418217, 0.03692982,\n",
       "        0.03707638, 0.03674476, 0.03607845, 0.03526959, 0.03535612,\n",
       "        0.03578727, 0.03623605, 0.03784497, 0.03654797, 0.03567836,\n",
       "        0.0358402 , 0.03567426, 0.03419113, 0.03609059, 0.03721886,\n",
       "        0.03644576, 0.03555813, 0.03520601, 0.03414216, 0.03484654,\n",
       "        0.0351311 , 0.03616762, 0.03479171, 0.03540881, 0.03639505,\n",
       "        0.03624976, 0.03432188, 0.03585129, 0.0354434 , 0.03674927,\n",
       "        0.03666654, 0.03756521, 0.03506308, 0.03561411, 0.03635771,\n",
       "        0.03652143, 0.03571703, 0.0359678 , 0.0357955 , 0.03560786,\n",
       "        0.03747182, 0.03625572, 0.03695483, 0.03502078, 0.03636723,\n",
       "        0.03622999, 0.03658931, 0.03712621, 0.03601329, 0.03667727,\n",
       "        0.03693755, 0.03671112, 0.03687589, 0.03711646, 0.03697321,\n",
       "        0.03696516, 0.03687057, 0.03660905, 0.03748336, 0.03697162,\n",
       "        0.03591754, 0.03632646, 0.03666911, 0.03650885, 0.03689671,\n",
       "        0.03718629, 0.0386332 , 0.03785419, 0.03954763, 0.03903406,\n",
       "        0.03695276, 0.0445879 , 0.04351885, 0.04619684, 0.03891022,\n",
       "        0.03812139, 0.03863914, 0.0391777 , 0.04753184]),\n",
       " 'std_fit_time': array([0.0025201 , 0.00166142, 0.00126829, 0.00169643, 0.00117754,\n",
       "        0.0011091 , 0.00130362, 0.00120704, 0.00105446, 0.00088858,\n",
       "        0.00078053, 0.00121879, 0.00093223, 0.0010334 , 0.00060429,\n",
       "        0.00154552, 0.00119549, 0.00454542, 0.00081558, 0.00159756,\n",
       "        0.00092341, 0.00105236, 0.00133629, 0.00075804, 0.00053161,\n",
       "        0.00042647, 0.00134601, 0.00099204, 0.00097071, 0.00092697,\n",
       "        0.00049292, 0.00062371, 0.00075125, 0.00197022, 0.00116592,\n",
       "        0.00108113, 0.00178222, 0.00117482, 0.00067949, 0.00097342,\n",
       "        0.00102494, 0.00137624, 0.00123728, 0.00085389, 0.00158007,\n",
       "        0.00102563, 0.00072651, 0.00185119, 0.001869  , 0.00095338,\n",
       "        0.00084318, 0.00128381, 0.00258705, 0.00104886, 0.0005668 ,\n",
       "        0.00110265, 0.00168098, 0.00134833, 0.00033694, 0.00093257,\n",
       "        0.00209386, 0.00237472, 0.00226262, 0.00039903, 0.00087225,\n",
       "        0.00059117, 0.00136987, 0.00141026, 0.00076506, 0.00075807,\n",
       "        0.00092787, 0.00055211, 0.00081176, 0.00137789, 0.00156141,\n",
       "        0.00124185, 0.00152951, 0.00103091, 0.00174027, 0.0012194 ,\n",
       "        0.00044493, 0.00061052, 0.00068549, 0.0007283 , 0.00106871,\n",
       "        0.00134528, 0.00313307, 0.00273928, 0.00189561, 0.00299478,\n",
       "        0.00178935, 0.01542285, 0.001977  , 0.019428  , 0.00267814,\n",
       "        0.00279265, 0.00284184, 0.00256904, 0.02476856]),\n",
       " 'mean_score_time': array([0.02828979, 0.03076756, 0.03149967, 0.03313823, 0.03348598,\n",
       "        0.03372242, 0.03359377, 0.0348608 , 0.03504972, 0.0356344 ,\n",
       "        0.03716202, 0.03727009, 0.03707685, 0.03973725, 0.03871739,\n",
       "        0.04115617, 0.04206963, 0.0396663 , 0.0395555 , 0.04457066,\n",
       "        0.04455302, 0.04367161, 0.04374731, 0.04301147, 0.04315326,\n",
       "        0.04380345, 0.04419851, 0.04770639, 0.04539282, 0.04518666,\n",
       "        0.04476635, 0.04520934, 0.04410424, 0.04757075, 0.04740539,\n",
       "        0.04746187, 0.04498825, 0.04537733, 0.04490044, 0.04582198,\n",
       "        0.04676008, 0.04790578, 0.04814148, 0.04864452, 0.0511107 ,\n",
       "        0.05022244, 0.04774582, 0.04998608, 0.04864962, 0.0506593 ,\n",
       "        0.05214503, 0.05166821, 0.0488656 , 0.05126412, 0.05352101,\n",
       "        0.05225558, 0.05114136, 0.05109086, 0.0532809 , 0.05193851,\n",
       "        0.05299699, 0.05257068, 0.05361075, 0.05282326, 0.05483928,\n",
       "        0.05451825, 0.05567074, 0.05544817, 0.05525231, 0.07082565,\n",
       "        0.0579175 , 0.05767055, 0.05947866, 0.0582592 , 0.05794604,\n",
       "        0.0579186 , 0.05975199, 0.05862284, 0.05890727, 0.05876038,\n",
       "        0.0583602 , 0.05879235, 0.05954309, 0.05958865, 0.06140177,\n",
       "        0.0608489 , 0.06299455, 0.06055927, 0.0656275 , 0.06270087,\n",
       "        0.05977256, 0.07076726, 0.0695291 , 0.06883645, 0.06337831,\n",
       "        0.06222868, 0.06462629, 0.06523569, 0.07121205]),\n",
       " 'std_score_time': array([0.00070056, 0.00217079, 0.00114467, 0.0018189 , 0.00139857,\n",
       "        0.00089918, 0.00110472, 0.00162517, 0.00132807, 0.00082504,\n",
       "        0.00138645, 0.00166238, 0.00092752, 0.00141329, 0.00112264,\n",
       "        0.00269513, 0.00196761, 0.00155129, 0.00131129, 0.00242383,\n",
       "        0.00175694, 0.00136745, 0.00262354, 0.00147077, 0.00124251,\n",
       "        0.00154268, 0.001796  , 0.00121957, 0.00217925, 0.00150755,\n",
       "        0.00127152, 0.00110032, 0.00164376, 0.00327998, 0.00287944,\n",
       "        0.00200055, 0.00105588, 0.00106479, 0.00092673, 0.00089219,\n",
       "        0.00155698, 0.00173945, 0.00265679, 0.00191835, 0.00341669,\n",
       "        0.0017659 , 0.00222033, 0.00292886, 0.00135153, 0.00135561,\n",
       "        0.00248257, 0.00203938, 0.0017259 , 0.00232401, 0.00158976,\n",
       "        0.00111782, 0.00162189, 0.00095813, 0.00106199, 0.00147506,\n",
       "        0.00160816, 0.00190375, 0.00212489, 0.00124856, 0.00124468,\n",
       "        0.00102782, 0.00071257, 0.00115975, 0.00125619, 0.04238277,\n",
       "        0.00214712, 0.00152628, 0.00238804, 0.00201295, 0.00224882,\n",
       "        0.00134852, 0.00150891, 0.00112085, 0.00143851, 0.00147524,\n",
       "        0.00129138, 0.00127636, 0.00162763, 0.00106941, 0.00221399,\n",
       "        0.00160945, 0.00324839, 0.00236434, 0.00234233, 0.00285215,\n",
       "        0.00166276, 0.01520222, 0.00304977, 0.01296023, 0.00240248,\n",
       "        0.00271401, 0.00267531, 0.00318834, 0.00860411]),\n",
       " 'param_n_neighbors': masked_array(data=[1, 2, 3, 4, 5, 6, 7, 8, 9, 10, 11, 12, 13, 14, 15, 16,\n",
       "                    17, 18, 19, 20, 21, 22, 23, 24, 25, 26, 27, 28, 29, 30,\n",
       "                    31, 32, 33, 34, 35, 36, 37, 38, 39, 40, 41, 42, 43, 44,\n",
       "                    45, 46, 47, 48, 49, 50, 51, 52, 53, 54, 55, 56, 57, 58,\n",
       "                    59, 60, 61, 62, 63, 64, 65, 66, 67, 68, 69, 70, 71, 72,\n",
       "                    73, 74, 75, 76, 77, 78, 79, 80, 81, 82, 83, 84, 85, 86,\n",
       "                    87, 88, 89, 90, 91, 92, 93, 94, 95, 96, 97, 98, 99],\n",
       "              mask=[False, False, False, False, False, False, False, False,\n",
       "                    False, False, False, False, False, False, False, False,\n",
       "                    False, False, False, False, False, False, False, False,\n",
       "                    False, False, False, False, False, False, False, False,\n",
       "                    False, False, False, False, False, False, False, False,\n",
       "                    False, False, False, False, False, False, False, False,\n",
       "                    False, False, False, False, False, False, False, False,\n",
       "                    False, False, False, False, False, False, False, False,\n",
       "                    False, False, False, False, False, False, False, False,\n",
       "                    False, False, False, False, False, False, False, False,\n",
       "                    False, False, False, False, False, False, False, False,\n",
       "                    False, False, False, False, False, False, False, False,\n",
       "                    False, False, False],\n",
       "        fill_value='?',\n",
       "             dtype=object),\n",
       " 'params': [{'n_neighbors': 1},\n",
       "  {'n_neighbors': 2},\n",
       "  {'n_neighbors': 3},\n",
       "  {'n_neighbors': 4},\n",
       "  {'n_neighbors': 5},\n",
       "  {'n_neighbors': 6},\n",
       "  {'n_neighbors': 7},\n",
       "  {'n_neighbors': 8},\n",
       "  {'n_neighbors': 9},\n",
       "  {'n_neighbors': 10},\n",
       "  {'n_neighbors': 11},\n",
       "  {'n_neighbors': 12},\n",
       "  {'n_neighbors': 13},\n",
       "  {'n_neighbors': 14},\n",
       "  {'n_neighbors': 15},\n",
       "  {'n_neighbors': 16},\n",
       "  {'n_neighbors': 17},\n",
       "  {'n_neighbors': 18},\n",
       "  {'n_neighbors': 19},\n",
       "  {'n_neighbors': 20},\n",
       "  {'n_neighbors': 21},\n",
       "  {'n_neighbors': 22},\n",
       "  {'n_neighbors': 23},\n",
       "  {'n_neighbors': 24},\n",
       "  {'n_neighbors': 25},\n",
       "  {'n_neighbors': 26},\n",
       "  {'n_neighbors': 27},\n",
       "  {'n_neighbors': 28},\n",
       "  {'n_neighbors': 29},\n",
       "  {'n_neighbors': 30},\n",
       "  {'n_neighbors': 31},\n",
       "  {'n_neighbors': 32},\n",
       "  {'n_neighbors': 33},\n",
       "  {'n_neighbors': 34},\n",
       "  {'n_neighbors': 35},\n",
       "  {'n_neighbors': 36},\n",
       "  {'n_neighbors': 37},\n",
       "  {'n_neighbors': 38},\n",
       "  {'n_neighbors': 39},\n",
       "  {'n_neighbors': 40},\n",
       "  {'n_neighbors': 41},\n",
       "  {'n_neighbors': 42},\n",
       "  {'n_neighbors': 43},\n",
       "  {'n_neighbors': 44},\n",
       "  {'n_neighbors': 45},\n",
       "  {'n_neighbors': 46},\n",
       "  {'n_neighbors': 47},\n",
       "  {'n_neighbors': 48},\n",
       "  {'n_neighbors': 49},\n",
       "  {'n_neighbors': 50},\n",
       "  {'n_neighbors': 51},\n",
       "  {'n_neighbors': 52},\n",
       "  {'n_neighbors': 53},\n",
       "  {'n_neighbors': 54},\n",
       "  {'n_neighbors': 55},\n",
       "  {'n_neighbors': 56},\n",
       "  {'n_neighbors': 57},\n",
       "  {'n_neighbors': 58},\n",
       "  {'n_neighbors': 59},\n",
       "  {'n_neighbors': 60},\n",
       "  {'n_neighbors': 61},\n",
       "  {'n_neighbors': 62},\n",
       "  {'n_neighbors': 63},\n",
       "  {'n_neighbors': 64},\n",
       "  {'n_neighbors': 65},\n",
       "  {'n_neighbors': 66},\n",
       "  {'n_neighbors': 67},\n",
       "  {'n_neighbors': 68},\n",
       "  {'n_neighbors': 69},\n",
       "  {'n_neighbors': 70},\n",
       "  {'n_neighbors': 71},\n",
       "  {'n_neighbors': 72},\n",
       "  {'n_neighbors': 73},\n",
       "  {'n_neighbors': 74},\n",
       "  {'n_neighbors': 75},\n",
       "  {'n_neighbors': 76},\n",
       "  {'n_neighbors': 77},\n",
       "  {'n_neighbors': 78},\n",
       "  {'n_neighbors': 79},\n",
       "  {'n_neighbors': 80},\n",
       "  {'n_neighbors': 81},\n",
       "  {'n_neighbors': 82},\n",
       "  {'n_neighbors': 83},\n",
       "  {'n_neighbors': 84},\n",
       "  {'n_neighbors': 85},\n",
       "  {'n_neighbors': 86},\n",
       "  {'n_neighbors': 87},\n",
       "  {'n_neighbors': 88},\n",
       "  {'n_neighbors': 89},\n",
       "  {'n_neighbors': 90},\n",
       "  {'n_neighbors': 91},\n",
       "  {'n_neighbors': 92},\n",
       "  {'n_neighbors': 93},\n",
       "  {'n_neighbors': 94},\n",
       "  {'n_neighbors': 95},\n",
       "  {'n_neighbors': 96},\n",
       "  {'n_neighbors': 97},\n",
       "  {'n_neighbors': 98},\n",
       "  {'n_neighbors': 99}],\n",
       " 'split0_test_score': array([0.63458111, 0.67379679, 0.61319073, 0.67023173, 0.63814617,\n",
       "        0.67736185, 0.64884135, 0.67557932, 0.65062389, 0.66666667,\n",
       "        0.65240642, 0.67557932, 0.65953654, 0.67201426, 0.66131907,\n",
       "        0.68270945, 0.67379679, 0.6916221 , 0.68270945, 0.68805704,\n",
       "        0.67736185, 0.68627451, 0.68270945, 0.69340463, 0.68983957,\n",
       "        0.69518717, 0.68805704, 0.69340463, 0.68270945, 0.6916221 ,\n",
       "        0.68449198, 0.69518717, 0.69518717, 0.6969697 , 0.69340463,\n",
       "        0.6969697 , 0.6969697 , 0.6969697 , 0.70053476, 0.6969697 ,\n",
       "        0.6969697 , 0.6969697 , 0.6969697 , 0.69340463, 0.6969697 ,\n",
       "        0.69518717, 0.69340463, 0.69518717, 0.68983957, 0.6916221 ,\n",
       "        0.68983957, 0.69518717, 0.69518717, 0.69518717, 0.69340463,\n",
       "        0.6916221 , 0.6916221 , 0.69340463, 0.69340463, 0.69340463,\n",
       "        0.69340463, 0.69340463, 0.69340463, 0.69340463, 0.69340463,\n",
       "        0.69340463, 0.69340463, 0.69340463, 0.69340463, 0.69340463,\n",
       "        0.69340463, 0.69340463, 0.69340463, 0.69340463, 0.69340463,\n",
       "        0.69340463, 0.69340463, 0.69340463, 0.69340463, 0.69340463,\n",
       "        0.69340463, 0.69340463, 0.69340463, 0.69340463, 0.69340463,\n",
       "        0.69340463, 0.69340463, 0.69340463, 0.69340463, 0.69340463,\n",
       "        0.69340463, 0.69340463, 0.69340463, 0.69340463, 0.69340463,\n",
       "        0.69340463, 0.69340463, 0.69340463, 0.69340463]),\n",
       " 'split1_test_score': array([0.59714795, 0.65597148, 0.60784314, 0.66666667, 0.6399287 ,\n",
       "        0.66666667, 0.66131907, 0.67023173, 0.6631016 , 0.67023173,\n",
       "        0.66488414, 0.67914439, 0.67379679, 0.67736185, 0.67379679,\n",
       "        0.68270945, 0.67557932, 0.68805704, 0.67914439, 0.6916221 ,\n",
       "        0.68092692, 0.68270945, 0.68449198, 0.68805704, 0.68270945,\n",
       "        0.68805704, 0.68449198, 0.6969697 , 0.6916221 , 0.69518717,\n",
       "        0.68983957, 0.69340463, 0.69518717, 0.6916221 , 0.68805704,\n",
       "        0.69340463, 0.69340463, 0.69518717, 0.6969697 , 0.6969697 ,\n",
       "        0.6969697 , 0.6969697 , 0.6969697 , 0.6969697 , 0.6969697 ,\n",
       "        0.69518717, 0.69518717, 0.69340463, 0.6916221 , 0.6916221 ,\n",
       "        0.6916221 , 0.6916221 , 0.6916221 , 0.6916221 , 0.6916221 ,\n",
       "        0.69340463, 0.69340463, 0.69340463, 0.69340463, 0.69340463,\n",
       "        0.69340463, 0.69340463, 0.69340463, 0.69340463, 0.69340463,\n",
       "        0.69340463, 0.69340463, 0.69340463, 0.69340463, 0.69340463,\n",
       "        0.69340463, 0.69340463, 0.69340463, 0.69340463, 0.69340463,\n",
       "        0.69340463, 0.69340463, 0.69340463, 0.69340463, 0.69340463,\n",
       "        0.69340463, 0.69340463, 0.69340463, 0.69340463, 0.69340463,\n",
       "        0.69340463, 0.69340463, 0.69340463, 0.69340463, 0.69340463,\n",
       "        0.69340463, 0.69340463, 0.69340463, 0.69340463, 0.69340463,\n",
       "        0.69340463, 0.69340463, 0.69340463, 0.69340463]),\n",
       " 'split2_test_score': array([0.56506239, 0.65597148, 0.59714795, 0.6631016 , 0.63636364,\n",
       "        0.65240642, 0.65062389, 0.66488414, 0.63636364, 0.67736185,\n",
       "        0.67023173, 0.68449198, 0.67736185, 0.68805704, 0.68627451,\n",
       "        0.68270945, 0.68270945, 0.68805704, 0.68449198, 0.68805704,\n",
       "        0.68983957, 0.68627451, 0.68805704, 0.68092692, 0.68449198,\n",
       "        0.68449198, 0.68270945, 0.68627451, 0.68092692, 0.68805704,\n",
       "        0.68627451, 0.68805704, 0.68805704, 0.6916221 , 0.68627451,\n",
       "        0.68983957, 0.68983957, 0.69340463, 0.69340463, 0.6916221 ,\n",
       "        0.6916221 , 0.69340463, 0.69340463, 0.69340463, 0.69340463,\n",
       "        0.69340463, 0.69340463, 0.69340463, 0.69340463, 0.69340463,\n",
       "        0.6916221 , 0.6916221 , 0.6916221 , 0.69340463, 0.69340463,\n",
       "        0.69340463, 0.69340463, 0.69340463, 0.69340463, 0.69340463,\n",
       "        0.69340463, 0.69340463, 0.69340463, 0.69340463, 0.69340463,\n",
       "        0.69340463, 0.69340463, 0.69340463, 0.69340463, 0.69340463,\n",
       "        0.69340463, 0.69340463, 0.69340463, 0.69340463, 0.69340463,\n",
       "        0.69340463, 0.69340463, 0.69340463, 0.69340463, 0.69340463,\n",
       "        0.69340463, 0.69340463, 0.69340463, 0.69340463, 0.69340463,\n",
       "        0.69340463, 0.69340463, 0.69340463, 0.69340463, 0.69340463,\n",
       "        0.69340463, 0.69340463, 0.69340463, 0.69340463, 0.69340463,\n",
       "        0.69340463, 0.69340463, 0.69340463, 0.69340463]),\n",
       " 'split3_test_score': array([0.57219251, 0.63814617, 0.59893048, 0.64171123, 0.60784314,\n",
       "        0.65953654, 0.64349376, 0.66131907, 0.63814617, 0.66666667,\n",
       "        0.66131907, 0.67914439, 0.67201426, 0.68092692, 0.67736185,\n",
       "        0.68627451, 0.67557932, 0.68449198, 0.67201426, 0.68449198,\n",
       "        0.68092692, 0.68449198, 0.68449198, 0.68627451, 0.68092692,\n",
       "        0.68627451, 0.68627451, 0.68805704, 0.68449198, 0.68983957,\n",
       "        0.68449198, 0.68627451, 0.68627451, 0.68983957, 0.68627451,\n",
       "        0.68805704, 0.68805704, 0.69340463, 0.69340463, 0.69340463,\n",
       "        0.6916221 , 0.69340463, 0.69340463, 0.69340463, 0.6916221 ,\n",
       "        0.69340463, 0.6916221 , 0.69340463, 0.69340463, 0.6916221 ,\n",
       "        0.6916221 , 0.6916221 , 0.6916221 , 0.6916221 , 0.6916221 ,\n",
       "        0.69340463, 0.69340463, 0.69340463, 0.69340463, 0.69340463,\n",
       "        0.69340463, 0.69340463, 0.69340463, 0.69340463, 0.69340463,\n",
       "        0.69340463, 0.69340463, 0.69340463, 0.69340463, 0.69340463,\n",
       "        0.69340463, 0.69340463, 0.69340463, 0.69340463, 0.69340463,\n",
       "        0.69340463, 0.69340463, 0.69340463, 0.69340463, 0.69340463,\n",
       "        0.69340463, 0.69340463, 0.69340463, 0.69340463, 0.69340463,\n",
       "        0.69340463, 0.69340463, 0.69340463, 0.69340463, 0.69340463,\n",
       "        0.69340463, 0.69340463, 0.69340463, 0.69340463, 0.69340463,\n",
       "        0.69340463, 0.69340463, 0.69340463, 0.69340463]),\n",
       " 'split4_test_score': array([0.57040998, 0.65953654, 0.61497326, 0.6631016 , 0.62745098,\n",
       "        0.66131907, 0.65418895, 0.6631016 , 0.6684492 , 0.67557932,\n",
       "        0.67023173, 0.67557932, 0.67557932, 0.68627451, 0.67557932,\n",
       "        0.68092692, 0.68270945, 0.68805704, 0.68449198, 0.68983957,\n",
       "        0.68983957, 0.69340463, 0.6916221 , 0.69340463, 0.69518717,\n",
       "        0.69875223, 0.6969697 , 0.6969697 , 0.69340463, 0.69340463,\n",
       "        0.6969697 , 0.69518717, 0.69518717, 0.69340463, 0.69340463,\n",
       "        0.69340463, 0.68983957, 0.6916221 , 0.6916221 , 0.69340463,\n",
       "        0.69340463, 0.69340463, 0.69340463, 0.69340463, 0.69340463,\n",
       "        0.69340463, 0.69340463, 0.69340463, 0.69340463, 0.69340463,\n",
       "        0.69340463, 0.69340463, 0.69340463, 0.69340463, 0.69340463,\n",
       "        0.69340463, 0.69340463, 0.69340463, 0.69340463, 0.69340463,\n",
       "        0.69340463, 0.69340463, 0.69340463, 0.69340463, 0.69340463,\n",
       "        0.69340463, 0.69340463, 0.69340463, 0.69340463, 0.69340463,\n",
       "        0.69340463, 0.69340463, 0.69340463, 0.69340463, 0.69340463,\n",
       "        0.69340463, 0.69340463, 0.69340463, 0.69340463, 0.69340463,\n",
       "        0.69340463, 0.69340463, 0.69340463, 0.69340463, 0.69340463,\n",
       "        0.69340463, 0.69340463, 0.69340463, 0.69340463, 0.69340463,\n",
       "        0.69340463, 0.69340463, 0.69340463, 0.69340463, 0.69340463,\n",
       "        0.69340463, 0.69340463, 0.69340463, 0.69340463]),\n",
       " 'split5_test_score': array([0.58676208, 0.64758497, 0.59928444, 0.66189624, 0.64221825,\n",
       "        0.66368515, 0.64221825, 0.66905188, 0.64937388, 0.67799642,\n",
       "        0.66189624, 0.67799642, 0.6744186 , 0.68694097, 0.67620751,\n",
       "        0.6744186 , 0.67084079, 0.6726297 , 0.66189624, 0.6744186 ,\n",
       "        0.67084079, 0.67978533, 0.6726297 , 0.68694097, 0.6744186 ,\n",
       "        0.68157424, 0.67978533, 0.68872987, 0.68872987, 0.69230769,\n",
       "        0.68872987, 0.69051878, 0.68872987, 0.68872987, 0.69230769,\n",
       "        0.68872987, 0.68872987, 0.69051878, 0.69051878, 0.69230769,\n",
       "        0.69230769, 0.6940966 , 0.69230769, 0.6940966 , 0.6940966 ,\n",
       "        0.6940966 , 0.6940966 , 0.6940966 , 0.6940966 , 0.6940966 ,\n",
       "        0.6940966 , 0.6940966 , 0.69588551, 0.6940966 , 0.69588551,\n",
       "        0.6940966 , 0.69588551, 0.6940966 , 0.69588551, 0.6940966 ,\n",
       "        0.6940966 , 0.6940966 , 0.6940966 , 0.6940966 , 0.6940966 ,\n",
       "        0.6940966 , 0.6940966 , 0.6940966 , 0.6940966 , 0.6940966 ,\n",
       "        0.6940966 , 0.6940966 , 0.6940966 , 0.6940966 , 0.6940966 ,\n",
       "        0.6940966 , 0.6940966 , 0.6940966 , 0.6940966 , 0.6940966 ,\n",
       "        0.6940966 , 0.6940966 , 0.6940966 , 0.6940966 , 0.6940966 ,\n",
       "        0.6940966 , 0.6940966 , 0.6940966 , 0.6940966 , 0.6940966 ,\n",
       "        0.6940966 , 0.6940966 , 0.6940966 , 0.6940966 , 0.6940966 ,\n",
       "        0.6940966 , 0.6940966 , 0.6940966 , 0.6940966 ]),\n",
       " 'split6_test_score': array([0.57781753, 0.6529517 , 0.61001789, 0.6726297 , 0.64937388,\n",
       "        0.66189624, 0.64221825, 0.66905188, 0.65652952, 0.6726297 ,\n",
       "        0.66368515, 0.68157424, 0.67978533, 0.69230769, 0.68872987,\n",
       "        0.68694097, 0.69230769, 0.68872987, 0.69051878, 0.6940966 ,\n",
       "        0.69588551, 0.6940966 , 0.69588551, 0.69230769, 0.68872987,\n",
       "        0.6940966 , 0.69230769, 0.6940966 , 0.69230769, 0.6940966 ,\n",
       "        0.69230769, 0.6940966 , 0.69230769, 0.6940966 , 0.6940966 ,\n",
       "        0.6940966 , 0.6940966 , 0.6940966 , 0.69588551, 0.69588551,\n",
       "        0.69588551, 0.69588551, 0.69588551, 0.69588551, 0.69588551,\n",
       "        0.6940966 , 0.69588551, 0.6940966 , 0.69588551, 0.6940966 ,\n",
       "        0.69588551, 0.69588551, 0.69588551, 0.69588551, 0.69588551,\n",
       "        0.69588551, 0.69588551, 0.69588551, 0.69588551, 0.6940966 ,\n",
       "        0.6940966 , 0.6940966 , 0.6940966 , 0.6940966 , 0.6940966 ,\n",
       "        0.6940966 , 0.6940966 , 0.6940966 , 0.6940966 , 0.6940966 ,\n",
       "        0.6940966 , 0.6940966 , 0.6940966 , 0.6940966 , 0.6940966 ,\n",
       "        0.6940966 , 0.6940966 , 0.6940966 , 0.6940966 , 0.6940966 ,\n",
       "        0.6940966 , 0.6940966 , 0.6940966 , 0.6940966 , 0.6940966 ,\n",
       "        0.6940966 , 0.6940966 , 0.6940966 , 0.6940966 , 0.6940966 ,\n",
       "        0.6940966 , 0.6940966 , 0.6940966 , 0.6940966 , 0.6940966 ,\n",
       "        0.6940966 , 0.6940966 , 0.6940966 , 0.6940966 ]),\n",
       " 'split7_test_score': array([0.56887299, 0.65652952, 0.62254025, 0.66189624, 0.62969589,\n",
       "        0.66189624, 0.63864043, 0.65652952, 0.63506261, 0.67620751,\n",
       "        0.65652952, 0.6940966 , 0.67799642, 0.69230769, 0.69230769,\n",
       "        0.69588551, 0.69051878, 0.69767442, 0.69230769, 0.69588551,\n",
       "        0.69767442, 0.70125224, 0.69767442, 0.69588551, 0.69767442,\n",
       "        0.69230769, 0.6940966 , 0.6940966 , 0.69230769, 0.69051878,\n",
       "        0.69051878, 0.69051878, 0.68872987, 0.69051878, 0.69051878,\n",
       "        0.69051878, 0.68694097, 0.68872987, 0.68872987, 0.69051878,\n",
       "        0.69230769, 0.6940966 , 0.6940966 , 0.69230769, 0.68872987,\n",
       "        0.6940966 , 0.6940966 , 0.6940966 , 0.6940966 , 0.6940966 ,\n",
       "        0.6940966 , 0.6940966 , 0.6940966 , 0.6940966 , 0.6940966 ,\n",
       "        0.6940966 , 0.6940966 , 0.6940966 , 0.6940966 , 0.6940966 ,\n",
       "        0.6940966 , 0.6940966 , 0.6940966 , 0.6940966 , 0.6940966 ,\n",
       "        0.6940966 , 0.6940966 , 0.6940966 , 0.6940966 , 0.6940966 ,\n",
       "        0.6940966 , 0.6940966 , 0.6940966 , 0.6940966 , 0.6940966 ,\n",
       "        0.6940966 , 0.6940966 , 0.6940966 , 0.6940966 , 0.6940966 ,\n",
       "        0.6940966 , 0.6940966 , 0.6940966 , 0.6940966 , 0.6940966 ,\n",
       "        0.6940966 , 0.6940966 , 0.6940966 , 0.6940966 , 0.6940966 ,\n",
       "        0.6940966 , 0.6940966 , 0.6940966 , 0.6940966 , 0.6940966 ,\n",
       "        0.6940966 , 0.6940966 , 0.6940966 , 0.6940966 ]),\n",
       " 'split8_test_score': array([0.56887299, 0.65652952, 0.61001789, 0.65474061, 0.64042934,\n",
       "        0.6726297 , 0.64042934, 0.6726297 , 0.6529517 , 0.66726297,\n",
       "        0.6529517 , 0.6726297 , 0.65831843, 0.6744186 , 0.65652952,\n",
       "        0.6726297 , 0.66010733, 0.67799642, 0.67084079, 0.68157424,\n",
       "        0.66547406, 0.6744186 , 0.66547406, 0.67620751, 0.66905188,\n",
       "        0.68157424, 0.6744186 , 0.68157424, 0.6744186 , 0.68336315,\n",
       "        0.67799642, 0.68872987, 0.68157424, 0.68694097, 0.68515206,\n",
       "        0.68872987, 0.68336315, 0.68694097, 0.68515206, 0.69051878,\n",
       "        0.68694097, 0.69051878, 0.68872987, 0.68872987, 0.68872987,\n",
       "        0.69051878, 0.68872987, 0.69051878, 0.68872987, 0.69230769,\n",
       "        0.68872987, 0.69230769, 0.69230769, 0.69230769, 0.69230769,\n",
       "        0.69051878, 0.69230769, 0.69051878, 0.69051878, 0.69051878,\n",
       "        0.69051878, 0.69230769, 0.69051878, 0.69230769, 0.69230769,\n",
       "        0.6940966 , 0.6940966 , 0.6940966 , 0.6940966 , 0.6940966 ,\n",
       "        0.6940966 , 0.6940966 , 0.6940966 , 0.6940966 , 0.6940966 ,\n",
       "        0.6940966 , 0.6940966 , 0.6940966 , 0.6940966 , 0.6940966 ,\n",
       "        0.6940966 , 0.6940966 , 0.6940966 , 0.6940966 , 0.6940966 ,\n",
       "        0.6940966 , 0.6940966 , 0.6940966 , 0.6940966 , 0.6940966 ,\n",
       "        0.6940966 , 0.6940966 , 0.6940966 , 0.6940966 , 0.6940966 ,\n",
       "        0.6940966 , 0.6940966 , 0.6940966 , 0.6940966 ]),\n",
       " 'split9_test_score': array([0.56350626, 0.65116279, 0.57960644, 0.65831843, 0.6118068 ,\n",
       "        0.6529517 , 0.63148479, 0.66189624, 0.62611807, 0.6744186 ,\n",
       "        0.65116279, 0.67620751, 0.66368515, 0.68694097, 0.65831843,\n",
       "        0.68872987, 0.68336315, 0.69051878, 0.68694097, 0.69051878,\n",
       "        0.68515206, 0.69230769, 0.68872987, 0.6940966 , 0.68336315,\n",
       "        0.69051878, 0.68694097, 0.68872987, 0.67620751, 0.68157424,\n",
       "        0.67978533, 0.68872987, 0.68694097, 0.69051878, 0.69051878,\n",
       "        0.6940966 , 0.69230769, 0.69230769, 0.68872987, 0.69230769,\n",
       "        0.69230769, 0.6940966 , 0.6940966 , 0.6940966 , 0.6940966 ,\n",
       "        0.6940966 , 0.69230769, 0.69230769, 0.69230769, 0.6940966 ,\n",
       "        0.69051878, 0.69230769, 0.69230769, 0.6940966 , 0.6940966 ,\n",
       "        0.6940966 , 0.6940966 , 0.6940966 , 0.6940966 , 0.6940966 ,\n",
       "        0.6940966 , 0.6940966 , 0.6940966 , 0.6940966 , 0.6940966 ,\n",
       "        0.6940966 , 0.6940966 , 0.6940966 , 0.6940966 , 0.6940966 ,\n",
       "        0.6940966 , 0.6940966 , 0.6940966 , 0.6940966 , 0.6940966 ,\n",
       "        0.6940966 , 0.6940966 , 0.6940966 , 0.6940966 , 0.6940966 ,\n",
       "        0.6940966 , 0.6940966 , 0.6940966 , 0.6940966 , 0.6940966 ,\n",
       "        0.6940966 , 0.6940966 , 0.6940966 , 0.6940966 , 0.6940966 ,\n",
       "        0.6940966 , 0.6940966 , 0.6940966 , 0.6940966 , 0.6940966 ,\n",
       "        0.6940966 , 0.6940966 , 0.6940966 , 0.6940966 ]),\n",
       " 'mean_test_score': array([0.58053571, 0.65482143, 0.60535714, 0.66142857, 0.63232143,\n",
       "        0.66303571, 0.64535714, 0.66642857, 0.64767857, 0.6725    ,\n",
       "        0.66053571, 0.67964286, 0.67125   , 0.68375   , 0.67464286,\n",
       "        0.68339286, 0.67875   , 0.68678571, 0.68053571, 0.68785714,\n",
       "        0.68339286, 0.6875    , 0.68517857, 0.68875   , 0.68464286,\n",
       "        0.68928571, 0.68660714, 0.69089286, 0.68571429, 0.69      ,\n",
       "        0.68714286, 0.69107143, 0.68982143, 0.69142857, 0.69      ,\n",
       "        0.69178571, 0.69035714, 0.69232143, 0.6925    , 0.69339286,\n",
       "        0.69303571, 0.69428571, 0.69392857, 0.69357143, 0.69339286,\n",
       "        0.69375   , 0.69321429, 0.69339286, 0.69267857, 0.69303571,\n",
       "        0.69214286, 0.69321429, 0.69339286, 0.69357143, 0.69357143,\n",
       "        0.69339286, 0.69375   , 0.69357143, 0.69375   , 0.69339286,\n",
       "        0.69339286, 0.69357143, 0.69339286, 0.69357143, 0.69357143,\n",
       "        0.69375   , 0.69375   , 0.69375   , 0.69375   , 0.69375   ,\n",
       "        0.69375   , 0.69375   , 0.69375   , 0.69375   , 0.69375   ,\n",
       "        0.69375   , 0.69375   , 0.69375   , 0.69375   , 0.69375   ,\n",
       "        0.69375   , 0.69375   , 0.69375   , 0.69375   , 0.69375   ,\n",
       "        0.69375   , 0.69375   , 0.69375   , 0.69375   , 0.69375   ,\n",
       "        0.69375   , 0.69375   , 0.69375   , 0.69375   , 0.69375   ,\n",
       "        0.69375   , 0.69375   , 0.69375   , 0.69375   ]),\n",
       " 'std_test_score': array([0.02054748, 0.00859732, 0.0114281 , 0.0082473 , 0.01270036,\n",
       "        0.00737301, 0.00811078, 0.00555385, 0.01276788, 0.00425978,\n",
       "        0.00668582, 0.00577046, 0.00743612, 0.00682101, 0.01194956,\n",
       "        0.00639244, 0.00910212, 0.0066839 , 0.00911142, 0.00599592,\n",
       "        0.00985976, 0.00745328, 0.00940534, 0.0060302 , 0.00831177,\n",
       "        0.0055744 , 0.00642482, 0.00475652, 0.00664201, 0.00426829,\n",
       "        0.00544906, 0.00303707, 0.00432407, 0.00270935, 0.00317617,\n",
       "        0.00284256, 0.00373928, 0.00284388, 0.00429803, 0.00231989,\n",
       "        0.00286219, 0.00183283, 0.00229858, 0.00206323, 0.00281735,\n",
       "        0.00124091, 0.0019005 , 0.0011887 , 0.00201888, 0.00106307,\n",
       "        0.00208778, 0.00147892, 0.00167029, 0.0013435 , 0.00143292,\n",
       "        0.00138104, 0.00128199, 0.00124951, 0.00142702, 0.00101112,\n",
       "        0.00101112, 0.00053243, 0.00101112, 0.00053243, 0.00053243,\n",
       "        0.00034598, 0.00034598, 0.00034598, 0.00034598, 0.00034598,\n",
       "        0.00034598, 0.00034598, 0.00034598, 0.00034598, 0.00034598,\n",
       "        0.00034598, 0.00034598, 0.00034598, 0.00034598, 0.00034598,\n",
       "        0.00034598, 0.00034598, 0.00034598, 0.00034598, 0.00034598,\n",
       "        0.00034598, 0.00034598, 0.00034598, 0.00034598, 0.00034598,\n",
       "        0.00034598, 0.00034598, 0.00034598, 0.00034598, 0.00034598,\n",
       "        0.00034598, 0.00034598, 0.00034598, 0.00034598]),\n",
       " 'rank_test_score': array([99, 94, 98, 92, 97, 91, 96, 90, 95, 88, 93, 85, 89, 81, 87, 82, 86,\n",
       "        76, 84, 73, 82, 74, 79, 72, 80, 71, 77, 66, 78, 68, 75, 65, 70, 64,\n",
       "        68, 63, 67, 61, 60, 47, 57,  1,  2, 40, 47,  3, 55, 47, 59, 57, 62,\n",
       "        55, 47, 40, 40, 47,  3, 40,  3, 47, 47, 40, 47, 40, 40,  3,  3,  3,\n",
       "         3,  3,  3,  3,  3,  3,  3,  3,  3,  3,  3,  3,  3,  3,  3,  3,  3,\n",
       "         3,  3,  3,  3,  3,  3,  3,  3,  3,  3,  3,  3,  3,  3],\n",
       "       dtype=int32)}"
      ]
     },
     "execution_count": 40,
     "metadata": {},
     "output_type": "execute_result"
    }
   ],
   "source": [
    "# view the complete results (list of named tuples)\n",
    "grid.cv_results_"
   ]
  },
  {
   "cell_type": "code",
   "execution_count": 41,
   "metadata": {
    "ExecuteTime": {
     "end_time": "2019-08-06T12:58:16.918072Z",
     "start_time": "2019-08-06T12:58:16.914404Z"
    }
   },
   "outputs": [
    {
     "name": "stdout",
     "output_type": "stream",
     "text": [
      "0.6942857142857143\n",
      "{'n_neighbors': 42}\n",
      "KNeighborsClassifier(algorithm='auto', leaf_size=30, metric='minkowski',\n",
      "                     metric_params=None, n_jobs=None, n_neighbors=42, p=2,\n",
      "                     weights='uniform')\n"
     ]
    }
   ],
   "source": [
    "# examine the best model\n",
    "print(grid.best_score_)\n",
    "print(grid.best_params_)\n",
    "print(grid.best_estimator_)"
   ]
  },
  {
   "cell_type": "markdown",
   "metadata": {},
   "source": [
    "### Searching multiple parameters simultaneously"
   ]
  },
  {
   "cell_type": "code",
   "execution_count": 42,
   "metadata": {
    "ExecuteTime": {
     "end_time": "2019-08-06T12:58:54.425126Z",
     "start_time": "2019-08-06T12:58:54.422311Z"
    }
   },
   "outputs": [],
   "source": [
    "# define the parameter values that should be searched\n",
    "k_range = list(range(1, 31))\n",
    "weight_options = ['uniform', 'distance']"
   ]
  },
  {
   "cell_type": "code",
   "execution_count": 43,
   "metadata": {
    "ExecuteTime": {
     "end_time": "2019-08-06T12:59:01.657721Z",
     "start_time": "2019-08-06T12:59:01.654503Z"
    }
   },
   "outputs": [
    {
     "name": "stdout",
     "output_type": "stream",
     "text": [
      "{'n_neighbors': [1, 2, 3, 4, 5, 6, 7, 8, 9, 10, 11, 12, 13, 14, 15, 16, 17, 18, 19, 20, 21, 22, 23, 24, 25, 26, 27, 28, 29, 30], 'weights': ['uniform', 'distance']}\n"
     ]
    }
   ],
   "source": [
    "# create a parameter grid: map the parameter names to the values that should be searched\n",
    "param_grid = dict(n_neighbors=k_range, weights=weight_options)\n",
    "print(param_grid)"
   ]
  },
  {
   "cell_type": "code",
   "execution_count": 44,
   "metadata": {
    "ExecuteTime": {
     "end_time": "2019-08-06T12:59:54.283067Z",
     "start_time": "2019-08-06T12:59:11.239015Z"
    }
   },
   "outputs": [
    {
     "data": {
      "text/plain": [
       "GridSearchCV(cv=10, error_score='raise-deprecating',\n",
       "             estimator=KNeighborsClassifier(algorithm='auto', leaf_size=30,\n",
       "                                            metric='minkowski',\n",
       "                                            metric_params=None, n_jobs=None,\n",
       "                                            n_neighbors=40, p=2,\n",
       "                                            weights='uniform'),\n",
       "             iid='warn', n_jobs=None,\n",
       "             param_grid={'n_neighbors': [1, 2, 3, 4, 5, 6, 7, 8, 9, 10, 11, 12,\n",
       "                                         13, 14, 15, 16, 17, 18, 19, 20, 21, 22,\n",
       "                                         23, 24, 25, 26, 27, 28, 29, 30],\n",
       "                         'weights': ['uniform', 'distance']},\n",
       "             pre_dispatch='2*n_jobs', refit=True, return_train_score=False,\n",
       "             scoring='accuracy', verbose=0)"
      ]
     },
     "execution_count": 44,
     "metadata": {},
     "output_type": "execute_result"
    }
   ],
   "source": [
    "# instantiate and fit the grid\n",
    "grid = GridSearchCV(knn, param_grid, cv=10, scoring='accuracy')\n",
    "grid.fit(X_train, y_train)"
   ]
  },
  {
   "cell_type": "code",
   "execution_count": 45,
   "metadata": {
    "ExecuteTime": {
     "end_time": "2019-08-06T12:59:54.403830Z",
     "start_time": "2019-08-06T12:59:54.386474Z"
    }
   },
   "outputs": [
    {
     "data": {
      "text/plain": [
       "{'mean_fit_time': array([0.03812075, 0.03769917, 0.03745613, 0.03695691, 0.0374845 ,\n",
       "        0.03601649, 0.03604267, 0.03670709, 0.03740273, 0.03742268,\n",
       "        0.03728542, 0.0363739 , 0.0363569 , 0.03638489, 0.03614073,\n",
       "        0.03701184, 0.03547044, 0.03750341, 0.03864758, 0.03771322,\n",
       "        0.0371448 , 0.03805842, 0.03849845, 0.03775272, 0.03750062,\n",
       "        0.03772283, 0.03675745, 0.03733084, 0.03700008, 0.03701355,\n",
       "        0.03749864, 0.03765495, 0.0370585 , 0.0361186 , 0.03631694,\n",
       "        0.03605387, 0.03709691, 0.03765395, 0.03646302, 0.03577054,\n",
       "        0.03721724, 0.03632827, 0.03603511, 0.03608296, 0.03675876,\n",
       "        0.03644803, 0.03713505, 0.03620143, 0.03730989, 0.03672798,\n",
       "        0.03672016, 0.03664768, 0.03648398, 0.03698478, 0.03693187,\n",
       "        0.03764336, 0.0388737 , 0.03698416, 0.03674369, 0.03647947]),\n",
       " 'std_fit_time': array([0.00158649, 0.00161684, 0.0005314 , 0.00070557, 0.00050767,\n",
       "        0.00120107, 0.00113571, 0.0010398 , 0.00141702, 0.00166991,\n",
       "        0.00087816, 0.00116966, 0.00111321, 0.000853  , 0.00058685,\n",
       "        0.00256887, 0.00040554, 0.00144384, 0.00170222, 0.00026754,\n",
       "        0.00141434, 0.00049095, 0.00156403, 0.00067773, 0.00129126,\n",
       "        0.00106338, 0.00096867, 0.00117874, 0.00098285, 0.00093972,\n",
       "        0.00069958, 0.00221647, 0.00065276, 0.0009965 , 0.00105979,\n",
       "        0.00100665, 0.00109437, 0.00096364, 0.00133539, 0.00094471,\n",
       "        0.0014331 , 0.00131576, 0.00043639, 0.00106714, 0.00084296,\n",
       "        0.00110091, 0.00138584, 0.00092124, 0.00115029, 0.0008007 ,\n",
       "        0.00098892, 0.00143389, 0.0007909 , 0.0005868 , 0.00105554,\n",
       "        0.00071888, 0.00087711, 0.00095502, 0.00084166, 0.00086556]),\n",
       " 'mean_score_time': array([0.02951653, 0.01861863, 0.03160505, 0.02034185, 0.03329916,\n",
       "        0.02041624, 0.03221552, 0.02109637, 0.03446069, 0.02351229,\n",
       "        0.03398402, 0.02243381, 0.03421972, 0.02341182, 0.03555737,\n",
       "        0.0245846 , 0.03506956, 0.0264163 , 0.03916483, 0.02689297,\n",
       "        0.03883972, 0.02806492, 0.04042401, 0.02775891, 0.04004786,\n",
       "        0.02871363, 0.03889508, 0.02877941, 0.0396853 , 0.02900081,\n",
       "        0.04213345, 0.02898288, 0.04099622, 0.02846789, 0.04047673,\n",
       "        0.02936208, 0.04203935, 0.03151128, 0.04036458, 0.02991683,\n",
       "        0.04164   , 0.02992032, 0.04184647, 0.03003182, 0.04254076,\n",
       "        0.03142903, 0.04340398, 0.03116472, 0.04334872, 0.03197806,\n",
       "        0.04268661, 0.03211296, 0.04352407, 0.03378286, 0.04543884,\n",
       "        0.03554907, 0.04906187, 0.03616707, 0.04582672, 0.03499174]),\n",
       " 'std_score_time': array([0.00131274, 0.00114802, 0.0008116 , 0.00084943, 0.00181701,\n",
       "        0.00105061, 0.0013043 , 0.00099985, 0.00216331, 0.00114382,\n",
       "        0.00154718, 0.00091322, 0.00136817, 0.00092153, 0.00045979,\n",
       "        0.00132131, 0.00142973, 0.00139313, 0.00123004, 0.00054262,\n",
       "        0.00160288, 0.00058337, 0.00141942, 0.00084291, 0.00265102,\n",
       "        0.0014902 , 0.00185887, 0.00130103, 0.0016729 , 0.00084485,\n",
       "        0.00133441, 0.00094473, 0.00142951, 0.00135296, 0.00182999,\n",
       "        0.00137251, 0.00182596, 0.00078816, 0.00157146, 0.00156938,\n",
       "        0.00199944, 0.00134779, 0.00189348, 0.0006122 , 0.00258392,\n",
       "        0.00153661, 0.00155981, 0.00136869, 0.0019875 , 0.00196745,\n",
       "        0.00158926, 0.00164721, 0.00193748, 0.00078376, 0.00316419,\n",
       "        0.00047739, 0.00180845, 0.00166325, 0.00213861, 0.0012673 ]),\n",
       " 'param_n_neighbors': masked_array(data=[1, 1, 2, 2, 3, 3, 4, 4, 5, 5, 6, 6, 7, 7, 8, 8, 9, 9,\n",
       "                    10, 10, 11, 11, 12, 12, 13, 13, 14, 14, 15, 15, 16, 16,\n",
       "                    17, 17, 18, 18, 19, 19, 20, 20, 21, 21, 22, 22, 23, 23,\n",
       "                    24, 24, 25, 25, 26, 26, 27, 27, 28, 28, 29, 29, 30, 30],\n",
       "              mask=[False, False, False, False, False, False, False, False,\n",
       "                    False, False, False, False, False, False, False, False,\n",
       "                    False, False, False, False, False, False, False, False,\n",
       "                    False, False, False, False, False, False, False, False,\n",
       "                    False, False, False, False, False, False, False, False,\n",
       "                    False, False, False, False, False, False, False, False,\n",
       "                    False, False, False, False, False, False, False, False,\n",
       "                    False, False, False, False],\n",
       "        fill_value='?',\n",
       "             dtype=object),\n",
       " 'param_weights': masked_array(data=['uniform', 'distance', 'uniform', 'distance',\n",
       "                    'uniform', 'distance', 'uniform', 'distance',\n",
       "                    'uniform', 'distance', 'uniform', 'distance',\n",
       "                    'uniform', 'distance', 'uniform', 'distance',\n",
       "                    'uniform', 'distance', 'uniform', 'distance',\n",
       "                    'uniform', 'distance', 'uniform', 'distance',\n",
       "                    'uniform', 'distance', 'uniform', 'distance',\n",
       "                    'uniform', 'distance', 'uniform', 'distance',\n",
       "                    'uniform', 'distance', 'uniform', 'distance',\n",
       "                    'uniform', 'distance', 'uniform', 'distance',\n",
       "                    'uniform', 'distance', 'uniform', 'distance',\n",
       "                    'uniform', 'distance', 'uniform', 'distance',\n",
       "                    'uniform', 'distance', 'uniform', 'distance',\n",
       "                    'uniform', 'distance', 'uniform', 'distance',\n",
       "                    'uniform', 'distance', 'uniform', 'distance'],\n",
       "              mask=[False, False, False, False, False, False, False, False,\n",
       "                    False, False, False, False, False, False, False, False,\n",
       "                    False, False, False, False, False, False, False, False,\n",
       "                    False, False, False, False, False, False, False, False,\n",
       "                    False, False, False, False, False, False, False, False,\n",
       "                    False, False, False, False, False, False, False, False,\n",
       "                    False, False, False, False, False, False, False, False,\n",
       "                    False, False, False, False],\n",
       "        fill_value='?',\n",
       "             dtype=object),\n",
       " 'params': [{'n_neighbors': 1, 'weights': 'uniform'},\n",
       "  {'n_neighbors': 1, 'weights': 'distance'},\n",
       "  {'n_neighbors': 2, 'weights': 'uniform'},\n",
       "  {'n_neighbors': 2, 'weights': 'distance'},\n",
       "  {'n_neighbors': 3, 'weights': 'uniform'},\n",
       "  {'n_neighbors': 3, 'weights': 'distance'},\n",
       "  {'n_neighbors': 4, 'weights': 'uniform'},\n",
       "  {'n_neighbors': 4, 'weights': 'distance'},\n",
       "  {'n_neighbors': 5, 'weights': 'uniform'},\n",
       "  {'n_neighbors': 5, 'weights': 'distance'},\n",
       "  {'n_neighbors': 6, 'weights': 'uniform'},\n",
       "  {'n_neighbors': 6, 'weights': 'distance'},\n",
       "  {'n_neighbors': 7, 'weights': 'uniform'},\n",
       "  {'n_neighbors': 7, 'weights': 'distance'},\n",
       "  {'n_neighbors': 8, 'weights': 'uniform'},\n",
       "  {'n_neighbors': 8, 'weights': 'distance'},\n",
       "  {'n_neighbors': 9, 'weights': 'uniform'},\n",
       "  {'n_neighbors': 9, 'weights': 'distance'},\n",
       "  {'n_neighbors': 10, 'weights': 'uniform'},\n",
       "  {'n_neighbors': 10, 'weights': 'distance'},\n",
       "  {'n_neighbors': 11, 'weights': 'uniform'},\n",
       "  {'n_neighbors': 11, 'weights': 'distance'},\n",
       "  {'n_neighbors': 12, 'weights': 'uniform'},\n",
       "  {'n_neighbors': 12, 'weights': 'distance'},\n",
       "  {'n_neighbors': 13, 'weights': 'uniform'},\n",
       "  {'n_neighbors': 13, 'weights': 'distance'},\n",
       "  {'n_neighbors': 14, 'weights': 'uniform'},\n",
       "  {'n_neighbors': 14, 'weights': 'distance'},\n",
       "  {'n_neighbors': 15, 'weights': 'uniform'},\n",
       "  {'n_neighbors': 15, 'weights': 'distance'},\n",
       "  {'n_neighbors': 16, 'weights': 'uniform'},\n",
       "  {'n_neighbors': 16, 'weights': 'distance'},\n",
       "  {'n_neighbors': 17, 'weights': 'uniform'},\n",
       "  {'n_neighbors': 17, 'weights': 'distance'},\n",
       "  {'n_neighbors': 18, 'weights': 'uniform'},\n",
       "  {'n_neighbors': 18, 'weights': 'distance'},\n",
       "  {'n_neighbors': 19, 'weights': 'uniform'},\n",
       "  {'n_neighbors': 19, 'weights': 'distance'},\n",
       "  {'n_neighbors': 20, 'weights': 'uniform'},\n",
       "  {'n_neighbors': 20, 'weights': 'distance'},\n",
       "  {'n_neighbors': 21, 'weights': 'uniform'},\n",
       "  {'n_neighbors': 21, 'weights': 'distance'},\n",
       "  {'n_neighbors': 22, 'weights': 'uniform'},\n",
       "  {'n_neighbors': 22, 'weights': 'distance'},\n",
       "  {'n_neighbors': 23, 'weights': 'uniform'},\n",
       "  {'n_neighbors': 23, 'weights': 'distance'},\n",
       "  {'n_neighbors': 24, 'weights': 'uniform'},\n",
       "  {'n_neighbors': 24, 'weights': 'distance'},\n",
       "  {'n_neighbors': 25, 'weights': 'uniform'},\n",
       "  {'n_neighbors': 25, 'weights': 'distance'},\n",
       "  {'n_neighbors': 26, 'weights': 'uniform'},\n",
       "  {'n_neighbors': 26, 'weights': 'distance'},\n",
       "  {'n_neighbors': 27, 'weights': 'uniform'},\n",
       "  {'n_neighbors': 27, 'weights': 'distance'},\n",
       "  {'n_neighbors': 28, 'weights': 'uniform'},\n",
       "  {'n_neighbors': 28, 'weights': 'distance'},\n",
       "  {'n_neighbors': 29, 'weights': 'uniform'},\n",
       "  {'n_neighbors': 29, 'weights': 'distance'},\n",
       "  {'n_neighbors': 30, 'weights': 'uniform'},\n",
       "  {'n_neighbors': 30, 'weights': 'distance'}],\n",
       " 'split0_test_score': array([0.63458111, 0.63458111, 0.67379679, 0.63458111, 0.61319073,\n",
       "        0.62210339, 0.67023173, 0.63101604, 0.63814617, 0.64171123,\n",
       "        0.67736185, 0.65597148, 0.64884135, 0.6631016 , 0.67557932,\n",
       "        0.6631016 , 0.65062389, 0.65953654, 0.66666667, 0.6631016 ,\n",
       "        0.65240642, 0.66131907, 0.67557932, 0.67201426, 0.65953654,\n",
       "        0.67201426, 0.67201426, 0.6631016 , 0.66131907, 0.66666667,\n",
       "        0.68270945, 0.6684492 , 0.67379679, 0.67201426, 0.6916221 ,\n",
       "        0.68805704, 0.68270945, 0.68449198, 0.68805704, 0.68449198,\n",
       "        0.67736185, 0.68983957, 0.68627451, 0.68627451, 0.68270945,\n",
       "        0.6916221 , 0.69340463, 0.68627451, 0.68983957, 0.68627451,\n",
       "        0.69518717, 0.6916221 , 0.68805704, 0.68983957, 0.69340463,\n",
       "        0.6916221 , 0.68270945, 0.6916221 , 0.6916221 , 0.68805704]),\n",
       " 'split1_test_score': array([0.59714795, 0.59714795, 0.65597148, 0.59714795, 0.60784314,\n",
       "        0.60427807, 0.66666667, 0.61675579, 0.6399287 , 0.63279857,\n",
       "        0.66666667, 0.63458111, 0.66131907, 0.64705882, 0.67023173,\n",
       "        0.64171123, 0.6631016 , 0.64349376, 0.67023173, 0.65240642,\n",
       "        0.66488414, 0.65062389, 0.67914439, 0.65775401, 0.67379679,\n",
       "        0.65953654, 0.67736185, 0.6631016 , 0.67379679, 0.66488414,\n",
       "        0.68270945, 0.65953654, 0.67557932, 0.66666667, 0.68805704,\n",
       "        0.65597148, 0.67914439, 0.66666667, 0.6916221 , 0.67023173,\n",
       "        0.68092692, 0.67379679, 0.68270945, 0.67201426, 0.68449198,\n",
       "        0.67379679, 0.68805704, 0.67557932, 0.68270945, 0.67557932,\n",
       "        0.68805704, 0.67379679, 0.68449198, 0.67736185, 0.6969697 ,\n",
       "        0.68092692, 0.6916221 , 0.67914439, 0.69518717, 0.68449198]),\n",
       " 'split2_test_score': array([0.56506239, 0.56506239, 0.65597148, 0.56506239, 0.59714795,\n",
       "        0.5828877 , 0.6631016 , 0.58823529, 0.63636364, 0.61675579,\n",
       "        0.65240642, 0.61319073, 0.65062389, 0.62745098, 0.66488414,\n",
       "        0.62388592, 0.63636364, 0.63279857, 0.67736185, 0.63458111,\n",
       "        0.67023173, 0.66131907, 0.68449198, 0.65953654, 0.67736185,\n",
       "        0.66131907, 0.68805704, 0.65953654, 0.68627451, 0.67201426,\n",
       "        0.68270945, 0.6684492 , 0.68270945, 0.68270945, 0.68805704,\n",
       "        0.68092692, 0.68449198, 0.68983957, 0.68805704, 0.68627451,\n",
       "        0.68983957, 0.6916221 , 0.68627451, 0.68983957, 0.68805704,\n",
       "        0.68627451, 0.68092692, 0.68270945, 0.68449198, 0.68627451,\n",
       "        0.68449198, 0.67914439, 0.68270945, 0.68627451, 0.68627451,\n",
       "        0.68270945, 0.68092692, 0.68449198, 0.68805704, 0.68449198]),\n",
       " 'split3_test_score': array([0.57219251, 0.57219251, 0.63814617, 0.57219251, 0.59893048,\n",
       "        0.60784314, 0.64171123, 0.61675579, 0.60784314, 0.60784314,\n",
       "        0.65953654, 0.61675579, 0.64349376, 0.63458111, 0.66131907,\n",
       "        0.63814617, 0.63814617, 0.63101604, 0.66666667, 0.65953654,\n",
       "        0.66131907, 0.65240642, 0.67914439, 0.6631016 , 0.67201426,\n",
       "        0.65418895, 0.68092692, 0.66666667, 0.67736185, 0.67201426,\n",
       "        0.68627451, 0.67379679, 0.67557932, 0.68092692, 0.68449198,\n",
       "        0.67201426, 0.67201426, 0.67914439, 0.68449198, 0.67914439,\n",
       "        0.68092692, 0.68627451, 0.68449198, 0.68449198, 0.68449198,\n",
       "        0.68449198, 0.68627451, 0.68270945, 0.68092692, 0.68092692,\n",
       "        0.68627451, 0.68449198, 0.68627451, 0.68449198, 0.68805704,\n",
       "        0.68270945, 0.68449198, 0.68449198, 0.68983957, 0.68805704]),\n",
       " 'split4_test_score': array([0.57040998, 0.57040998, 0.65953654, 0.57040998, 0.61497326,\n",
       "        0.60249554, 0.6631016 , 0.60071301, 0.62745098, 0.61319073,\n",
       "        0.66131907, 0.63279857, 0.65418895, 0.64349376, 0.6631016 ,\n",
       "        0.65953654, 0.6684492 , 0.66666667, 0.67557932, 0.6631016 ,\n",
       "        0.67023173, 0.66488414, 0.67557932, 0.66666667, 0.67557932,\n",
       "        0.66488414, 0.68627451, 0.6684492 , 0.67557932, 0.6684492 ,\n",
       "        0.68092692, 0.67557932, 0.68270945, 0.6684492 , 0.68805704,\n",
       "        0.67379679, 0.68449198, 0.67201426, 0.68983957, 0.67914439,\n",
       "        0.68983957, 0.67914439, 0.69340463, 0.68270945, 0.6916221 ,\n",
       "        0.68449198, 0.69340463, 0.68092692, 0.69518717, 0.68092692,\n",
       "        0.69875223, 0.68449198, 0.6969697 , 0.68449198, 0.6969697 ,\n",
       "        0.68449198, 0.69340463, 0.68270945, 0.69340463, 0.68270945]),\n",
       " 'split5_test_score': array([0.58676208, 0.58676208, 0.64758497, 0.58676208, 0.59928444,\n",
       "        0.59749553, 0.66189624, 0.5921288 , 0.64221825, 0.64221825,\n",
       "        0.66368515, 0.63148479, 0.64221825, 0.64758497, 0.66905188,\n",
       "        0.64042934, 0.64937388, 0.65652952, 0.67799642, 0.6529517 ,\n",
       "        0.66189624, 0.66905188, 0.67799642, 0.66189624, 0.6744186 ,\n",
       "        0.67799642, 0.68694097, 0.6726297 , 0.67620751, 0.6726297 ,\n",
       "        0.6744186 , 0.67084079, 0.67084079, 0.6726297 , 0.6726297 ,\n",
       "        0.66905188, 0.66189624, 0.67084079, 0.6744186 , 0.66726297,\n",
       "        0.67084079, 0.66547406, 0.67978533, 0.66905188, 0.6726297 ,\n",
       "        0.66905188, 0.68694097, 0.66726297, 0.6744186 , 0.66905188,\n",
       "        0.68157424, 0.67799642, 0.67978533, 0.67978533, 0.68872987,\n",
       "        0.68157424, 0.68872987, 0.68157424, 0.69230769, 0.68872987]),\n",
       " 'split6_test_score': array([0.57781753, 0.57781753, 0.6529517 , 0.57781753, 0.61001789,\n",
       "        0.6118068 , 0.6726297 , 0.61717352, 0.64937388, 0.64400716,\n",
       "        0.66189624, 0.63506261, 0.64221825, 0.64758497, 0.66905188,\n",
       "        0.65116279, 0.65652952, 0.66547406, 0.6726297 , 0.64937388,\n",
       "        0.66368515, 0.66368515, 0.68157424, 0.66010733, 0.67978533,\n",
       "        0.67799642, 0.69230769, 0.68694097, 0.68872987, 0.68694097,\n",
       "        0.68694097, 0.68515206, 0.69230769, 0.67978533, 0.68872987,\n",
       "        0.68694097, 0.69051878, 0.69230769, 0.6940966 , 0.6940966 ,\n",
       "        0.69588551, 0.69767442, 0.6940966 , 0.6940966 , 0.69588551,\n",
       "        0.69767442, 0.69230769, 0.69230769, 0.68872987, 0.69230769,\n",
       "        0.6940966 , 0.69051878, 0.69230769, 0.69588551, 0.6940966 ,\n",
       "        0.69230769, 0.69230769, 0.6940966 , 0.6940966 , 0.6940966 ]),\n",
       " 'split7_test_score': array([0.56887299, 0.56887299, 0.65652952, 0.56887299, 0.62254025,\n",
       "        0.61359571, 0.66189624, 0.60465116, 0.62969589, 0.6332737 ,\n",
       "        0.66189624, 0.62432916, 0.63864043, 0.64042934, 0.65652952,\n",
       "        0.63685152, 0.63506261, 0.64758497, 0.67620751, 0.63864043,\n",
       "        0.65652952, 0.65652952, 0.6940966 , 0.66547406, 0.67799642,\n",
       "        0.66547406, 0.69230769, 0.67084079, 0.69230769, 0.67799642,\n",
       "        0.69588551, 0.6744186 , 0.69051878, 0.67620751, 0.69767442,\n",
       "        0.67799642, 0.69230769, 0.69051878, 0.69588551, 0.68872987,\n",
       "        0.69767442, 0.69230769, 0.70125224, 0.6940966 , 0.69767442,\n",
       "        0.68872987, 0.69588551, 0.69230769, 0.69767442, 0.68694097,\n",
       "        0.69230769, 0.69230769, 0.6940966 , 0.69230769, 0.6940966 ,\n",
       "        0.69767442, 0.69230769, 0.69230769, 0.69051878, 0.69230769]),\n",
       " 'split8_test_score': array([0.56887299, 0.56887299, 0.65652952, 0.56887299, 0.61001789,\n",
       "        0.61359571, 0.65474061, 0.61001789, 0.64042934, 0.6332737 ,\n",
       "        0.6726297 , 0.63685152, 0.64042934, 0.64937388, 0.6726297 ,\n",
       "        0.66189624, 0.6529517 , 0.65652952, 0.66726297, 0.65116279,\n",
       "        0.6529517 , 0.65831843, 0.6726297 , 0.66368515, 0.65831843,\n",
       "        0.66189624, 0.6744186 , 0.66010733, 0.65652952, 0.66189624,\n",
       "        0.6726297 , 0.66547406, 0.66010733, 0.67084079, 0.67799642,\n",
       "        0.66905188, 0.67084079, 0.67799642, 0.68157424, 0.67084079,\n",
       "        0.66547406, 0.66905188, 0.6744186 , 0.67084079, 0.66547406,\n",
       "        0.6726297 , 0.67620751, 0.6726297 , 0.66905188, 0.6726297 ,\n",
       "        0.68157424, 0.67978533, 0.6744186 , 0.67978533, 0.68157424,\n",
       "        0.67799642, 0.6744186 , 0.67620751, 0.68336315, 0.6744186 ]),\n",
       " 'split9_test_score': array([0.56350626, 0.56350626, 0.65116279, 0.56350626, 0.57960644,\n",
       "        0.58497317, 0.65831843, 0.58855098, 0.6118068 , 0.61717352,\n",
       "        0.6529517 , 0.62432916, 0.63148479, 0.62432916, 0.66189624,\n",
       "        0.60644007, 0.62611807, 0.62611807, 0.6744186 , 0.63506261,\n",
       "        0.65116279, 0.64221825, 0.67620751, 0.65116279, 0.66368515,\n",
       "        0.64937388, 0.68694097, 0.65474061, 0.65831843, 0.64579606,\n",
       "        0.68872987, 0.65831843, 0.68336315, 0.67620751, 0.69051878,\n",
       "        0.68157424, 0.68694097, 0.68157424, 0.69051878, 0.68515206,\n",
       "        0.68515206, 0.68694097, 0.69230769, 0.68694097, 0.68872987,\n",
       "        0.69051878, 0.6940966 , 0.68872987, 0.68336315, 0.68515206,\n",
       "        0.69051878, 0.68336315, 0.68694097, 0.69051878, 0.68872987,\n",
       "        0.68336315, 0.67620751, 0.68336315, 0.68157424, 0.68515206]),\n",
       " 'mean_test_score': array([0.58053571, 0.58053571, 0.65482143, 0.58053571, 0.60535714,\n",
       "        0.60410714, 0.66142857, 0.60660714, 0.63232143, 0.62821429,\n",
       "        0.66303571, 0.63053571, 0.64535714, 0.6425    , 0.66642857,\n",
       "        0.64232143, 0.64767857, 0.64857143, 0.6725    , 0.65      ,\n",
       "        0.66053571, 0.65803571, 0.67964286, 0.66214286, 0.67125   ,\n",
       "        0.66446429, 0.68375   , 0.66660714, 0.67464286, 0.66892857,\n",
       "        0.68339286, 0.67      , 0.67875   , 0.67464286, 0.68678571,\n",
       "        0.67553571, 0.68053571, 0.68053571, 0.68785714, 0.68053571,\n",
       "        0.68339286, 0.68321429, 0.6875    , 0.68303571, 0.68517857,\n",
       "        0.68392857, 0.68875   , 0.68214286, 0.68464286, 0.68160714,\n",
       "        0.68928571, 0.68375   , 0.68660714, 0.68607143, 0.69089286,\n",
       "        0.68553571, 0.68571429, 0.685     , 0.69      , 0.68625   ]),\n",
       " 'std_test_score': array([0.02054748, 0.02054748, 0.00859732, 0.02054748, 0.0114281 ,\n",
       "        0.01200058, 0.0082473 , 0.01355625, 0.01270036, 0.01262706,\n",
       "        0.00737301, 0.01139889, 0.00811078, 0.01081364, 0.00555385,\n",
       "        0.01693198, 0.01276788, 0.0139575 , 0.00425978, 0.01020278,\n",
       "        0.00668582, 0.00748633, 0.00577046, 0.00532106, 0.00743612,\n",
       "        0.00893188, 0.00682101, 0.00853034, 0.01194956, 0.01021744,\n",
       "        0.00639244, 0.00752434, 0.00910212, 0.00513412, 0.0066839 ,\n",
       "        0.00917222, 0.00911142, 0.00841978, 0.00599592, 0.00836931,\n",
       "        0.00985976, 0.01024261, 0.00745328, 0.00885396, 0.00940534,\n",
       "        0.00878416, 0.0060302 , 0.0078951 , 0.00831177, 0.00688489,\n",
       "        0.0055744 , 0.00592789, 0.00642482, 0.00573458, 0.00475652,\n",
       "        0.00587762, 0.00664201, 0.00558139, 0.00426829, 0.00520054]),\n",
       " 'rank_test_score': array([58, 58, 45, 58, 56, 57, 42, 55, 52, 54, 40, 53, 49, 50, 38, 51, 48,\n",
       "        47, 33, 46, 43, 44, 28, 41, 34, 39, 17, 37, 31, 36, 19, 35, 29, 31,\n",
       "         7, 30, 25, 25,  5, 25, 19, 21,  6, 22, 13, 16,  4, 23, 15, 24,  3,\n",
       "        17,  8, 10,  1, 12, 11, 14,  2,  9], dtype=int32)}"
      ]
     },
     "execution_count": 45,
     "metadata": {},
     "output_type": "execute_result"
    }
   ],
   "source": [
    "# view the complete results\n",
    "grid.cv_results_"
   ]
  },
  {
   "cell_type": "code",
   "execution_count": 46,
   "metadata": {
    "ExecuteTime": {
     "end_time": "2019-08-06T12:59:54.507546Z",
     "start_time": "2019-08-06T12:59:54.503398Z"
    }
   },
   "outputs": [
    {
     "name": "stdout",
     "output_type": "stream",
     "text": [
      "0.6908928571428572\n",
      "{'n_neighbors': 28, 'weights': 'uniform'}\n",
      "KNeighborsClassifier(algorithm='auto', leaf_size=30, metric='minkowski',\n",
      "                     metric_params=None, n_jobs=None, n_neighbors=28, p=2,\n",
      "                     weights='uniform')\n"
     ]
    }
   ],
   "source": [
    "# examine the best model\n",
    "print(grid.best_score_)\n",
    "print(grid.best_params_)\n",
    "print(grid.best_estimator_)"
   ]
  },
  {
   "cell_type": "markdown",
   "metadata": {},
   "source": [
    "### Randomized CV Search"
   ]
  },
  {
   "cell_type": "code",
   "execution_count": 49,
   "metadata": {
    "ExecuteTime": {
     "end_time": "2019-08-06T13:23:19.792778Z",
     "start_time": "2019-08-06T13:20:44.370463Z"
    }
   },
   "outputs": [
    {
     "name": "stdout",
     "output_type": "stream",
     "text": [
      "0.6857142857142857\n",
      "{'weights': 'uniform', 'n_neighbors': 29}\n",
      "[0.688, 0.69, 0.689, 0.688, 0.685, 0.687, 0.689, 0.69, 0.686, 0.689, 0.685, 0.69, 0.688, 0.688, 0.689, 0.691, 0.687, 0.687, 0.687, 0.69]\n"
     ]
    }
   ],
   "source": [
    "# specify \"parameter distributions\" rather than a \"parameter grid\"\n",
    "param_dist = dict(n_neighbors=k_range, weights=weight_options)\n",
    "\n",
    "# n_iter controls the number of searches\n",
    "rand = RandomizedSearchCV(knn, param_dist, cv=10, scoring='accuracy', n_iter=10, random_state=13)\n",
    "rand.fit(X_train, y_train)\n",
    "rand.cv_results_\n",
    "\n",
    "# examine the best model\n",
    "print(rand.best_score_)\n",
    "print(rand.best_params_)\n",
    "\n",
    "# run RandomizedSearchCV 20 times (with n_iter=10) and record the best score\n",
    "best_scores = []\n",
    "for _ in range(20):\n",
    "    rand = RandomizedSearchCV(knn, param_dist, cv=10, scoring='accuracy', n_iter=10)\n",
    "    rand.fit(X_train, y_train)\n",
    "    best_scores.append(round(rand.best_score_, 3))\n",
    "print(best_scores)"
   ]
  },
  {
   "cell_type": "code",
   "execution_count": null,
   "metadata": {},
   "outputs": [],
   "source": []
  },
  {
   "cell_type": "code",
   "execution_count": null,
   "metadata": {},
   "outputs": [],
   "source": []
  },
  {
   "cell_type": "code",
   "execution_count": null,
   "metadata": {},
   "outputs": [],
   "source": []
  },
  {
   "cell_type": "code",
   "execution_count": null,
   "metadata": {},
   "outputs": [],
   "source": []
  },
  {
   "cell_type": "code",
   "execution_count": null,
   "metadata": {},
   "outputs": [],
   "source": []
  },
  {
   "cell_type": "code",
   "execution_count": null,
   "metadata": {},
   "outputs": [],
   "source": []
  },
  {
   "cell_type": "code",
   "execution_count": null,
   "metadata": {},
   "outputs": [],
   "source": []
  },
  {
   "cell_type": "code",
   "execution_count": null,
   "metadata": {},
   "outputs": [],
   "source": []
  },
  {
   "cell_type": "code",
   "execution_count": null,
   "metadata": {},
   "outputs": [],
   "source": []
  },
  {
   "cell_type": "markdown",
   "metadata": {},
   "source": [
    "## Logistic Regression"
   ]
  },
  {
   "cell_type": "code",
   "execution_count": 25,
   "metadata": {
    "ExecuteTime": {
     "end_time": "2019-08-06T00:43:39.667966Z",
     "start_time": "2019-08-06T00:43:38.601168Z"
    }
   },
   "outputs": [
    {
     "name": "stderr",
     "output_type": "stream",
     "text": [
      "/Users/farsyd/anaconda3/envs/metis/lib/python3.6/site-packages/sklearn/linear_model/logistic.py:947: ConvergenceWarning: lbfgs failed to converge. Increase the number of iterations.\n",
      "  \"of iterations.\", ConvergenceWarning)\n",
      "/Users/farsyd/anaconda3/envs/metis/lib/python3.6/site-packages/sklearn/linear_model/logistic.py:947: ConvergenceWarning: lbfgs failed to converge. Increase the number of iterations.\n",
      "  \"of iterations.\", ConvergenceWarning)\n",
      "/Users/farsyd/anaconda3/envs/metis/lib/python3.6/site-packages/sklearn/linear_model/logistic.py:947: ConvergenceWarning: lbfgs failed to converge. Increase the number of iterations.\n",
      "  \"of iterations.\", ConvergenceWarning)\n",
      "/Users/farsyd/anaconda3/envs/metis/lib/python3.6/site-packages/sklearn/linear_model/logistic.py:947: ConvergenceWarning: lbfgs failed to converge. Increase the number of iterations.\n",
      "  \"of iterations.\", ConvergenceWarning)\n",
      "/Users/farsyd/anaconda3/envs/metis/lib/python3.6/site-packages/sklearn/linear_model/logistic.py:947: ConvergenceWarning: lbfgs failed to converge. Increase the number of iterations.\n",
      "  \"of iterations.\", ConvergenceWarning)\n",
      "/Users/farsyd/anaconda3/envs/metis/lib/python3.6/site-packages/sklearn/linear_model/logistic.py:947: ConvergenceWarning: lbfgs failed to converge. Increase the number of iterations.\n",
      "  \"of iterations.\", ConvergenceWarning)\n",
      "/Users/farsyd/anaconda3/envs/metis/lib/python3.6/site-packages/sklearn/linear_model/logistic.py:947: ConvergenceWarning: lbfgs failed to converge. Increase the number of iterations.\n",
      "  \"of iterations.\", ConvergenceWarning)\n",
      "/Users/farsyd/anaconda3/envs/metis/lib/python3.6/site-packages/sklearn/linear_model/logistic.py:947: ConvergenceWarning: lbfgs failed to converge. Increase the number of iterations.\n",
      "  \"of iterations.\", ConvergenceWarning)\n",
      "/Users/farsyd/anaconda3/envs/metis/lib/python3.6/site-packages/sklearn/linear_model/logistic.py:947: ConvergenceWarning: lbfgs failed to converge. Increase the number of iterations.\n",
      "  \"of iterations.\", ConvergenceWarning)\n"
     ]
    },
    {
     "name": "stdout",
     "output_type": "stream",
     "text": [
      "0.6928599899872129\n"
     ]
    },
    {
     "name": "stderr",
     "output_type": "stream",
     "text": [
      "/Users/farsyd/anaconda3/envs/metis/lib/python3.6/site-packages/sklearn/linear_model/logistic.py:947: ConvergenceWarning: lbfgs failed to converge. Increase the number of iterations.\n",
      "  \"of iterations.\", ConvergenceWarning)\n"
     ]
    }
   ],
   "source": [
    "# 10-fold cross-validation with logistic regression\n",
    "logreg = LogisticRegression(solver='lbfgs', max_iter = 100) \n",
    "print(cross_val_score(logreg, X_train, y_train, cv=10, scoring='accuracy').mean())"
   ]
  },
  {
   "cell_type": "markdown",
   "metadata": {},
   "source": [
    "### Tune C"
   ]
  },
  {
   "cell_type": "code",
   "execution_count": null,
   "metadata": {},
   "outputs": [],
   "source": []
  },
  {
   "cell_type": "markdown",
   "metadata": {},
   "source": [
    "## Support Vector Machine - Linear"
   ]
  },
  {
   "cell_type": "markdown",
   "metadata": {},
   "source": [
    "## SVM - Radial"
   ]
  },
  {
   "cell_type": "markdown",
   "metadata": {},
   "source": [
    "## Decision Tree Classifier"
   ]
  },
  {
   "cell_type": "markdown",
   "metadata": {},
   "source": [
    "## Random Forest Classifier"
   ]
  },
  {
   "cell_type": "markdown",
   "metadata": {},
   "source": [
    "## Naive Bayes"
   ]
  },
  {
   "cell_type": "markdown",
   "metadata": {},
   "source": [
    "## XG Boost"
   ]
  },
  {
   "cell_type": "code",
   "execution_count": null,
   "metadata": {},
   "outputs": [],
   "source": []
  }
 ],
 "metadata": {
  "kernelspec": {
   "display_name": "Python [conda env:metis] *",
   "language": "python",
   "name": "conda-env-metis-py"
  },
  "language_info": {
   "codemirror_mode": {
    "name": "ipython",
    "version": 3
   },
   "file_extension": ".py",
   "mimetype": "text/x-python",
   "name": "python",
   "nbconvert_exporter": "python",
   "pygments_lexer": "ipython3",
   "version": "3.6.8"
  },
  "toc": {
   "base_numbering": 1,
   "nav_menu": {},
   "number_sections": true,
   "sideBar": true,
   "skip_h1_title": false,
   "title_cell": "Table of Contents",
   "title_sidebar": "Contents",
   "toc_cell": false,
   "toc_position": {},
   "toc_section_display": true,
   "toc_window_display": false
  },
  "varInspector": {
   "cols": {
    "lenName": 16,
    "lenType": 16,
    "lenVar": 40
   },
   "kernels_config": {
    "python": {
     "delete_cmd_postfix": "",
     "delete_cmd_prefix": "del ",
     "library": "var_list.py",
     "varRefreshCmd": "print(var_dic_list())"
    },
    "r": {
     "delete_cmd_postfix": ") ",
     "delete_cmd_prefix": "rm(",
     "library": "var_list.r",
     "varRefreshCmd": "cat(var_dic_list()) "
    }
   },
   "types_to_exclude": [
    "module",
    "function",
    "builtin_function_or_method",
    "instance",
    "_Feature"
   ],
   "window_display": false
  }
 },
 "nbformat": 4,
 "nbformat_minor": 2
}
